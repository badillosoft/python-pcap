{
 "cells": [
  {
   "cell_type": "markdown",
   "metadata": {},
   "source": [
    "# Proyecto Final - Bot contador de frutas\n",
    "\n",
    "Un archivo texto contiene un montón de palabras de las cuáles muchas son de frutas, todas las palabras están en minúsculas y separadas por espacios, por ejemplo:\n",
    "\n",
    "`un dia pedro comió una manzana y le gustó más que la pera`\n",
    "\n",
    "El objetivo es construir un programa a tráves de una clase llama `BotFruta`, el cuál abra el archivo y lea todas las palabras, cada palabra debe ser almacenada en una lista (dentro del objeto) bajo la propiedad `palabras = []`. Para lograrlo recibiremos en el constructor el nombre del archivo que contiene las palabras e inmediatamente leeremos el archivo, obtendremos su contenido, cerraremos el archivo, cortaremos las líneas del archivo y para cada línea cortaremos sus palabras separadas por espacio ` `. Luego cada palabra la guardaremos en nuestra lista de palabras (atributo `self.palabras`).\n",
    "\n",
    "Esto se vería más o menos como `bot = BotFruta(\"frutas.txt\")` y podremos acceder a `bot.palabras` que contendrá la lista de todas las palabras.\n",
    "\n",
    "Luego debemos crear un método para contar todas las frutas de una lista, por ejemplo, `bot.contarFrutas(frutas=[\"manzana\", \"pera\", \"mango\"])` y deberá devolver un diccionario con cada fruta y su conteo, por ejemplo, `{\"manzana\": 1, \"pera\": 1, \"mango\": 0}`. Considera que cada clave en diccionario de conteo es cada fruta pasada en el argumento etiqueta `frutas=...`.\n",
    "\n",
    "Finalmente, se debe contener un método que imprima una tabla formateada de las futas y su conteo, por ejemplo, para el diccionario `{\"manzana\": 1, \"pera\": 1, \"mango\": 0}`, hacemos `bot.mostrarConteoFrutas(frutas={\"manzana\": 1, \"pera\": 1, \"mango\": 0})` y debería imprimir algo como:\n",
    "\n",
    "fruta | cantidad\n",
    "--- | ---\n",
    "manzana | 1\n",
    "pera | 1\n",
    "mango | 0\n",
    "\n",
    "En realidad la cadena de texto quedaría como `fruta | cantidad\\n--- | ---\\nmanzana | 1\\npera | 1\\nmango | 0`"
   ]
  },
  {
   "cell_type": "code",
   "execution_count": null,
   "metadata": {},
   "outputs": [],
   "source": []
  }
 ],
 "metadata": {
  "kernelspec": {
   "display_name": "Python 3",
   "language": "python",
   "name": "python3"
  },
  "language_info": {
   "codemirror_mode": {
    "name": "ipython",
    "version": 3
   },
   "file_extension": ".py",
   "mimetype": "text/x-python",
   "name": "python",
   "nbconvert_exporter": "python",
   "pygments_lexer": "ipython3",
   "version": "3.7.3"
  }
 },
 "nbformat": 4,
 "nbformat_minor": 2
}
