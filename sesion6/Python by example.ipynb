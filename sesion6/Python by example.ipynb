{
 "cells": [
  {
   "cell_type": "code",
   "execution_count": 7,
   "metadata": {},
   "outputs": [
    {
     "name": "stdout",
     "output_type": "stream",
     "text": [
      "Integral (Área total bajo la curva) es 291.6666666667001\n"
     ]
    }
   ],
   "source": [
    "a = 5\n",
    "b = 10\n",
    "\n",
    "f = lambda x: x ** 2\n",
    "\n",
    "n = 1000000\n",
    "\n",
    "puntos = []\n",
    "\n",
    "s = 0\n",
    "\n",
    "for i in range(n):\n",
    "    xi = a + i * (b - a) / n\n",
    "    yi = f(xi)\n",
    "    \n",
    "    xf = a + (i + 1) * (b - a) / n\n",
    "    yf = f(xf)\n",
    "    \n",
    "    A = (xf - xi) * (yi + yf) / 2 \n",
    "    \n",
    "    s += A\n",
    "    \n",
    "print(\"Integral (Área total bajo la curva) es\", s)"
   ]
  },
  {
   "cell_type": "code",
   "execution_count": 8,
   "metadata": {},
   "outputs": [
    {
     "data": {
      "text/plain": [
       "291.66666666666663"
      ]
     },
     "execution_count": 8,
     "metadata": {},
     "output_type": "execute_result"
    }
   ],
   "source": [
    "10 ** 3 / 3 - 5 ** 3 / 3"
   ]
  },
  {
   "cell_type": "code",
   "execution_count": 9,
   "metadata": {},
   "outputs": [
    {
     "data": {
      "text/plain": [
       "(291.66666666666663, 3.2381504884900396e-12)"
      ]
     },
     "execution_count": 9,
     "metadata": {},
     "output_type": "execute_result"
    }
   ],
   "source": [
    "from scipy import integrate\n",
    "\n",
    "integrate.quad(f, a, b)"
   ]
  },
  {
   "cell_type": "code",
   "execution_count": 18,
   "metadata": {},
   "outputs": [
    {
     "data": {
      "text/plain": [
       "[1, 2, 3, 4, 5, 7, 8, 9, 10, 11, 12, 13, 14]"
      ]
     },
     "execution_count": 18,
     "metadata": {},
     "output_type": "execute_result"
    }
   ],
   "source": [
    "tree = [1, 2, 3, 4, 5, 7, 8, 9, 10, 11, 12, 13, 14]\n",
    "\n",
    "tree"
   ]
  },
  {
   "cell_type": "code",
   "execution_count": 19,
   "metadata": {},
   "outputs": [],
   "source": [
    "def print_bintree(tree, ip):\n",
    "    if ip >= len(tree):\n",
    "        return \"*\"\n",
    "    il = 2 * ip + 1\n",
    "    ir = 2 * ip + 2\n",
    "    return \"({}) [{}, {}]\".format(tree[ip], print_bintree(tree, il), print_bintree(tree, ir))"
   ]
  },
  {
   "cell_type": "code",
   "execution_count": 20,
   "metadata": {},
   "outputs": [
    {
     "data": {
      "text/plain": [
       "'(1) [(2) [(4) [(9) [*, *], (10) [*, *]], (5) [(11) [*, *], (12) [*, *]]], (3) [(7) [(13) [*, *], (14) [*, *]], (8) [*, *]]]'"
      ]
     },
     "execution_count": 20,
     "metadata": {},
     "output_type": "execute_result"
    }
   ],
   "source": [
    "print_bintree(tree, 0)"
   ]
  },
  {
   "cell_type": "markdown",
   "metadata": {},
   "source": [
    "# Estructuras de datos\n",
    "\n",
    "* Pilas (stacks)\n",
    "* Colas (queue)\n",
    "* Listas ligadas (linked lists)\n",
    "* Árboles, Grafos (trees, graphs)\n",
    "\n",
    "# Algoritmos\n",
    "\n",
    "* Complejidad y orden\n",
    "* Recursividad, divide y vencerás\n",
    "* Programación dinámica\n",
    "* Métodos numéricos, métodos heurísticos"
   ]
  },
  {
   "cell_type": "code",
   "execution_count": null,
   "metadata": {},
   "outputs": [],
   "source": [
    "tree = {\n",
    "    \"1\": [\n",
    "        {\n",
    "            \"2\": [\n",
    "                {\n",
    "                    \"4\": [],\n",
    "                    \"5\": []\n",
    "                }\n",
    "            ],\n",
    "            \"3\": [\n",
    "                {\n",
    "                    \n",
    "                }\n",
    "            ]\n",
    "        }\n",
    "    ]\n",
    "}"
   ]
  },
  {
   "cell_type": "code",
   "execution_count": null,
   "metadata": {},
   "outputs": [],
   "source": [
    "tree = (\n",
    "    1, ((2, (4, None), (5, None)), (3, None))\n",
    ")"
   ]
  }
 ],
 "metadata": {
  "kernelspec": {
   "display_name": "Python 3",
   "language": "python",
   "name": "python3"
  },
  "language_info": {
   "codemirror_mode": {
    "name": "ipython",
    "version": 3
   },
   "file_extension": ".py",
   "mimetype": "text/x-python",
   "name": "python",
   "nbconvert_exporter": "python",
   "pygments_lexer": "ipython3",
   "version": "3.7.3"
  }
 },
 "nbformat": 4,
 "nbformat_minor": 2
}
