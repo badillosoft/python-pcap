{
 "cells": [
  {
   "cell_type": "markdown",
   "metadata": {},
   "source": [
    "# Sesión 3 - Ejercicios"
   ]
  },
  {
   "cell_type": "markdown",
   "metadata": {},
   "source": [
    "## 1. Contar los divisores de 2 y 3 en un lista\n",
    "\n",
    "Dada una lista de números enteros, se desea determinar cuántos números son divisibles por 2 y por 3 al mismo tiempo. Crear una función llamada `divisores23(lista)` que reciba la lista números y cuente cuántos son divisibles por 2 (`n % 2 == 0`) y por 3 (`n % 3 == 0`) al mismo tiempo."
   ]
  },
  {
   "cell_type": "code",
   "execution_count": null,
   "metadata": {},
   "outputs": [],
   "source": [
    "def divisores23(lista):\n",
    "    c = 0\n",
    "    for n in lista:\n",
    "        if ( n % 2 ==0 ) and ( n % 3 ==0 ):\n",
    "            c = c + 1 \n",
    "    return c\n",
    "\n",
    "resultado = divisores23([1, 5, 7, 9, 12, 20, 24, 96])\n",
    "\n",
    "print(resultado)\n",
    "\n",
    "## c = 0, n = 1, -\n",
    "## c = 0, n = 5, -\n",
    "## c = 0, n= 7, -\n",
    "## c = 0, n = 9, -\n",
    "## c = 0, n = 12, c=1\n",
    "## c = 1, n = 20, -\n",
    "## c = 1, n = 24, c=2\n",
    "## c = 2, n = 96, c=3 "
   ]
  },
  {
   "cell_type": "markdown",
   "metadata": {},
   "source": [
    "## 2. Ordenar una lista con el método de la burbuja\n",
    "\n",
    "El método de ordenamiento de burbuja consiste en seleccionar el número más grande y moverlo al final de la lista o en una nueva lista, puede ser el más grande o el más pequeño. La otra lista quedará ordenada. Podemos resolverlo de varias formas, una de ellas es recorrer cada elemento y obtener el mínimo o máximo y colocarlo en otra lista.\n",
    "\n",
    "1. Repetir N veces (N es el tamaño de la lista)\n",
    "2. Buscar el menor elemento en la lista\n",
    "3. Agregarlo a una nueva lista\n",
    "4. Quitar el elemento de la lista"
   ]
  },
  {
   "cell_type": "code",
   "execution_count": null,
   "metadata": {},
   "outputs": [],
   "source": [
    "def ordenaBurbuja(lista):\n",
    "  listaOrdenada = []\n",
    "\n",
    "  n = len(lista) #Tamaño lista\n",
    "  for i in range(0, n): #Repetir n veces\n",
    "    x = min(lista)\n",
    "    listaOrdenada.append(x)\n",
    "    lista.remove(x)\n",
    "\n",
    "  return listaOrdenada\n",
    "\n",
    "listaUsuario = [3, 5, 8, 10, 12, 15, 1, 23, 4, 3]\n",
    "\n",
    "resultado = ordenaBurbuja(listaUsuario)\n",
    "\n",
    "print(resultado)"
   ]
  },
  {
   "cell_type": "markdown",
   "metadata": {},
   "source": [
    "## 3. Ordenar una lista con el método de la insersión\n",
    "\n",
    "El algoritmo consiste en recorrer cada elemento e insertarlo antes del elemento mayor, esto debe ser repetido n veces por cada número, para garantizar que ya está ordenada la lista.\n",
    "\n",
    "Ejemplo:\n",
    "\n",
    "Por ordenar: 3, 5, 8, 10, 12, 15, 1, 23, 4, 3\n",
    "\n",
    "Iteración 1: (0:) 3 [5, 8, 10, 12, 15, 1, 23, 4, 3] -> [3, 5, 8, 10, 12, 15, 1, 23, 4, 3]\n",
    "Iteración 2: (1:) 1 [3, 5, 8, 10, 12, 15, 23, 4, 3] -> [1, 3, 5, 8, 10, 12, 15, 23, 4, 3]\n",
    "Iteración 3: (2:) 3 [1, 3, 5, 8, 10, 12, 15, 23, 4] -> [1, 3, 3, 5, 8, 10, 12, 15, 23, 4]\n",
    "Iteración 4: (3:) 4 [1, 3, 3, 5, 8, 10, 12, 15, 23] -> [1, 3, 3, 4, 5, 8, 10, 12, 15, 23]\n",
    "\n",
    "1. Repetir N veces pasos 2, 3, 4, .. (N es el tamaño de lista)\n",
    "2. Partir la lista en dos izquierda [:i] y derecha [i:] (a la iteración)\n",
    "3. Encontrar el mínimo dentro de la sublista derecha [i:]\n",
    "4. Quitar el mínimo de la sublista derecha\n",
    "5. Agregar el mínimo en la sublista izquierda\n",
    "6. Reemplazar la lista por la unión de las dos sublistas\n",
    "\n",
    "(0) [5, 8, 10, 12, 15, 1, 23, 4, 3] -> izq [] y der [5, 8, 10, 12, 15, 1, 23, 4, 3] -> min 1 -> der [5, 8, 10, 12, 15, 23, 4, 3] -> izq [1] -> [1, 5, 8, 10, 12, 15, 23, 4, 3]\n",
    "(1) [1, 5, 8, 10, 12, 15, 23, 4, 3] -> izq [1] y der [5, 8, 10, 12, 15, 23, 4, 3] -> min 3 -> der [5, 8, 10, 12, 15, 23, 4] -> izq [1, 3] -> [1, 3, 5, 8, 10, 12, 15, 23, 4]"
   ]
  },
  {
   "cell_type": "code",
   "execution_count": null,
   "metadata": {},
   "outputs": [],
   "source": [
    "[November 28, 2020, 12:31 PM] ‹Samantha›: #Funcióndef insercion(lista):\n",
    "    N = len(lista) \n",
    "    \n",
    "    for i in range(N):\n",
    "        izq = lista [:i]\n",
    "        der = lista [i:]\n",
    "        \n",
    "        x =min(der)\n",
    "        der.remove(x)\n",
    "        izq.append(x)\n",
    "        \n",
    "        lista = []\n",
    "        lista.extend(izq)\n",
    "        lista.extend(der)\n",
    "    return lista\n",
    "[November 28, 2020, 12:32 PM] ‹Samantha›: #Principal\n",
    "[November 28, 2020, 12:32 PM] ‹Samantha›: import ordenamiento\n",
    "\n",
    "lista = [200, 4, 7, 98, 34, 1, 67]\n",
    "\n",
    "resultado = ordenamiento.insercion(lista)\n",
    "print (resultado)"
   ]
  },
  {
   "cell_type": "markdown",
   "metadata": {},
   "source": [
    "## 4. Ordenar una lista con el método del mezclado (merge)\n",
    "\n",
    "Este algoritmo implica recursividad, es decir, volver a llamar a la misma función, lo que se hace es partir la lista en dos listas a la midad, ordenar recursivamente cada mitad y luego mezclar ambas listas, por ejemplo:\n",
    "\n",
    "[5, 8, 10, 12, 15, 1, 23, 4, 3] -> [5, 8, 10, 12, 15], [1, 23, 4, 3]\n",
    "-> [5, 8, 10, 12, 15] -> [5, 8, 10], [12, 15]\n",
    "-> [5, 8, 10] -> [5, 8], [10]\n",
    "-> [5, 8] -> [5], [8]\n",
    "-> [5] + [8]\n",
    "-> [5, 8]\n",
    "-> [5, 8] + [10] -> [5, 8, 10]\n",
    "-> [5, 8, 10] + [12, 15] -> [5, 8, 10, 12, 15]\n",
    "\n",
    "1. Encontrar el índice de la mitad del tamaño de la lista (pivote)\n",
    "2. Encontrar todos los valores menores al pivote y ponerlos en la lista izq\n",
    "3. Encontrar todos los valores mayores al pivote y ponerlos en la derecha\n",
    "4. Juntar ordenar(izq), pivote, ordenar(der)\n",
    "\n",
    "* La condición de paro, será que la lista tenga menos de dos elementos."
   ]
  },
  {
   "cell_type": "code",
   "execution_count": null,
   "metadata": {},
   "outputs": [],
   "source": [
    "def merge(lista):\n",
    "  if len(lista) <= 1:\n",
    "    return lista\n",
    "\n",
    "  indice = int(len(lista) / 2)\n",
    "\n",
    "  # obtenemos y quitamos el pivote de la lista\n",
    "  pivote = lista.pop(indice)\n",
    " \n",
    "  #izq = [x for x in lista if x < pivote]\n",
    "  # Obtenemos los valores menores al pivote\n",
    "  izq = []\n",
    "  for x in lista:\n",
    "    if x < pivote:\n",
    "      izq.append(x)\n",
    "\n",
    "  # Obtenemos os valores mayores al pivote\n",
    "  der = [x for x in lista if x > pivote]\n",
    "\n",
    "  lista = []\n",
    "  lista.extend(merge(izq))\n",
    "  lista.append(pivote)\n",
    "  lista.extend(merge(der))\n",
    "\n",
    "  return lista\n",
    "\n",
    "resultado = merge([12, 8, 2, 1, 56, 9])\n",
    "print(resultado)\n",
    "  "
   ]
  },
  {
   "cell_type": "markdown",
   "metadata": {},
   "source": [
    "## 5. Función de corte para valores continuos dentro de una distribución normal\n",
    "\n",
    "Solicitar valores aletorios mientras no se ajusten a un rango dentro de una distribución normal.\n",
    "\n",
    "La función se llama `pedirValores(p, ds) -> [valores]` mientras el valor leído de teclado esté fuera del rango (-3 * ds + p, 3 * ds + p)\n",
    "\n",
    "Ejemplo:\n",
    "\n",
    "pedirValores(2, 0.5) -> [-4, -3.8, 6, 5, 7.2, -3.6] pedir valores mientras estén fuera del rango (-3.5, 3.5)"
   ]
  },
  {
   "cell_type": "code",
   "execution_count": null,
   "metadata": {},
   "outputs": [],
   "source": [
    "def pedirValores(p, ds):\n",
    "  valores= []\n",
    "  while True:\n",
    "    x = float(input(\"Dame un valor: \"))\n",
    "    if x >= (-3 * ds + p) and x <= (3 * ds + p):\n",
    "      return valores\n",
    "    valores.append(x)\n",
    "\n",
    "resultado = pedirValores(1.9,0.5)\n",
    "\n",
    "print(resultado)"
   ]
  },
  {
   "cell_type": "markdown",
   "metadata": {},
   "source": [
    "## 6. Mezcla de cadenas genéticas\n",
    "\n",
    "[\"A\", \"C\", \"T\", \"G\", \"A\"] y [\"A\", \"T\", \"C\", \"C\"]\n",
    "\n",
    "Extraer una cadena genética (un archivo con caracteres ACGT)\n",
    "Extraer otra cadena genética (otro archivo con caracteres ACGT)\n",
    "Mezclar ambas cadenas y guardarlas en otro archivo"
   ]
  },
  {
   "cell_type": "code",
   "execution_count": null,
   "metadata": {},
   "outputs": [],
   "source": []
  }
 ],
 "metadata": {
  "kernelspec": {
   "display_name": "Python 3",
   "language": "python",
   "name": "python3"
  },
  "language_info": {
   "codemirror_mode": {
    "name": "ipython",
    "version": 3
   },
   "file_extension": ".py",
   "mimetype": "text/x-python",
   "name": "python",
   "nbconvert_exporter": "python",
   "pygments_lexer": "ipython3",
   "version": "3.9.0"
  }
 },
 "nbformat": 4,
 "nbformat_minor": 4
}
