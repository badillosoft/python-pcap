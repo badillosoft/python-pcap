{
 "cells": [
  {
   "cell_type": "markdown",
   "metadata": {},
   "source": [
    "# Control de Flujo y estructuras condicionales"
   ]
  },
  {
   "cell_type": "markdown",
   "metadata": {},
   "source": [
    "Un programa generalmente se guía de un flujo principal, llamado el FLUJO PRINCIPAL o HILO PRINCIPAL. Este flujo tradicionalmente ejecuta nuestros programas linealmente, tomando línea por línea e interpretando. Sin embargo, existen estructuras que podemos utilizar para cambiar el control del flujo. Estas estructuras están relacionadas a la lógica del programa que generalemente se describe mediante un `Diagrama de flujo` o un `Algoritmo y Pseudocódigo`."
   ]
  },
  {
   "cell_type": "markdown",
   "metadata": {},
   "source": [
    "Ejemplo.\n",
    "\n",
    "Imaginemos que tenemos que construir un robot que realice una serie de tareas y tome decisiones con base a su contexto. Para ello necesita tres tipos de estructuras lógicas, que son, tomar decisiones basado en una condición (1), repetir una secuencia de pasos determinados por un iterador (2), repetir una secuencia de pasos determinados por una condición (3).\n",
    "\n",
    "Programar un robot, que realice las siguientes tareas:\n",
    "\n",
    "1. Preguntar si el sensor de distancia está prendido\n",
    "2. Avanzar mientras la distancia marcada por el sensor sea menor o igual 1\n",
    "3. Girar a la izquierda bajo la siguiente rutina: Repetir 4 veces \n",
    "    * 3.1 Prender motor izquierdo\n",
    "    * 3.2 Esperar 1 segundo\n",
    "    * 3.3 Apagar motor izquiero"
   ]
  },
  {
   "cell_type": "code",
   "execution_count": 9,
   "metadata": {},
   "outputs": [
    {
     "name": "stdout",
     "output_type": "stream",
     "text": [
      "Avanzando... (10)\n",
      "Avanzando... (9)\n",
      "Avanzando... (8)\n",
      "Avanzando... (7)\n",
      "Avanzando... (6)\n",
      "Avanzando... (5)\n",
      "Avanzando... (4)\n",
      "Avanzando... (3)\n",
      "Avanzando... (2)\n",
      "Avanzando... (1)\n",
      "----------------------------------------\n",
      "Motor izquierdo prendido\n",
      "Esperando 1 segundo\n",
      "Motor izquierdo apagado\n",
      "----------------------------------------\n",
      "Motor izquierdo prendido\n",
      "Esperando 1 segundo\n",
      "Motor izquierdo apagado\n",
      "----------------------------------------\n",
      "Motor izquierdo prendido\n",
      "Esperando 1 segundo\n",
      "Motor izquierdo apagado\n",
      "----------------------------------------\n",
      "Motor izquierdo prendido\n",
      "Esperando 1 segundo\n",
      "Motor izquierdo apagado\n"
     ]
    }
   ],
   "source": [
    "# Las variables pueden contener letras y números en mayúsculas y mínusculas y separadores guiones bajos (_)\n",
    "# Pero no pueden empezar nunca por un número, ejemplo, no es válido: 1persona, 12_robot\n",
    "PRENDIDO = True\n",
    "distancia = 10\n",
    "\n",
    "# 1\n",
    "if PRENDIDO:\n",
    "    # 2\n",
    "    while distancia >= 1:\n",
    "        # 3\n",
    "        print(f\"Avanzando... ({distancia})\")\n",
    "        distancia -= 1 # distancia = distancia - 1\n",
    "    # La indentanción (alineado de código) indica que for no está dentro de while\n",
    "    # CUIDADO: Una mala indentación lleva a una lógica complemente distinta\n",
    "    # 2\n",
    "    for i in range(4): # 0, 1, 2, 3\n",
    "        print(\"--\" * 20)\n",
    "        print(\"Motor izquierdo prendido\")\n",
    "        print(\"Esperando 1 segundo\")\n",
    "        print(\"Motor izquierdo apagado\")"
   ]
  },
  {
   "cell_type": "markdown",
   "metadata": {},
   "source": [
    "## Estructura IF\n",
    "\n",
    "Una condicional, es una estructura basada en una condición (un predicado) que ejecuta o repite un bloque de código si la condición se cumple (`if`) o mientras la condición se cumple (`while`).\n",
    "\n",
    "La estructura `if` comprueba una condición y ejecuta un bloque de ser cierta, sino, asocia condiciones alternas como `elif` la cuál pruegunta otra condición (opcionalmente) o `else` que ejecuta un bloque cuándo ninguna condición anterior se cumple (opcional)."
   ]
  },
  {
   "cell_type": "code",
   "execution_count": 28,
   "metadata": {},
   "outputs": [
    {
     "name": "stdout",
     "output_type": "stream",
     "text": [
      "12 > 5\n"
     ]
    }
   ],
   "source": [
    "if 12 > 5:\n",
    "    print(\"12 > 5\")"
   ]
  },
  {
   "cell_type": "code",
   "execution_count": 11,
   "metadata": {},
   "outputs": [],
   "source": [
    "if 5 > 12:\n",
    "    print(\"5 > 12\")"
   ]
  },
  {
   "cell_type": "code",
   "execution_count": 12,
   "metadata": {},
   "outputs": [
    {
     "name": "stdout",
     "output_type": "stream",
     "text": [
      "5 no es mayor a 12\n"
     ]
    }
   ],
   "source": [
    "if 5 > 12:\n",
    "    print(\"5 > 12\")\n",
    "else:\n",
    "    print(\"5 no es mayor a 12\")"
   ]
  },
  {
   "cell_type": "code",
   "execution_count": null,
   "metadata": {},
   "outputs": [],
   "source": [
    "La estructura `if` sòlo puede asociar un `else` y este debe ir al final después de los `elif`"
   ]
  },
  {
   "cell_type": "code",
   "execution_count": 15,
   "metadata": {},
   "outputs": [
    {
     "name": "stdin",
     "output_type": "stream",
     "text": [
      "Dame un número 0\n"
     ]
    },
    {
     "name": "stdout",
     "output_type": "stream",
     "text": [
      "0 es cero\n"
     ]
    }
   ],
   "source": [
    "x = int( input(\"Dame un número\") )\n",
    "\n",
    "if x > 0:\n",
    "    print(f\"{x} es positivo estricto\")\n",
    "elif x < 0:\n",
    "    print(f\"{x} es negativo estricto\")\n",
    "else:\n",
    "    print(f\"{x} es cero\")"
   ]
  },
  {
   "cell_type": "code",
   "execution_count": 18,
   "metadata": {},
   "outputs": [
    {
     "name": "stdin",
     "output_type": "stream",
     "text": [
      "Dame un número 77\n"
     ]
    },
    {
     "name": "stdout",
     "output_type": "stream",
     "text": [
      "77 es mayor a 60\n"
     ]
    }
   ],
   "source": [
    "x = int( input(\"Dame un número\") )\n",
    "\n",
    "if x > 5 and x <= 12:\n",
    "    print(f\"{x} pertenece a (5, 12]\")\n",
    "elif x > 12 and x <= 24:\n",
    "    print(f\"{x} pertenece a (12, 24]\")\n",
    "elif x > 24 and x <= 60:\n",
    "    print(f\"{x} pertenece a (24, 60]\")\n",
    "elif x > 60:\n",
    "    print(f\"{x} es mayor a 60\")\n",
    "else:\n",
    "    print(f\"{x} es menor o igual a 5\")"
   ]
  },
  {
   "cell_type": "markdown",
   "metadata": {},
   "source": [
    "## Estructura WHILE\n",
    "\n",
    "Otra condicional es `while` y repite un bloque de código mientras la condición asociada se cumpla."
   ]
  },
  {
   "cell_type": "code",
   "execution_count": 21,
   "metadata": {},
   "outputs": [
    {
     "name": "stdout",
     "output_type": "stream",
     "text": [
      "10\n",
      "8\n",
      "6\n",
      "4\n",
      "2\n"
     ]
    }
   ],
   "source": [
    "# CUIDADO: Si la condición no cambia, el ciclo se repetirá indeterminadamente\n",
    "\n",
    "a = 10\n",
    "\n",
    "while a > 0:\n",
    "    print(a)\n",
    "    a -= 2"
   ]
  },
  {
   "cell_type": "code",
   "execution_count": 23,
   "metadata": {},
   "outputs": [
    {
     "name": "stdin",
     "output_type": "stream",
     "text": [
      "Dame el valor de a: 3\n"
     ]
    },
    {
     "name": "stdout",
     "output_type": "stream",
     "text": [
      "3^2 = 9\n"
     ]
    },
    {
     "name": "stdin",
     "output_type": "stream",
     "text": [
      "Dame el valor de a: 6\n"
     ]
    },
    {
     "name": "stdout",
     "output_type": "stream",
     "text": [
      "6^2 = 36\n"
     ]
    },
    {
     "name": "stdin",
     "output_type": "stream",
     "text": [
      "Dame el valor de a: 7\n"
     ]
    },
    {
     "name": "stdout",
     "output_type": "stream",
     "text": [
      "7^2 = 49\n"
     ]
    },
    {
     "name": "stdin",
     "output_type": "stream",
     "text": [
      "Dame el valor de a: -1\n"
     ]
    },
    {
     "name": "stdout",
     "output_type": "stream",
     "text": [
      "-1^2 = 1\n"
     ]
    }
   ],
   "source": [
    "a = None\n",
    "\n",
    "while a == None or a >= 0:\n",
    "    a = int( input(\"Dame el valor de a:\") )\n",
    "    print(f\"{a}^2 = {a ** 2}\")"
   ]
  },
  {
   "cell_type": "code",
   "execution_count": 27,
   "metadata": {},
   "outputs": [
    {
     "name": "stdin",
     "output_type": "stream",
     "text": [
      "Dame el valor de a: 3\n"
     ]
    },
    {
     "name": "stdout",
     "output_type": "stream",
     "text": [
      "3^2 = 9\n"
     ]
    },
    {
     "name": "stdin",
     "output_type": "stream",
     "text": [
      "Dame el valor de a: 4\n"
     ]
    },
    {
     "name": "stdout",
     "output_type": "stream",
     "text": [
      "4^2 = 16\n"
     ]
    },
    {
     "name": "stdin",
     "output_type": "stream",
     "text": [
      "Dame el valor de a: 5\n"
     ]
    },
    {
     "name": "stdout",
     "output_type": "stream",
     "text": [
      "5^2 = 25\n"
     ]
    },
    {
     "name": "stdin",
     "output_type": "stream",
     "text": [
      "Dame el valor de a: -1\n"
     ]
    },
    {
     "name": "stdout",
     "output_type": "stream",
     "text": [
      "Después del while\n"
     ]
    }
   ],
   "source": [
    "a = None\n",
    "\n",
    "while a == None or a >= 0:\n",
    "    a = int( input(\"Dame el valor de a:\") )\n",
    "    \n",
    "    if a < 0:\n",
    "        break # Rompemos manualmente el ciclo inmediato para no imprimir el último valor\n",
    "    \n",
    "    print(f\"{a}^2 = {a ** 2}\")\n",
    "\n",
    "print(\"Después del while\")"
   ]
  },
  {
   "cell_type": "code",
   "execution_count": 25,
   "metadata": {},
   "outputs": [
    {
     "name": "stdin",
     "output_type": "stream",
     "text": [
      "Dame el valor de a: 3\n"
     ]
    },
    {
     "name": "stdout",
     "output_type": "stream",
     "text": [
      "3^2 = 9\n"
     ]
    },
    {
     "name": "stdin",
     "output_type": "stream",
     "text": [
      "Dame el valor de a: 11\n",
      "Dame el valor de a: 13\n",
      "Dame el valor de a: 9\n"
     ]
    },
    {
     "name": "stdout",
     "output_type": "stream",
     "text": [
      "9^2 = 81\n"
     ]
    },
    {
     "name": "stdin",
     "output_type": "stream",
     "text": [
      "Dame el valor de a: 0\n"
     ]
    },
    {
     "name": "stdout",
     "output_type": "stream",
     "text": [
      "0^2 = 0\n"
     ]
    },
    {
     "name": "stdin",
     "output_type": "stream",
     "text": [
      "Dame el valor de a: -1\n"
     ]
    }
   ],
   "source": [
    "a = None\n",
    "\n",
    "while a == None or a >= 0:\n",
    "    a = int( input(\"Dame el valor de a:\") )\n",
    "    \n",
    "    if a < 0:\n",
    "        break # Rompemos manualmente el ciclo inmediato para no imprimir el último valor\n",
    "    \n",
    "    if a > 10:\n",
    "        continue # Continuamos el ciclo (volvemos a evaluar la condición) sin procesar las líneas de abajo\n",
    "    \n",
    "    print(f\"{a}^2 = {a ** 2}\")"
   ]
  },
  {
   "cell_type": "markdown",
   "metadata": {},
   "source": [
    "## Estructura FOR\n",
    "\n",
    "La estructura de control `for` permite repetir un bloque de código basado en un iterando y un iterable. El iterable es un secuenciador (o una secuencia) que es recorrida y su valor recorrido es retenido en un iterando. El iterando es el valor actual disponible en bloque de código como una variable.\n",
    "\n",
    "Una de las secuencias más utilizadas son los rangos, los cuáles empiezan a recorrer valores definidos en un rango numérico que incrementa automáticamente."
   ]
  },
  {
   "cell_type": "code",
   "execution_count": 30,
   "metadata": {},
   "outputs": [
    {
     "name": "stdout",
     "output_type": "stream",
     "text": [
      "0\n",
      "1\n",
      "2\n",
      "3\n",
      "4\n"
     ]
    }
   ],
   "source": [
    "# Los rangos pueden definirse de tres formas:\n",
    "# 1- Desde cero hasta un límite sin tocarlo\n",
    "# 2- Desde un valor hasta un límite sin tocarlo\n",
    "# 3- Desde un valor hasta un límite sin tocarlo, con saltos definidos\n",
    "\n",
    "for iterador in range(5):\n",
    "    print(iterador)"
   ]
  },
  {
   "cell_type": "code",
   "execution_count": 31,
   "metadata": {},
   "outputs": [
    {
     "name": "stdout",
     "output_type": "stream",
     "text": [
      "1\n",
      "2\n",
      "3\n",
      "4\n"
     ]
    }
   ],
   "source": [
    "for i in range(1, 5):\n",
    "    print(i)"
   ]
  },
  {
   "cell_type": "code",
   "execution_count": 33,
   "metadata": {},
   "outputs": [
    {
     "name": "stdout",
     "output_type": "stream",
     "text": [
      "5\n",
      "10\n",
      "15\n",
      "20\n",
      "25\n",
      "30\n",
      "35\n"
     ]
    }
   ],
   "source": [
    "for i in range(5, 40, 5):\n",
    "    print(i)"
   ]
  },
  {
   "cell_type": "code",
   "execution_count": 34,
   "metadata": {},
   "outputs": [
    {
     "name": "stdout",
     "output_type": "stream",
     "text": [
      "5\n",
      "10\n",
      "15\n",
      "20\n",
      "25\n",
      "30\n",
      "35\n"
     ]
    }
   ],
   "source": [
    "for i in range(5, 36, 5):\n",
    "    print(i)"
   ]
  },
  {
   "cell_type": "code",
   "execution_count": 35,
   "metadata": {},
   "outputs": [
    {
     "name": "stdout",
     "output_type": "stream",
     "text": [
      "10\n",
      "9\n",
      "8\n",
      "7\n",
      "6\n",
      "5\n",
      "4\n",
      "3\n",
      "2\n"
     ]
    }
   ],
   "source": [
    "for i in range(10, 1, -1):\n",
    "    print(i)"
   ]
  },
  {
   "cell_type": "markdown",
   "metadata": {},
   "source": [
    "Ejemplo.\n",
    "\n",
    "Sumar todos los valores del 1 al 100 (inclusive el 100)"
   ]
  },
  {
   "cell_type": "code",
   "execution_count": 37,
   "metadata": {},
   "outputs": [
    {
     "data": {
      "text/plain": [
       "5050"
      ]
     },
     "execution_count": 37,
     "metadata": {},
     "output_type": "execute_result"
    }
   ],
   "source": [
    "s = 0 # s será la variable que retenga nuestra suma, comenzando en cero\n",
    "\n",
    "for i in range(1, 101):\n",
    "    s += i # s = s + i\n",
    "    \n",
    "s # 0 + (1 + 2 + 3 + ... + 99 + 100) = 5050"
   ]
  },
  {
   "cell_type": "markdown",
   "metadata": {},
   "source": [
    "Ejemplo.\n",
    "\n",
    "Sumar los valores al cuadrado del 1 al 100 (inclusive el 100)"
   ]
  },
  {
   "cell_type": "code",
   "execution_count": 38,
   "metadata": {},
   "outputs": [
    {
     "data": {
      "text/plain": [
       "338350"
      ]
     },
     "execution_count": 38,
     "metadata": {},
     "output_type": "execute_result"
    }
   ],
   "source": [
    "s = 0\n",
    "\n",
    "for i in range(1, 101):\n",
    "    s += i ** 2 # s = s + (i ** 2)\n",
    "    \n",
    "s # 0 + (1^2 + 2^2 + 3^2 + ... + 99^2 + 100^2) = 338350"
   ]
  },
  {
   "cell_type": "markdown",
   "metadata": {},
   "source": [
    "También podemos usar `for` para recorrer otro tipo de secuencias, como tuplas, listas, diccionarios, etc."
   ]
  },
  {
   "cell_type": "code",
   "execution_count": 39,
   "metadata": {},
   "outputs": [
    {
     "name": "stdout",
     "output_type": "stream",
     "text": [
      "123\n",
      "True\n",
      "Hola\n"
     ]
    }
   ],
   "source": [
    "a = (123, True, \"Hola\")\n",
    "\n",
    "for x in a:\n",
    "    print(x)"
   ]
  },
  {
   "cell_type": "code",
   "execution_count": 40,
   "metadata": {},
   "outputs": [
    {
     "name": "stdout",
     "output_type": "stream",
     "text": [
      "La fruta es manzana\n",
      "La fruta es pera\n",
      "La fruta es mango\n"
     ]
    }
   ],
   "source": [
    "frutas = [\"manzana\", \"pera\", \"mango\"]\n",
    "\n",
    "for fruta in frutas:\n",
    "    print(f\"La fruta es {fruta}\")"
   ]
  },
  {
   "cell_type": "code",
   "execution_count": 41,
   "metadata": {},
   "outputs": [
    {
     "name": "stdout",
     "output_type": "stream",
     "text": [
      "La clave es nombre y el valor es Paco\n",
      "La clave es edad y el valor es 23\n",
      "La clave es casado y el valor es True\n",
      "La clave es amigos y el valor es ['Pedro', 'Luis']\n"
     ]
    }
   ],
   "source": [
    "persona = {\n",
    "    \"nombre\": \"Paco\",\n",
    "    \"edad\": 23,\n",
    "    \"casado\": True,\n",
    "    \"amigos\": [\"Pedro\", \"Luis\"]\n",
    "}\n",
    "\n",
    "for key in persona:\n",
    "    print(f\"La clave es {key} y el valor es {persona[key]}\")"
   ]
  },
  {
   "cell_type": "code",
   "execution_count": 46,
   "metadata": {},
   "outputs": [
    {
     "name": "stdout",
     "output_type": "stream",
     "text": [
      "La clave es nombre y el valor es Paco\n",
      "La clave es edad y el valor es 23\n",
      "La clave es casado y el valor es True\n",
      "La clave es amigos y el valor es ['Pedro', 'Luis']\n"
     ]
    }
   ],
   "source": [
    "for key, value in persona.items():\n",
    "    print(f\"La clave es {key} y el valor es {value}\")"
   ]
  }
 ],
 "metadata": {
  "kernelspec": {
   "display_name": "Python 3",
   "language": "python",
   "name": "python3"
  },
  "language_info": {
   "codemirror_mode": {
    "name": "ipython",
    "version": 3
   },
   "file_extension": ".py",
   "mimetype": "text/x-python",
   "name": "python",
   "nbconvert_exporter": "python",
   "pygments_lexer": "ipython3",
   "version": "3.7.3"
  }
 },
 "nbformat": 4,
 "nbformat_minor": 4
}
