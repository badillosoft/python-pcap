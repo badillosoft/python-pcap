{
 "cells": [
  {
   "cell_type": "markdown",
   "metadata": {},
   "source": [
    "# Promagación Orientada a Objetos\n",
    "\n",
    "La programación tradicional es funcional y se basa en el concepto de tener funciones que reciben parámetros de entrada y computan una salida. Por ejemplo, una función para descargar un archivo, que tiene como entrada la url del archivo y como salida los bytes del archivo, por ejemplo `data = download(\"https://...\")`.\n",
    "\n",
    "Sin embargo, la programación funcional se limita a resolver tareas libres de contexto, es decir, cada tarea es independiente y teorícamente no requiere un contexto de datos para resolver las tareas. Así, por ejemplo, estamos limitados en cada función a conocer todos los parámetros involucrados en resolver la actividad.\n",
    "\n",
    "Cuándo necesitamos retener información compartida, por ejemplo, el estado de una serie de tareas, como podría ser descargar múltiples archivos en lotes o incluso, resolver las tareas involucradas con un cliente y un sistema de ventas, entonces, el modelo funcional queda superado porque hay contexto dependiente entre todas las actividades que realiza el sistema.\n",
    "\n",
    "Es por eso, que se crea un modelo Orientado a Objetos. Los objetos representan de forma más natural las características y las acciones que tendría un objeto real dentro de una computadora, por ejemplo, las carectrísticas de un cliente y las acciones que puede hacer con el sistema.\n",
    "\n",
    "A las características de un objeto le llamamos formalmente **Propiedades** o *atributos* del objeto, así, el nombre, la edad, la dirección y demás características del cliente, serían programadas mediante propiedades que almacenen esa información en un objeto. Las acciones por otro lado, son modeladas mediante **Métodos** o *funciones* que interactúan con otros objetos y pueden modificar o acceder a las propiedades internas del objeto, por ejemplo, hacer búsqueda de clientes, consultar el saldo del cliente, y demás.\n",
    "\n",
    "Para entener mejor el modelo Orientado a Objetos partiremos de modelar un sistema de ventas para una tienda."
   ]
  },
  {
   "cell_type": "code",
   "execution_count": 9,
   "metadata": {},
   "outputs": [],
   "source": [
    "# Esta es la clase\n",
    "class Client:\n",
    "    \n",
    "    # Estas son propiedades de la clase\n",
    "    nombre = \"Anónimo\"\n",
    "    edad = 18\n",
    "    saldo = 0\n",
    "    \n",
    "    # Este el un método de la clase\n",
    "    def consultarSaldo(self):\n",
    "        return f\"{self.nombre} tiene un saldo de ${self.saldo} pesos\""
   ]
  },
  {
   "cell_type": "markdown",
   "metadata": {},
   "source": [
    "Para modelar objetos en Python, vamos a hacerlo a través de clases, las clases son los modelos que indican cuáles serán las propiedades y métodos que tendrá un objeto, todos los objetos construídos a partir de la misma clase, se considera como un objeto de la clase en cuestión, por ejemplo, todos los objetos de la clase cliente, serán \"clientes\". Las clases son marcadas por la palabra reservada `class` seguido del nombre de la clase, que por convención, siempre iniciaremos con mayúscula, por ejemplo, Casa, Cliente, Carro, Tienda, Almacen, Producto, Direccion, etc. Luego, en un bloque definimos las propiedades y su valor inicial para conocer el estado por defecto del objeto, también colocaremos funciones especiales, llamadas métodos, las cuáles son funciones que siempre reciben como primer parámetro `self`. Estos métodos tienen acceso al estado interno del objeto (el objeto en sí mismo) llamado `self`. Mediante `self`, podemos acceder a todos los atributos y métodos definidos."
   ]
  },
  {
   "cell_type": "code",
   "execution_count": 10,
   "metadata": {},
   "outputs": [
    {
     "data": {
      "text/plain": [
       "<__main__.Client at 0x7f9191b5dac8>"
      ]
     },
     "execution_count": 10,
     "metadata": {},
     "output_type": "execute_result"
    }
   ],
   "source": [
    "client = Client()\n",
    "\n",
    "client"
   ]
  },
  {
   "cell_type": "markdown",
   "metadata": {},
   "source": [
    "Los objetos como tales, son instancias de las clases, es decir, ejecuciones vivas de la clase que residen en la memoria bajo una dirección de memoria. Los objetos, son en sí la ejecución de la clase o mejor dicha, instancias de la clase. Imagina que la clase es un plano arquitectónico y los objetos son las casas construidas siguiendo el plano al pie de la letra. Así, la clase *Client* define cómo debería ser cada cliente o mejor, cada objeto de cliente, y el cliente como tal, sería una variable o instancia creada a partir de la invocación de la clase. Dicha invocación se puede leer como `Client()`, que significa, `Clase construye una nueva instancia`. Esto es así, porque todas las clases tienen un método constructor (el cuál vermos más adelante) y lo que hacemos es en realidad mandar a llamar al método constructor, algo así como `Cliente->contructor()`."
   ]
  },
  {
   "cell_type": "code",
   "execution_count": 11,
   "metadata": {},
   "outputs": [
    {
     "data": {
      "text/plain": [
       "'Anónimo'"
      ]
     },
     "execution_count": 11,
     "metadata": {},
     "output_type": "execute_result"
    }
   ],
   "source": [
    "client.nombre"
   ]
  },
  {
   "cell_type": "code",
   "execution_count": 12,
   "metadata": {},
   "outputs": [
    {
     "data": {
      "text/plain": [
       "18"
      ]
     },
     "execution_count": 12,
     "metadata": {},
     "output_type": "execute_result"
    }
   ],
   "source": [
    "client.edad"
   ]
  },
  {
   "cell_type": "code",
   "execution_count": 13,
   "metadata": {},
   "outputs": [
    {
     "data": {
      "text/plain": [
       "0"
      ]
     },
     "execution_count": 13,
     "metadata": {},
     "output_type": "execute_result"
    }
   ],
   "source": [
    "client.saldo"
   ]
  },
  {
   "cell_type": "code",
   "execution_count": 14,
   "metadata": {},
   "outputs": [
    {
     "data": {
      "text/plain": [
       "<bound method Client.consultarSaldo of <__main__.Client object at 0x7f9191b5dac8>>"
      ]
     },
     "execution_count": 14,
     "metadata": {},
     "output_type": "execute_result"
    }
   ],
   "source": [
    "client.consultarSaldo"
   ]
  },
  {
   "cell_type": "code",
   "execution_count": 15,
   "metadata": {},
   "outputs": [
    {
     "data": {
      "text/plain": [
       "'Anónimo tiene un saldo de $0 pesos'"
      ]
     },
     "execution_count": 15,
     "metadata": {},
     "output_type": "execute_result"
    }
   ],
   "source": [
    "client.consultarSaldo()"
   ]
  },
  {
   "cell_type": "markdown",
   "metadata": {},
   "source": [
    "Los objetos son instancias de las clases, y esto significa que residen en la memoria heap, es decir, podemos cambiar los valores de sus propiedades en tiempo de ejecución."
   ]
  },
  {
   "cell_type": "code",
   "execution_count": 16,
   "metadata": {},
   "outputs": [],
   "source": [
    "client.nombre = \"Pedro\""
   ]
  },
  {
   "cell_type": "markdown",
   "metadata": {},
   "source": [
    "Significa que los objetos implementan el mismo diseño, pero retienen valores individuales (se considera cada objeto un `self` diferente)."
   ]
  },
  {
   "cell_type": "code",
   "execution_count": 17,
   "metadata": {},
   "outputs": [
    {
     "data": {
      "text/plain": [
       "'Pedro'"
      ]
     },
     "execution_count": 17,
     "metadata": {},
     "output_type": "execute_result"
    }
   ],
   "source": [
    "client.nombre"
   ]
  },
  {
   "cell_type": "markdown",
   "metadata": {},
   "source": [
    "Que cada objeto sea un `self` distinto, significa, que la clase enviará un self distinto o único en cada invocación de los métodos."
   ]
  },
  {
   "cell_type": "code",
   "execution_count": 18,
   "metadata": {},
   "outputs": [
    {
     "data": {
      "text/plain": [
       "'Pedro tiene un saldo de $0 pesos'"
      ]
     },
     "execution_count": 18,
     "metadata": {},
     "output_type": "execute_result"
    }
   ],
   "source": [
    "client.consultarSaldo()"
   ]
  },
  {
   "cell_type": "markdown",
   "metadata": {},
   "source": [
    "Por ejemplo, para dos objetos distintos, llamarían a un `self` distinto en la invocación al mismo método."
   ]
  },
  {
   "cell_type": "code",
   "execution_count": 19,
   "metadata": {},
   "outputs": [],
   "source": [
    "a = Client()\n",
    "b = Client()"
   ]
  },
  {
   "cell_type": "code",
   "execution_count": 20,
   "metadata": {},
   "outputs": [
    {
     "data": {
      "text/plain": [
       "<__main__.Client at 0x7f9191b6d358>"
      ]
     },
     "execution_count": 20,
     "metadata": {},
     "output_type": "execute_result"
    }
   ],
   "source": [
    "a"
   ]
  },
  {
   "cell_type": "code",
   "execution_count": 21,
   "metadata": {},
   "outputs": [
    {
     "data": {
      "text/plain": [
       "<__main__.Client at 0x7f9191b6d320>"
      ]
     },
     "execution_count": 21,
     "metadata": {},
     "output_type": "execute_result"
    }
   ],
   "source": [
    "b"
   ]
  },
  {
   "cell_type": "code",
   "execution_count": 22,
   "metadata": {},
   "outputs": [
    {
     "data": {
      "text/plain": [
       "0"
      ]
     },
     "execution_count": 22,
     "metadata": {},
     "output_type": "execute_result"
    }
   ],
   "source": [
    "a.saldo"
   ]
  },
  {
   "cell_type": "code",
   "execution_count": 23,
   "metadata": {},
   "outputs": [
    {
     "data": {
      "text/plain": [
       "0"
      ]
     },
     "execution_count": 23,
     "metadata": {},
     "output_type": "execute_result"
    }
   ],
   "source": [
    "b.saldo"
   ]
  },
  {
   "cell_type": "code",
   "execution_count": 24,
   "metadata": {},
   "outputs": [],
   "source": [
    "# ajuste forzado, significa que accedemos directamente a las propiedades\n",
    "# y las modificamos sin ninguna regulación\n",
    "a.saldo = 20"
   ]
  },
  {
   "cell_type": "code",
   "execution_count": 25,
   "metadata": {},
   "outputs": [
    {
     "data": {
      "text/plain": [
       "20"
      ]
     },
     "execution_count": 25,
     "metadata": {},
     "output_type": "execute_result"
    }
   ],
   "source": [
    "a.saldo"
   ]
  },
  {
   "cell_type": "code",
   "execution_count": 26,
   "metadata": {},
   "outputs": [
    {
     "data": {
      "text/plain": [
       "0"
      ]
     },
     "execution_count": 26,
     "metadata": {},
     "output_type": "execute_result"
    }
   ],
   "source": [
    "b.saldo"
   ]
  },
  {
   "cell_type": "code",
   "execution_count": 27,
   "metadata": {},
   "outputs": [
    {
     "data": {
      "text/plain": [
       "'Anónimo tiene un saldo de $20 pesos'"
      ]
     },
     "execution_count": 27,
     "metadata": {},
     "output_type": "execute_result"
    }
   ],
   "source": [
    "a.consultarSaldo()"
   ]
  },
  {
   "cell_type": "code",
   "execution_count": 28,
   "metadata": {},
   "outputs": [
    {
     "data": {
      "text/plain": [
       "'Anónimo tiene un saldo de $0 pesos'"
      ]
     },
     "execution_count": 28,
     "metadata": {},
     "output_type": "execute_result"
    }
   ],
   "source": [
    "b.consultarSaldo()"
   ]
  },
  {
   "cell_type": "code",
   "execution_count": null,
   "metadata": {},
   "outputs": [],
   "source": [
    "class Client:\n",
    "    #...\n",
    "    def consultarSaldo(self):\n",
    "        return f\"{self.nombre} tiene un saldo de ${self.saldo} pesos\""
   ]
  },
  {
   "cell_type": "markdown",
   "metadata": {},
   "source": [
    "Cuándo tenemos múltiples instancias, cada instancia, se enviará a sí misma en la invocación de sus métodos, cuándo hacemos `a.consultarSalado()`, `self === a` dentro del método consultar saldo, cuándo hacemos `b.consultarSaldo()`, `self === b` dentro del método `consultarSaldo` de la clase. Aunque ambas instancias fueron creadas a partir de la misma clase, tienen memoria diferente y a lo largo del programa podrían retener distintos valores en sus mismos atributos."
   ]
  },
  {
   "cell_type": "markdown",
   "metadata": {},
   "source": [
    "El parámetro `self` es requerido siempre en diseño de la clase, dentro de cada método. Se conoce como un parámetro fantasma obligatorio, porque fuera de la clase no se nota que ha sido definido, y dentro de la clase se ignora, es decir, aunque es el primer parámetro, no se toma en cuenta cómo parámetro de entrada en la invocación (lo veremos más adelante)."
   ]
  },
  {
   "cell_type": "markdown",
   "metadata": {},
   "source": [
    "## Ejemplo - Sistema de Ventas para una tienda\n",
    "\n",
    "Imaginemos que tenemos una tienda de artesanías y queremos modelar las entidades del sistema, para poder realizar **venta** de **productos** a **clientes** a través de nuestros **vendedores**. Los *productos* son guardados en **almacenes**, los cuáles residen en nuestra **tienda**.\n",
    "\n",
    "Para comenzar a modelar un sistema, siempre hay que considerar el mínimo de propiedades y métodos que hagan funcional el sistema, cuándo queramos detallar, podremos hacerlo mediante herencia y otras técnicas que veremos más adelante."
   ]
  },
  {
   "cell_type": "code",
   "execution_count": null,
   "metadata": {},
   "outputs": [],
   "source": [
    "class Client:\n",
    "    id = None\n",
    "    saldo = 0\n",
    "    \n",
    "class Product:\n",
    "    id = None\n",
    "    nombre = \"\"\n",
    "    \n",
    "class Sale:\n",
    "    client = None\n",
    "    employee = None\n",
    "    products = []\n",
    "    isPayed = False\n",
    "    \n",
    "class Employee:\n",
    "    id = None"
   ]
  },
  {
   "cell_type": "markdown",
   "metadata": {},
   "source": [
    "Podemos comenzar a modelar nuestros sistemas, simplemente definiendo las clases y los atributos más relevantes. A partir de aquí debemos pensar cómo efectuar una venta y quién será el encargado de hacer la operación (la acción) y quiénes retendrán los datos. Generalmente, se utilizan métodos `setter` y `getter` que en realidad son convenciones para definir métodos de acceso y ajuste de las propiedades, por ejemplo, `setClient`, `getEmployee`, `addProduct`, etc."
   ]
  },
  {
   "cell_type": "code",
   "execution_count": null,
   "metadata": {},
   "outputs": [],
   "source": [
    "class Sale:\n",
    "    \n",
    "    client = None\n",
    "    employee = None\n",
    "    products = []\n",
    "    isPayed = False\n",
    "    \n",
    "    def setClient(self, client):\n",
    "        # TODO: Validar que al cliente (que exista, que sea del tipo apropiado, etc)\n",
    "        # No hay ambigüedad entre `client` parámetro del método y `self.client` propiedad del objeto\n",
    "        self.client = client\n",
    "        \n",
    "    def getClient(self):\n",
    "        # TODO: Podríamos regresar sólo la parte del cliente adecuada (sin datos personales)\n",
    "        return self.client\n",
    "    \n",
    "    def addProduct(self, product):\n",
    "        self.products.append(product)"
   ]
  },
  {
   "cell_type": "markdown",
   "metadata": {},
   "source": [
    "### Comparación\n",
    "\n",
    "**Diálogo en Programación funcional**\n",
    "\n",
    "* Seleccionar Cliente\n",
    "* Seleccionar Vendedor\n",
    "* Seleccionar productos\n",
    "* Crear identificador de nueva venta\n",
    "* Agregar productos a venta identificable\n",
    "* Asignar cliente a venta\n",
    "* Asignar vendedor a venta\n",
    "* Guardar venta\n",
    "\n",
    "**¿Cómo puedo retener varias ventas al mismo tiempo?** \n",
    "Necesitaríamos una estructura compleja, por ejemplo, una lista o un diccionario\n",
    "Para poder retener la información de varias ventas"
   ]
  },
  {
   "cell_type": "code",
   "execution_count": null,
   "metadata": {},
   "outputs": [],
   "source": [
    "client = getClient(123)\n",
    "\n",
    "employee = getEmployee(456)\n",
    "\n",
    "# Parte altamente modificable\n",
    "products = []\n",
    "products.append( getProduct(\"coca-16\") )\n",
    "products.append( getProduct(\"marias-24\") )\n",
    "products.append( getProduct(\"lala-15\") )\n",
    "\n",
    "saleId = createSaleId() # sale-012\n",
    "\n",
    "# Parte altamente modificable\n",
    "saleAddProducts(saleId, products)\n",
    "\n",
    "saleSetClient(saleId, client)\n",
    "\n",
    "saleSetEmployee(saleId, employee)\n",
    "\n",
    "saleDone()"
   ]
  },
  {
   "cell_type": "markdown",
   "metadata": {},
   "source": [
    "**Diálogo en Programación Orientada a Objetos**\n",
    "\n",
    "Seleccionar Cliente\n",
    "Seleccionar Vendedor\n",
    "Seleccionar productos\n",
    "Crear identificador de nueva venta\n",
    "Agregar productos a venta identificable\n",
    "Asignar cliente a venta\n",
    "Asignar vendedor a venta\n",
    "Guardar venta\n",
    "\n",
    "¿Cómo puedo retener varias ventas al mismo tiempo?\n",
    "Necesitaríamos múltiples instancias de una venta realizando las operaciones"
   ]
  },
  {
   "cell_type": "code",
   "execution_count": null,
   "metadata": {},
   "outputs": [],
   "source": [
    "client = Client(123)\n",
    "\n",
    "employee = Employee(456)\n",
    "\n",
    "# Parte altamente modificable\n",
    "cart = ShippingCart()\n",
    "\n",
    "cart.addProduct(\"coca-16\")\n",
    "cart.addProduct(\"marias-24\")\n",
    "cart.addProduct(\"lala-15\")\n",
    "\n",
    "sale = Sale()\n",
    "\n",
    "sale.setClient(client)\n",
    "sale.setEmployee(employee)\n",
    "\n",
    "# Parte altamente modificable\n",
    "sale.addProducts(cart.getProducts())\n",
    "\n",
    "sale.comfirm()\n",
    "\n",
    "print(sale.ticket())"
   ]
  },
  {
   "cell_type": "markdown",
   "metadata": {},
   "source": [
    "## Constructores\n",
    "\n",
    "Los constructores son métodos especiales de la clases, que nos permiten recibir los parámetros de contrucción desde la invocación para crear una nueva instancia.\n",
    "\n",
    "Esto nos permite ahorrar algunas líneas de código y forzar al programador a establecer los valores iniciales requeridos por el objeto.\n",
    "\n",
    "Todas las propiedades que determinemos obligatorias para consumir un objeto, deben ser parámetros obligatorios en la construcción."
   ]
  },
  {
   "cell_type": "code",
   "execution_count": 29,
   "metadata": {},
   "outputs": [],
   "source": [
    "class Cliente:\n",
    "    id = \"\"\n",
    "    nombre = \"\"\n",
    "    email = \"\"\n",
    "    \n",
    "    # Define el método contructor de la clase\n",
    "    # Es decir, la función que inicializará la instancia (el objeto)\n",
    "    # con los valores pasados como argumentos de construcción\n",
    "    def __init__(self, id, nombre):\n",
    "        self.id = id\n",
    "        self.nombre = nombre"
   ]
  },
  {
   "cell_type": "code",
   "execution_count": 33,
   "metadata": {},
   "outputs": [
    {
     "ename": "TypeError",
     "evalue": "__init__() missing 2 required positional arguments: 'id' and 'nombre'",
     "output_type": "error",
     "traceback": [
      "\u001b[0;31m---------------------------------------------------------------------------\u001b[0m",
      "\u001b[0;31mTypeError\u001b[0m                                 Traceback (most recent call last)",
      "\u001b[0;32m<ipython-input-33-86ca72032365>\u001b[0m in \u001b[0;36m<module>\u001b[0;34m\u001b[0m\n\u001b[0;32m----> 1\u001b[0;31m \u001b[0mcliente\u001b[0m \u001b[0;34m=\u001b[0m \u001b[0mCliente\u001b[0m\u001b[0;34m(\u001b[0m\u001b[0;34m)\u001b[0m\u001b[0;34m\u001b[0m\u001b[0;34m\u001b[0m\u001b[0m\n\u001b[0m",
      "\u001b[0;31mTypeError\u001b[0m: __init__() missing 2 required positional arguments: 'id' and 'nombre'"
     ]
    }
   ],
   "source": [
    "cliente = Cliente()\n",
    "\n",
    "# Fozado\n",
    "cliente.id = 123\n",
    "cliente.nombre = \"Ana\""
   ]
  },
  {
   "cell_type": "code",
   "execution_count": 35,
   "metadata": {},
   "outputs": [
    {
     "data": {
      "text/plain": [
       "<__main__.Cliente at 0x7f9191b6dbe0>"
      ]
     },
     "execution_count": 35,
     "metadata": {},
     "output_type": "execute_result"
    }
   ],
   "source": [
    "cliente = Cliente(123, \"Ana\")\n",
    "\n",
    "cliente"
   ]
  },
  {
   "cell_type": "markdown",
   "metadata": {},
   "source": [
    "## Herencia de clases\n",
    "\n",
    "Una clase representa un diseño de atributos y métodos específicos para modelar un objeto natural o símil, por ejemplo, el cliente, el vendor, la tienda, el almacén, la venta, el ticket, etc.\n",
    "\n",
    "Sin embargo, muchas veces vamos a requerir adaptaciones de una clase para **extender** o **reemplazar** funcionalidad. La buena práctica consiste en o sólo *reemplazar* o sólo *extender*.\n",
    "\n",
    "El heredar un diseño, nos va a permitir generar estabilidad en código y no tener que romper funcionalidad (ver principio SOLID). Las clases heredadas se consideran como clases hijas de un diseño superior y sólo se puede heredar en jerarquía de `Un padre, muchos hijos`. No se acepta que una clase herede el diseño de dos padres (o dos clases superiores), sólo hay un diseño superior a extender o reemplazar.\n",
    "\n",
    "La herencia tiene el fin de mantener versiones fijas sobre clases padre, sin que al querer reemplazar o extender funcionalidad, otros códigos se vean afectados. Es decir, una clase base padre, ya no es modificada y se debe evitar a toda costa."
   ]
  },
  {
   "cell_type": "code",
   "execution_count": 36,
   "metadata": {},
   "outputs": [],
   "source": [
    "class Robot:\n",
    "    x = 0\n",
    "    y = 0\n",
    "    \n",
    "    def up(self):\n",
    "        self.y += 1\n",
    "    \n",
    "    def down(self):\n",
    "        self.y -= 1\n",
    "        \n",
    "    def right(self):\n",
    "        self.x += 1\n",
    "        \n",
    "    def left(self):\n",
    "        self.x -= 1\n",
    "        \n",
    "    def describe(self):\n",
    "        return self.x, self.y"
   ]
  },
  {
   "cell_type": "code",
   "execution_count": 49,
   "metadata": {},
   "outputs": [],
   "source": [
    "import math\n",
    "\n",
    "# Extender\n",
    "# Para indicar herencia, ponemos la clase base entre paréntesis indicando\n",
    "# cuál es la clase base a extender o reemplazar funcionalidad\n",
    "class MotoRobot(Robot):\n",
    "    \n",
    "    a = 0\n",
    "    \n",
    "    def forward(self, distance):\n",
    "        self.x += distance * math.cos(self.a)\n",
    "        self.y += distance * math.sin(self.a)\n",
    "    \n",
    "    def turn_right(self, angle):\n",
    "        self.a -= angle\n",
    "        \n",
    "    def turn_left(self, angle):\n",
    "        self.a += angle"
   ]
  },
  {
   "cell_type": "code",
   "execution_count": 45,
   "metadata": {},
   "outputs": [
    {
     "data": {
      "text/plain": [
       "(0, 1)"
      ]
     },
     "execution_count": 45,
     "metadata": {},
     "output_type": "execute_result"
    }
   ],
   "source": [
    "r1 = Robot()\n",
    "\n",
    "r1.up()\n",
    "\n",
    "r1.describe()"
   ]
  },
  {
   "cell_type": "code",
   "execution_count": 46,
   "metadata": {},
   "outputs": [
    {
     "ename": "AttributeError",
     "evalue": "'Robot' object has no attribute 'forward'",
     "output_type": "error",
     "traceback": [
      "\u001b[0;31m---------------------------------------------------------------------------\u001b[0m",
      "\u001b[0;31mAttributeError\u001b[0m                            Traceback (most recent call last)",
      "\u001b[0;32m<ipython-input-46-b2e86256caa7>\u001b[0m in \u001b[0;36m<module>\u001b[0;34m\u001b[0m\n\u001b[0;32m----> 1\u001b[0;31m \u001b[0mr1\u001b[0m\u001b[0;34m.\u001b[0m\u001b[0mforward\u001b[0m\u001b[0;34m(\u001b[0m\u001b[0;34m)\u001b[0m\u001b[0;34m\u001b[0m\u001b[0;34m\u001b[0m\u001b[0m\n\u001b[0m",
      "\u001b[0;31mAttributeError\u001b[0m: 'Robot' object has no attribute 'forward'"
     ]
    }
   ],
   "source": [
    "r1.forward()"
   ]
  },
  {
   "cell_type": "code",
   "execution_count": 47,
   "metadata": {},
   "outputs": [
    {
     "data": {
      "text/plain": [
       "(10.0, 0.0)"
      ]
     },
     "execution_count": 47,
     "metadata": {},
     "output_type": "execute_result"
    }
   ],
   "source": [
    "m1 = MotoRobot()\n",
    "\n",
    "m1.forward(10)\n",
    "\n",
    "m1.describe()"
   ]
  },
  {
   "cell_type": "code",
   "execution_count": 48,
   "metadata": {},
   "outputs": [
    {
     "data": {
      "text/plain": [
       "(10.0, 10.0)"
      ]
     },
     "execution_count": 48,
     "metadata": {},
     "output_type": "execute_result"
    }
   ],
   "source": [
    "m1.turn_left(math.pi / 2)\n",
    "\n",
    "m1.forward(10)\n",
    "\n",
    "m1.describe()"
   ]
  },
  {
   "cell_type": "code",
   "execution_count": 51,
   "metadata": {},
   "outputs": [
    {
     "data": {
      "text/plain": [
       "(10.0, 12.0)"
      ]
     },
     "execution_count": 51,
     "metadata": {},
     "output_type": "execute_result"
    }
   ],
   "source": [
    "m1.up()\n",
    "\n",
    "m1.describe()"
   ]
  },
  {
   "cell_type": "code",
   "execution_count": null,
   "metadata": {},
   "outputs": [],
   "source": [
    "# Reemplazar\n",
    "\n",
    "class RobotV2(Robot):\n",
    "    \n",
    "    def up(self, distance = 1):\n",
    "        self.y += distance\n",
    "    \n",
    "    def down(self, distance = 1):\n",
    "        self.y -= distance\n",
    "        \n",
    "    def right(self, distance = 1):\n",
    "        self.x += distance\n",
    "        \n",
    "    def left(self, distance = 1):\n",
    "        self.x -= distance\n",
    "        \n",
    "class MotoRobotV2(MotoRobot):\n",
    "    \n",
    "    def up(self, distance = 1):\n",
    "        self.y += distance\n",
    "    \n",
    "    def down(self, distance = 1):\n",
    "        self.y -= distance\n",
    "        \n",
    "    def right(self, distance = 1):\n",
    "        self.x += distance\n",
    "        \n",
    "    def left(self, distance = 1):\n",
    "        self.x -= distance"
   ]
  },
  {
   "cell_type": "markdown",
   "metadata": {},
   "source": [
    "## \"Polimorfismo\"\n",
    "\n",
    "En python los métodos no tienen sobrecarga, es decir, no podemos tener múltiples métodos llamados igual que reciban distintos parámetros. Sin embargo, podemos usar parámetros equivalentes para lograr hacer que un método reciba una catidad variable de parámetros, esto nos va a permitir hacer funcionalidades distintas con un mismo método."
   ]
  },
  {
   "cell_type": "code",
   "execution_count": 52,
   "metadata": {},
   "outputs": [],
   "source": [
    "class Robot:\n",
    "    x = 0\n",
    "    y = 0\n",
    "    \n",
    "    def move(self, direction):\n",
    "        if direction == \"up\":\n",
    "            self.y += 1\n",
    "        elif direction == \"down\":\n",
    "            self.y -= 1\n",
    "        elif direction == \"right\":\n",
    "            self.x += 1\n",
    "        elif direction == \"left\":\n",
    "            self.x -= 1\n",
    "            \n",
    "r1 = Robot()\n",
    "\n",
    "r1.move(\"up\")"
   ]
  },
  {
   "cell_type": "code",
   "execution_count": null,
   "metadata": {},
   "outputs": [],
   "source": [
    "class Robot:\n",
    "    x = 0\n",
    "    y = 0\n",
    "    \n",
    "    # Podemos hacer que los últimos parámetros sean opcionales\n",
    "    def move(self, direction = \"up\"):\n",
    "        if direction == \"up\":\n",
    "            self.y += 1\n",
    "        elif direction == \"down\":\n",
    "            self.y -= 1\n",
    "        elif direction == \"right\":\n",
    "            self.x += 1\n",
    "        elif direction == \"left\":\n",
    "            self.x -= 1\n",
    "            \n",
    "r1 = Robot()\n",
    "\n",
    "r1.move() # direction = \"up\""
   ]
  },
  {
   "cell_type": "code",
   "execution_count": 53,
   "metadata": {},
   "outputs": [],
   "source": [
    "class Robot:\n",
    "    x = 0\n",
    "    y = 0\n",
    "    \n",
    "    # **kwargs key-wrapped arguments\n",
    "    # Argumentos etiquetados\n",
    "    def move(self, **kwargs):\n",
    "        if \"up\" in kwargs:\n",
    "            self.y += kwargs[\"up\"]\n",
    "        if \"down\" in kwargs:\n",
    "            self.y -= kwargs[\"down\"]\n",
    "        if \"right\" in kwargs:\n",
    "            self.x += kwargs[\"right\"]\n",
    "        if \"left\" in kwargs:\n",
    "            self.x -= kwargs[\"left\"]"
   ]
  },
  {
   "cell_type": "code",
   "execution_count": 54,
   "metadata": {},
   "outputs": [],
   "source": [
    "r1 = Robot()\n",
    "\n",
    "r1.move()"
   ]
  },
  {
   "cell_type": "code",
   "execution_count": 55,
   "metadata": {},
   "outputs": [
    {
     "data": {
      "text/plain": [
       "(0, 0)"
      ]
     },
     "execution_count": 55,
     "metadata": {},
     "output_type": "execute_result"
    }
   ],
   "source": [
    "r1.x, r1.y"
   ]
  },
  {
   "cell_type": "code",
   "execution_count": 56,
   "metadata": {},
   "outputs": [
    {
     "data": {
      "text/plain": [
       "(8, 5)"
      ]
     },
     "execution_count": 56,
     "metadata": {},
     "output_type": "execute_result"
    }
   ],
   "source": [
    "r1.move(up=5, right=8)\n",
    "\n",
    "r1.x, r1.y"
   ]
  },
  {
   "cell_type": "code",
   "execution_count": 57,
   "metadata": {},
   "outputs": [
    {
     "data": {
      "text/plain": [
       "(14, 7)"
      ]
     },
     "execution_count": 57,
     "metadata": {},
     "output_type": "execute_result"
    }
   ],
   "source": [
    "r1.move(up=5, down=3, right=8, left=2)\n",
    "\n",
    "r1.x, r1.y"
   ]
  },
  {
   "cell_type": "code",
   "execution_count": 60,
   "metadata": {},
   "outputs": [],
   "source": [
    "import random\n",
    "\n",
    "class Sensor:\n",
    "    \n",
    "    def read(self, **kwargs):\n",
    "        value = random.uniform(1, 100)\n",
    "        \n",
    "        if \"inKelvin\" in kwargs and kwargs[\"inKelvin\"]:\n",
    "            value = value + 232\n",
    "        \n",
    "        return value"
   ]
  },
  {
   "cell_type": "code",
   "execution_count": 61,
   "metadata": {},
   "outputs": [
    {
     "data": {
      "text/plain": [
       "75.23830611942462"
      ]
     },
     "execution_count": 61,
     "metadata": {},
     "output_type": "execute_result"
    }
   ],
   "source": [
    "s1 = Sensor()\n",
    "\n",
    "s1.read()"
   ]
  },
  {
   "cell_type": "code",
   "execution_count": 62,
   "metadata": {},
   "outputs": [
    {
     "data": {
      "text/plain": [
       "315.2343976641268"
      ]
     },
     "execution_count": 62,
     "metadata": {},
     "output_type": "execute_result"
    }
   ],
   "source": [
    "s1 = Sensor()\n",
    "\n",
    "s1.read(inKelvin=True)"
   ]
  },
  {
   "cell_type": "code",
   "execution_count": 64,
   "metadata": {},
   "outputs": [
    {
     "data": {
      "text/plain": [
       "54.59411110555101"
      ]
     },
     "execution_count": 64,
     "metadata": {},
     "output_type": "execute_result"
    }
   ],
   "source": [
    "s1 = Sensor()\n",
    "\n",
    "s1.read(unit=\"F\")"
   ]
  },
  {
   "cell_type": "code",
   "execution_count": null,
   "metadata": {},
   "outputs": [],
   "source": []
  },
  {
   "cell_type": "code",
   "execution_count": null,
   "metadata": {},
   "outputs": [],
   "source": []
  }
 ],
 "metadata": {
  "kernelspec": {
   "display_name": "Python 3",
   "language": "python",
   "name": "python3"
  },
  "language_info": {
   "codemirror_mode": {
    "name": "ipython",
    "version": 3
   },
   "file_extension": ".py",
   "mimetype": "text/x-python",
   "name": "python",
   "nbconvert_exporter": "python",
   "pygments_lexer": "ipython3",
   "version": "3.7.3"
  }
 },
 "nbformat": 4,
 "nbformat_minor": 2
}
