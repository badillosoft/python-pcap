{
 "cells": [
  {
   "cell_type": "markdown",
   "metadata": {},
   "source": [
    "## Ejercicios Sesión 1 - Variables y Estructuras de control"
   ]
  },
  {
   "cell_type": "code",
   "execution_count": 1,
   "metadata": {},
   "outputs": [],
   "source": [
    "alumnos = [\"Ramón\", \"Nancy\", \"Estefanía\", \"Samanta\", \"Rogelio\", \"Roberto\"]"
   ]
  },
  {
   "cell_type": "code",
   "execution_count": 22,
   "metadata": {},
   "outputs": [
    {
     "data": {
      "text/plain": [
       "'Ramón'"
      ]
     },
     "execution_count": 22,
     "metadata": {},
     "output_type": "execute_result"
    }
   ],
   "source": [
    "from random import choice\n",
    "\n",
    "choice(alumnos)"
   ]
  },
  {
   "cell_type": "markdown",
   "metadata": {},
   "source": [
    "## Ejercicio 1 - Estructuras while e if\n",
    "\n",
    "Crear un programa que solicite el nombre de un superheroe y mientras no sea batman continuar solicitando otro superheroe, si el superheroe es `batman` entonces finalizar el programa con el mensaje \"La noche oscura\"."
   ]
  },
  {
   "cell_type": "code",
   "execution_count": 8,
   "metadata": {},
   "outputs": [
    {
     "name": "stdin",
     "output_type": "stream",
     "text": [
      "Escribe el nombre del héroe robin\n",
      "Escribe el nombre del héroe superman\n",
      "Escribe el nombre del héroe batman\n"
     ]
    },
    {
     "name": "stdout",
     "output_type": "stream",
     "text": [
      "La noche oscura\n"
     ]
    }
   ],
   "source": [
    "heroe = None\n",
    "\n",
    "while heroe != \"batman\":\n",
    "    heroe = input(\"Escribe el nombre del héroe\")\n",
    "    if heroe == \"batman\":\n",
    "        print(\"La noche oscura\")"
   ]
  },
  {
   "cell_type": "code",
   "execution_count": 9,
   "metadata": {},
   "outputs": [
    {
     "name": "stdin",
     "output_type": "stream",
     "text": [
      "Escribe el nombre del héroe robin\n",
      "Escribe el nombre del héroe superman\n",
      "Escribe el nombre del héroe batman\n"
     ]
    },
    {
     "name": "stdout",
     "output_type": "stream",
     "text": [
      "La noche oscura\n"
     ]
    }
   ],
   "source": [
    "heroe = None\n",
    "\n",
    "while heroe != \"batman\":\n",
    "    heroe = input(\"Escribe el nombre del héroe\")\n",
    "        \n",
    "print(\"La noche oscura\")"
   ]
  },
  {
   "cell_type": "code",
   "execution_count": 10,
   "metadata": {},
   "outputs": [
    {
     "name": "stdin",
     "output_type": "stream",
     "text": [
      "Escribe el nombre del héroe batman\n"
     ]
    },
    {
     "name": "stdout",
     "output_type": "stream",
     "text": [
      "La noche oscura\n"
     ]
    }
   ],
   "source": [
    "heroe = None\n",
    "\n",
    "while heroe != \"batman\":\n",
    "    heroe = input(\"Escribe el nombre del héroe\")\n",
    "        \n",
    "    if heroe == \"batman\":\n",
    "        break\n",
    "        \n",
    "print(\"La noche oscura\")"
   ]
  },
  {
   "cell_type": "code",
   "execution_count": 11,
   "metadata": {},
   "outputs": [
    {
     "name": "stdin",
     "output_type": "stream",
     "text": [
      "Escribe el nombre del héroe robin\n",
      "Escribe el nombre del héroe superman\n",
      "Escribe el nombre del héroe batman\n"
     ]
    },
    {
     "name": "stdout",
     "output_type": "stream",
     "text": [
      "La noche oscura\n"
     ]
    }
   ],
   "source": [
    "while True: # CUIDADO: Romper el ciclo o esperar un programa ciclado\n",
    "    heroe = input(\"Escribe el nombre del héroe\")\n",
    "        \n",
    "    if heroe == \"batman\":\n",
    "        break\n",
    "        \n",
    "print(\"La noche oscura\")"
   ]
  },
  {
   "cell_type": "markdown",
   "metadata": {},
   "source": [
    "## Ejercicio 2 - Calcular los primeros 20 números primos\n",
    "\n",
    "Se requiere una lista vacía de números primos que sea llenada recorriendo los números, hasta que se llene la lista. Para encontrar un número primo debemos checar que no sea divisible por ninguno de los números primos anteriores, es decir, N mod P sea distinto de O (dónde N es el número que suponemos debe ser primo y P es algún primo anterior)."
   ]
  },
  {
   "cell_type": "code",
   "execution_count": 24,
   "metadata": {},
   "outputs": [
    {
     "name": "stdout",
     "output_type": "stream",
     "text": [
      "La lista de primos es: [2, 3, 5, 7, 11, 13, 17, 19, 23, 29, 31, 37, 41, 43, 47, 53, 59, 61, 67, 71]\n"
     ]
    }
   ],
   "source": [
    "listPrimos = []\n",
    "n = 2\n",
    "\n",
    "while len(listPrimos) < 20:\n",
    "  #for n in range(2, 401):\n",
    "\n",
    "  esPrimo = True\n",
    "\n",
    "  for p in listPrimos:\n",
    "    if n % p == 0:\n",
    "      esPrimo = False\n",
    "      break # un break rompería el ciclo inmediato (el for p in listPrimos) evitando recorrer más primos\n",
    "        # sabiendo que ya no es primo\n",
    "      \n",
    "  if esPrimo: # esPrimo == True\n",
    "    listPrimos.append(n)\n",
    "  \n",
    "  # CUIDADO: Olvidar incrementar a `n` produciría estar evaluando siempre con el número 2\n",
    "  # Debemos incrementar n, para en la próxima iteración evaluar a 3 y no seguir evaluando al 2\n",
    "  n += 1 # Incrementa n en 1 (n = n + 1)\n",
    "\n",
    "print(f\"La lista de primos es: {listPrimos}\")"
   ]
  },
  {
   "cell_type": "markdown",
   "metadata": {},
   "source": [
    "## Ejercicio 3 - Encontrar las coordenas de un polígo regular circunscrito (en circulo) de radio fijo, partiendo del ángulo 0º.\n",
    "\n",
    "Para encontrar las coordenas de un polígono regular circunscrito, debemos dividir la circunferencia en N ángulos iguales, dónde N es el número de lados del polígono, por ejemplo, un cuadrado, tiene 4 lados (`N=4`), entonces los ángulos serían (0º, 90º, 180º y 270º), es decir, `360º/4 = 90º`, entonces cada coordenada circunscrita estarían en ángulos de 90º en 90º partiendo del ángulo 0º. En el pentágono (N=5), la circunferencia (360º) se dividirían como `360º/5 = 72º` y las coordenas serían en el ángulo 0º, 72º, 144º, 216º, 288º.\n",
    "\n",
    "Para encontrar a `x` hacemos `x = r * cos(a)`, dónde x es la coordenada, r el radio y a el ángulo (en radianes)\n",
    "\n",
    "Para encontrar a `y` hacemos `y = r * sin(a)`, dónde y es la coordenada, r el radio y a el ángulo (en radianes)\n",
    "\n",
    "El angulo es `a = i * 2 * PI / N`\n",
    "\n",
    "Nota: `from math import cos, sin, PI`"
   ]
  },
  {
   "cell_type": "code",
   "execution_count": null,
   "metadata": {},
   "outputs": [],
   "source": []
  }
 ],
 "metadata": {
  "kernelspec": {
   "display_name": "Python 3",
   "language": "python",
   "name": "python3"
  },
  "language_info": {
   "codemirror_mode": {
    "name": "ipython",
    "version": 3
   },
   "file_extension": ".py",
   "mimetype": "text/x-python",
   "name": "python",
   "nbconvert_exporter": "python",
   "pygments_lexer": "ipython3",
   "version": "3.9.0"
  }
 },
 "nbformat": 4,
 "nbformat_minor": 4
}
