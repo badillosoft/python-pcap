{
 "cells": [
  {
   "cell_type": "markdown",
   "metadata": {},
   "source": [
    "# Funciones generadoras o secuencias\n",
    "\n",
    "Existen unas funciones especiales en python, las cuáles nos van a permitr generar secuencias a tráves de su llamada el uso de la palabra `yield`.\n",
    "\n",
    "La palabra `yield` nos va a permitir retener el siguiente valor de la secuencia y este será devuelto hasta que el iterador lo desee.\n",
    "\n",
    "Por ejemplo."
   ]
  },
  {
   "cell_type": "code",
   "execution_count": 3,
   "metadata": {},
   "outputs": [],
   "source": [
    "def primos(limit):\n",
    "    p = []\n",
    "    n = 2\n",
    "    while len(p) < limit:\n",
    "        esPrimo = True\n",
    "        for primo in p:\n",
    "            if n % primo == 0:\n",
    "                esPrimo = False\n",
    "        if esPrimo:\n",
    "            p.append(n)\n",
    "            yield n\n",
    "        n += 1"
   ]
  },
  {
   "cell_type": "markdown",
   "metadata": {},
   "source": [
    "La función primos, recibe un límite que establece cuántos primos queremos secuenciar, la función va a continuar hasta que `yield` ya no sea llamado y se llegue al final de la función, cada `yield` será un valor iterado generado por nuestra función."
   ]
  },
  {
   "cell_type": "code",
   "execution_count": 5,
   "metadata": {},
   "outputs": [
    {
     "name": "stdout",
     "output_type": "stream",
     "text": [
      "2\n",
      "3\n",
      "5\n",
      "7\n"
     ]
    }
   ],
   "source": [
    "for primo in primos(4):\n",
    "    print(primo)"
   ]
  },
  {
   "cell_type": "code",
   "execution_count": 6,
   "metadata": {},
   "outputs": [
    {
     "name": "stdout",
     "output_type": "stream",
     "text": [
      "2\n",
      "3\n",
      "5\n",
      "7\n",
      "11\n",
      "13\n",
      "17\n"
     ]
    }
   ],
   "source": [
    "for primo in primos(7):\n",
    "    print(primo)"
   ]
  },
  {
   "cell_type": "markdown",
   "metadata": {},
   "source": [
    "`yield` funciona como un `return` en la función, pero, en lugar de terminar ahí la función, continua al próximo `yield`. Se puede entender como un `\"Regresa valor y continua\"`"
   ]
  },
  {
   "cell_type": "code",
   "execution_count": 7,
   "metadata": {},
   "outputs": [
    {
     "name": "stdout",
     "output_type": "stream",
     "text": [
      "2\n",
      "4\n",
      "6\n",
      "10\n"
     ]
    }
   ],
   "source": [
    "def pares(numeros):\n",
    "    for n in numeros:\n",
    "        if n % 2 == 0:\n",
    "            yield n\n",
    "\n",
    "for par in pares([1, 2, 3, 4, 5, 6, 7, 9, 10]):\n",
    "    print(par)"
   ]
  },
  {
   "cell_type": "code",
   "execution_count": 8,
   "metadata": {},
   "outputs": [
    {
     "name": "stdout",
     "output_type": "stream",
     "text": [
      "manzana\n",
      "mango\n",
      "manzana\n"
     ]
    }
   ],
   "source": [
    "def frutas(palabras):\n",
    "    frutas = [\"manzana\", \"pera\", \"mango\"]\n",
    "    for palabra in palabras:\n",
    "        if frutas.count(palabra) > 0:\n",
    "            yield palabra\n",
    "            \n",
    "for fruta in frutas([\"pepe\", \"manzana\", \"paco\", \"mango\", \"pedro\", \"manzana\"]):\n",
    "    print(fruta)"
   ]
  },
  {
   "cell_type": "code",
   "execution_count": 13,
   "metadata": {},
   "outputs": [
    {
     "name": "stdout",
     "output_type": "stream",
     "text": [
      "https://google.com <!doctype html><html itemscope=\"\" itemtype=\"http:/\n",
      "----------------------------------------------------------------------------------------------------\n",
      "https://facebook.com <!DOCTYPE html>\n",
      "<html lang=\"en\" id=\"facebook\" clas\n",
      "----------------------------------------------------------------------------------------------------\n"
     ]
    }
   ],
   "source": [
    "import requests\n",
    "\n",
    "def download(urls):\n",
    "    for url in urls:\n",
    "        response = requests.get(url)\n",
    "        html = response.text\n",
    "        yield url, html # yield es un regresa y continua para que el for lo pueda recorrer\n",
    "        # for toma cada yield devuelto y lo itera\n",
    "        \n",
    "for url, html in download([\"https://google.com\", \"https://facebook.com\"]):\n",
    "    print(url, html[:50])\n",
    "    print(\"-\" * 100)"
   ]
  },
  {
   "cell_type": "code",
   "execution_count": null,
   "metadata": {},
   "outputs": [],
   "source": []
  },
  {
   "cell_type": "code",
   "execution_count": null,
   "metadata": {},
   "outputs": [],
   "source": []
  },
  {
   "cell_type": "code",
   "execution_count": null,
   "metadata": {},
   "outputs": [],
   "source": []
  },
  {
   "cell_type": "code",
   "execution_count": null,
   "metadata": {},
   "outputs": [],
   "source": []
  }
 ],
 "metadata": {
  "kernelspec": {
   "display_name": "Python 3",
   "language": "python",
   "name": "python3"
  },
  "language_info": {
   "codemirror_mode": {
    "name": "ipython",
    "version": 3
   },
   "file_extension": ".py",
   "mimetype": "text/x-python",
   "name": "python",
   "nbconvert_exporter": "python",
   "pygments_lexer": "ipython3",
   "version": "3.7.3"
  }
 },
 "nbformat": 4,
 "nbformat_minor": 2
}
