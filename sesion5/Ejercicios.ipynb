{
 "cells": [
  {
   "cell_type": "code",
   "execution_count": 6,
   "metadata": {},
   "outputs": [],
   "source": [
    "class Robot:\n",
    "    # posición\n",
    "    x = 0\n",
    "    y = 0\n",
    "    \n",
    "    def moverAdelante(self):\n",
    "        self.y += 1\n",
    "        \n",
    "    def moverAtras(self):\n",
    "        self.y -= 1\n",
    "        \n",
    "    def moverIzquierda(self):\n",
    "        self.x -= 1\n",
    "        \n",
    "    def moverDerecha(self):\n",
    "        self.x += 1\n",
    "        \n",
    "    def getPosicion(self):\n",
    "        return (self.x, self.y)"
   ]
  },
  {
   "cell_type": "code",
   "execution_count": 7,
   "metadata": {},
   "outputs": [
    {
     "data": {
      "text/plain": [
       "(0, 0)"
      ]
     },
     "execution_count": 7,
     "metadata": {},
     "output_type": "execute_result"
    }
   ],
   "source": [
    "r1 = Robot()\n",
    "\n",
    "r1.getPosicion()"
   ]
  },
  {
   "cell_type": "code",
   "execution_count": 8,
   "metadata": {},
   "outputs": [
    {
     "data": {
      "text/plain": [
       "(0, 0)"
      ]
     },
     "execution_count": 8,
     "metadata": {},
     "output_type": "execute_result"
    }
   ],
   "source": [
    "r2 = Robot()\n",
    "\n",
    "r2.getPosicion()"
   ]
  },
  {
   "cell_type": "code",
   "execution_count": 9,
   "metadata": {},
   "outputs": [
    {
     "data": {
      "text/plain": [
       "(0, 1)"
      ]
     },
     "execution_count": 9,
     "metadata": {},
     "output_type": "execute_result"
    }
   ],
   "source": [
    "r1.moverAdelante()\n",
    "\n",
    "r1.getPosicion()"
   ]
  },
  {
   "cell_type": "code",
   "execution_count": 10,
   "metadata": {},
   "outputs": [
    {
     "data": {
      "text/plain": [
       "(1, 1)"
      ]
     },
     "execution_count": 10,
     "metadata": {},
     "output_type": "execute_result"
    }
   ],
   "source": [
    "r1.moverDerecha()\n",
    "\n",
    "r1.getPosicion()"
   ]
  },
  {
   "cell_type": "code",
   "execution_count": 11,
   "metadata": {},
   "outputs": [
    {
     "data": {
      "text/plain": [
       "(-1, -1)"
      ]
     },
     "execution_count": 11,
     "metadata": {},
     "output_type": "execute_result"
    }
   ],
   "source": [
    "r2.moverAtras()\n",
    "r2.moverIzquierda()\n",
    "\n",
    "r2.getPosicion()"
   ]
  },
  {
   "cell_type": "code",
   "execution_count": 12,
   "metadata": {},
   "outputs": [],
   "source": [
    "class Elevador:\n",
    "    pisos = 10\n",
    "    pisoActual = 0\n",
    "    \n",
    "    def subir(self):\n",
    "        if self.pisoActual < 10:\n",
    "            self.pisoActual += 1\n",
    "    \n",
    "    def bajar(self):\n",
    "        if self.pisoActual > 0:\n",
    "            self.pisoActual -= 1"
   ]
  },
  {
   "cell_type": "code",
   "execution_count": 13,
   "metadata": {},
   "outputs": [],
   "source": [
    "e1 = Elevador()\n",
    "e2 = Elevador()"
   ]
  },
  {
   "cell_type": "code",
   "execution_count": 14,
   "metadata": {},
   "outputs": [
    {
     "data": {
      "text/plain": [
       "2"
      ]
     },
     "execution_count": 14,
     "metadata": {},
     "output_type": "execute_result"
    }
   ],
   "source": [
    "e1.subir() # piso 1\n",
    "e1.subir() # piso 2\n",
    "\n",
    "e1.pisoActual"
   ]
  },
  {
   "cell_type": "code",
   "execution_count": 15,
   "metadata": {},
   "outputs": [],
   "source": [
    "class Elevador:\n",
    "    pisos = 10\n",
    "    pisoActual = 0\n",
    "    \n",
    "    def subir(self):\n",
    "        if self.pisoActual < 10:\n",
    "            self.pisoActual += 1\n",
    "    \n",
    "    def bajar(self):\n",
    "        if self.pisoActual > 0:\n",
    "            self.pisoActual -= 1\n",
    "            \n",
    "    def irAlPiso(self, piso):\n",
    "        while self.pisoActual < piso:\n",
    "            self.subir()\n",
    "        while self.pisoActual > piso:\n",
    "            self.bajar()"
   ]
  },
  {
   "cell_type": "code",
   "execution_count": 16,
   "metadata": {},
   "outputs": [
    {
     "data": {
      "text/plain": [
       "5"
      ]
     },
     "execution_count": 16,
     "metadata": {},
     "output_type": "execute_result"
    }
   ],
   "source": [
    "e1 = Elevador()\n",
    "\n",
    "# Ojo: Esto es forzado\n",
    "e1.pisoActual = 5\n",
    "\n",
    "e1.pisoActual"
   ]
  },
  {
   "cell_type": "code",
   "execution_count": 17,
   "metadata": {},
   "outputs": [
    {
     "data": {
      "text/plain": [
       "7"
      ]
     },
     "execution_count": 17,
     "metadata": {},
     "output_type": "execute_result"
    }
   ],
   "source": [
    "e1.irAlPiso(7)\n",
    "\n",
    "e1.pisoActual"
   ]
  },
  {
   "cell_type": "code",
   "execution_count": 18,
   "metadata": {},
   "outputs": [
    {
     "data": {
      "text/plain": [
       "2"
      ]
     },
     "execution_count": 18,
     "metadata": {},
     "output_type": "execute_result"
    }
   ],
   "source": [
    "e1.irAlPiso(2)\n",
    "\n",
    "e1.pisoActual"
   ]
  },
  {
   "cell_type": "code",
   "execution_count": 38,
   "metadata": {},
   "outputs": [],
   "source": [
    "class Elevador:\n",
    "    pisos = 10\n",
    "    pisoActual = 0\n",
    "    puertaAbierta = False\n",
    "    pisosSeleccionado = []\n",
    "    \n",
    "    def checarPiso(self):\n",
    "        # Checamos si el piso actual es parte de la lista de los seleccionados\n",
    "        # esto significa que llegó a un piso deseado y hay que abrir y cerrar la puerta\n",
    "        if self.pisosSeleccionado.count(self.pisoActual) > 0:\n",
    "            print(f\"Llego al piso {self.pisoActual}\")\n",
    "            # Cuándo llegamos a un piso ya seleccionado, lo quitamos de la lista\n",
    "            self.pisosSeleccionado.remove(self.pisoActual)\n",
    "            self.abrirPuerta()\n",
    "            print(f\"Esperando cerrar puerta en el piso {self.pisoActual}\")\n",
    "            self.cerrarPuerta()\n",
    "    \n",
    "    def subir(self):\n",
    "        if self.puertaAbierta:\n",
    "            print(\"cerrando puerta\")\n",
    "            self.cerrarPuerta()\n",
    "        \n",
    "        if self.pisoActual < 10:\n",
    "            print(f\"Subiendo del piso {self.pisoActual} al piso {self.pisoActual + 1}\")\n",
    "            self.pisoActual += 1\n",
    "            \n",
    "        self.checarPiso()\n",
    "    \n",
    "    def bajar(self):\n",
    "        if self.puertaAbierta:\n",
    "            print(\"cerrando puerta\")\n",
    "            self.puertaAbierta = False\n",
    "            \n",
    "        if self.pisoActual > 0:\n",
    "            print(f\"Bajando del piso {self.pisoActual} al piso {self.pisoActual - 1}\")\n",
    "            self.pisoActual -= 1\n",
    "            \n",
    "        self.checarPiso()\n",
    "            \n",
    "    def irAlPiso(self, piso):\n",
    "        while len(self.pisosSeleccionado) > 0 and self.pisoActual < piso:\n",
    "            self.subir()\n",
    "        while len(self.pisosSeleccionado) > 0 and self.pisoActual > piso:\n",
    "            self.bajar()\n",
    "            \n",
    "    def seleccionarPiso(self, piso):\n",
    "        if self.pisosSeleccionado.count(piso) == 0:\n",
    "            print(f\"Seleccionado piso {piso}\")\n",
    "            self.pisosSeleccionado.append(piso)\n",
    "            \n",
    "    def abrirPuerta(self):\n",
    "        print(f\"Abriendo puerta en el piso {self.pisoActual}\")\n",
    "        self.puertaAbierta = True\n",
    "        \n",
    "    def cerrarPuerta(self):\n",
    "        print(f\"Cerrando puerta en el piso {self.pisoActual}\")\n",
    "        self.puertaAbierta = False\n",
    "        \n",
    "        if len(self.pisosSeleccionado) == 0:\n",
    "            print(\"No hay pisos a los que viajar\")\n",
    "            return\n",
    "        \n",
    "        proximoPiso = self.pisosSeleccionado[0]\n",
    "        \n",
    "        print(f\"Viajando al próximo piso {proximoPiso} {self.pisosSeleccionado}\")\n",
    "        \n",
    "        self.irAlPiso(proximoPiso)"
   ]
  },
  {
   "cell_type": "code",
   "execution_count": 39,
   "metadata": {},
   "outputs": [
    {
     "name": "stdout",
     "output_type": "stream",
     "text": [
      "Seleccionado piso 5\n",
      "Seleccionado piso 7\n",
      "Seleccionado piso 4\n",
      "Seleccionado piso 9\n",
      "Seleccionado piso 2\n",
      "Cerrando puerta en el piso 0\n",
      "Viajando al próximo piso 5 [5, 7, 4, 9, 2]\n",
      "Subiendo del piso 0 al piso 1\n",
      "Subiendo del piso 1 al piso 2\n",
      "Llego al piso 2\n",
      "Abriendo puerta en el piso 2\n",
      "Esperando cerrar puerta en el piso 2\n",
      "Cerrando puerta en el piso 2\n",
      "Viajando al próximo piso 5 [5, 7, 4, 9]\n",
      "Subiendo del piso 2 al piso 3\n",
      "Subiendo del piso 3 al piso 4\n",
      "Llego al piso 4\n",
      "Abriendo puerta en el piso 4\n",
      "Esperando cerrar puerta en el piso 4\n",
      "Cerrando puerta en el piso 4\n",
      "Viajando al próximo piso 5 [5, 7, 9]\n",
      "Subiendo del piso 4 al piso 5\n",
      "Llego al piso 5\n",
      "Abriendo puerta en el piso 5\n",
      "Esperando cerrar puerta en el piso 5\n",
      "Cerrando puerta en el piso 5\n",
      "Viajando al próximo piso 7 [7, 9]\n",
      "Subiendo del piso 5 al piso 6\n",
      "Subiendo del piso 6 al piso 7\n",
      "Llego al piso 7\n",
      "Abriendo puerta en el piso 7\n",
      "Esperando cerrar puerta en el piso 7\n",
      "Cerrando puerta en el piso 7\n",
      "Viajando al próximo piso 9 [9]\n",
      "Subiendo del piso 7 al piso 8\n",
      "Subiendo del piso 8 al piso 9\n",
      "Llego al piso 9\n",
      "Abriendo puerta en el piso 9\n",
      "Esperando cerrar puerta en el piso 9\n",
      "Cerrando puerta en el piso 9\n",
      "No hay pisos a los que viajar\n"
     ]
    }
   ],
   "source": [
    "e1 = Elevador()\n",
    "\n",
    "e1.seleccionarPiso(5)\n",
    "e1.seleccionarPiso(7)\n",
    "e1.seleccionarPiso(4)\n",
    "e1.seleccionarPiso(9)\n",
    "e1.seleccionarPiso(2)\n",
    "\n",
    "e1.cerrarPuerta()"
   ]
  },
  {
   "cell_type": "code",
   "execution_count": 53,
   "metadata": {},
   "outputs": [],
   "source": [
    "import requests\n",
    "import json\n",
    "\n",
    "class Usuario:\n",
    "    id = \"\"\n",
    "    nombre = \"\"\n",
    "    email = \"\"\n",
    "    \n",
    "    def load(self, id):\n",
    "        url = f\"https://randomuser.me/api/?results=1&seed={id}\"\n",
    "        \n",
    "        response = requests.get(url)\n",
    "        \n",
    "        data = json.loads(response.text)\n",
    "        \n",
    "        title = data[\"results\"][0][\"name\"][\"title\"]\n",
    "        first = data[\"results\"][0][\"name\"][\"first\"]\n",
    "        last = data[\"results\"][0][\"name\"][\"last\"]\n",
    "        \n",
    "        self.id = data[\"results\"][0][\"login\"][\"uuid\"]\n",
    "        self.nombre = f\"{title} {first} {last}\"\n",
    "        self.email = data[\"results\"][0][\"email\"]\n",
    "        \n",
    "    def describe(self):\n",
    "        return f\"{self.nombre} ({self.email})\""
   ]
  },
  {
   "cell_type": "code",
   "execution_count": 54,
   "metadata": {},
   "outputs": [
    {
     "data": {
      "text/plain": [
       "'Mr Heldo Campos (heldo.campos@example.com)'"
      ]
     },
     "execution_count": 54,
     "metadata": {},
     "output_type": "execute_result"
    }
   ],
   "source": [
    "u123 = Usuario()\n",
    "\n",
    "u123.load(123)\n",
    "\n",
    "u123.describe()"
   ]
  },
  {
   "cell_type": "code",
   "execution_count": 55,
   "metadata": {},
   "outputs": [
    {
     "data": {
      "text/plain": [
       "'Mrs Johanne Probst (johanne.probst@example.com)'"
      ]
     },
     "execution_count": 55,
     "metadata": {},
     "output_type": "execute_result"
    }
   ],
   "source": [
    "u123 = Usuario()\n",
    "\n",
    "u123.load(124)\n",
    "\n",
    "u123.describe()"
   ]
  },
  {
   "cell_type": "code",
   "execution_count": 61,
   "metadata": {},
   "outputs": [],
   "source": [
    "class Producto:\n",
    "    id = \"\"\n",
    "    nombre = \"\"\n",
    "    precio = \"\"\n",
    "    \n",
    "    def loadProductos(self, filename):\n",
    "        f = open(filename)\n",
    "        content = f.read()\n",
    "        f.close()\n",
    "        \n",
    "        lines = content.split(\"\\n\")\n",
    "        \n",
    "        products = []\n",
    "        \n",
    "        for line in lines:\n",
    "            parts = line.split(\",\")\n",
    "            \n",
    "            id = int(parts[0])\n",
    "            nombre = parts[1]\n",
    "            precio = float(parts[2])\n",
    "            \n",
    "            product = Producto()\n",
    "            \n",
    "            # Forzado\n",
    "            product.id = id\n",
    "            product.nombre = nombre\n",
    "            product.precio = precio\n",
    "            \n",
    "            products.append(product)\n",
    "            \n",
    "        return products\n",
    "        \n",
    "    def describe(self):\n",
    "        return f\"{self.nombre} ${self.precio}\""
   ]
  },
  {
   "cell_type": "code",
   "execution_count": 63,
   "metadata": {},
   "outputs": [
    {
     "name": "stdout",
     "output_type": "stream",
     "text": [
      "\"Coca-cola 600ml\" $10.5\n",
      "\"Coca-cola 2L\" $18.5\n",
      "\"Galletas Marías\" $20.5\n"
     ]
    }
   ],
   "source": [
    "producto = Producto()\n",
    "\n",
    "productos = producto.loadProductos(\"products.txt\")\n",
    "\n",
    "for producto in productos:\n",
    "    print(producto.describe())"
   ]
  },
  {
   "cell_type": "code",
   "execution_count": 64,
   "metadata": {},
   "outputs": [],
   "source": [
    "class Producto:\n",
    "    id = \"\"\n",
    "    nombre = \"\"\n",
    "    precio = \"\"\n",
    "\n",
    "    @staticmethod\n",
    "    def loadProductos(filename):\n",
    "        f = open(filename)\n",
    "        content = f.read()\n",
    "        f.close()\n",
    "        \n",
    "        lines = content.split(\"\\n\")\n",
    "        \n",
    "        products = []\n",
    "        \n",
    "        for line in lines:\n",
    "            parts = line.split(\",\")\n",
    "            \n",
    "            id = int(parts[0])\n",
    "            nombre = parts[1]\n",
    "            precio = float(parts[2])\n",
    "            \n",
    "            product = Producto()\n",
    "            \n",
    "            # Forzado\n",
    "            product.id = id\n",
    "            product.nombre = nombre\n",
    "            product.precio = precio\n",
    "            \n",
    "            products.append(product)\n",
    "            \n",
    "        return products\n",
    "        \n",
    "    def describe(self):\n",
    "        return f\"{self.nombre} ${self.precio}\""
   ]
  },
  {
   "cell_type": "code",
   "execution_count": 65,
   "metadata": {},
   "outputs": [
    {
     "name": "stdout",
     "output_type": "stream",
     "text": [
      "\"Coca-cola 600ml\" $10.5\n",
      "\"Coca-cola 2L\" $18.5\n",
      "\"Galletas Marías\" $20.5\n"
     ]
    }
   ],
   "source": [
    "productos = Producto.loadProductos(\"products.txt\")\n",
    "\n",
    "for producto in productos:\n",
    "    print(producto.describe())"
   ]
  },
  {
   "cell_type": "markdown",
   "metadata": {},
   "source": [
    "En la clase anterior hemos colocado un decorador `@staticmethod` antes del método `loadProductos`, esto hace que método sea independiente de las instancias y accesible a tráves de la clase (`Producto.loadProductos(...)`). Sin embargo, en los métodos estáticos, no tendremos acceso a un self, ni podrá ser consumido a tráves de los objectos, es decir, estos métodos son puramente organizacionales y nos permiten definir funciones accesibles a través de la clase, para no tenerlas desperdigadas."
   ]
  },
  {
   "cell_type": "code",
   "execution_count": null,
   "metadata": {},
   "outputs": [],
   "source": []
  },
  {
   "cell_type": "code",
   "execution_count": null,
   "metadata": {},
   "outputs": [],
   "source": []
  }
 ],
 "metadata": {
  "kernelspec": {
   "display_name": "Python 3",
   "language": "python",
   "name": "python3"
  },
  "language_info": {
   "codemirror_mode": {
    "name": "ipython",
    "version": 3
   },
   "file_extension": ".py",
   "mimetype": "text/x-python",
   "name": "python",
   "nbconvert_exporter": "python",
   "pygments_lexer": "ipython3",
   "version": "3.7.3"
  }
 },
 "nbformat": 4,
 "nbformat_minor": 2
}
