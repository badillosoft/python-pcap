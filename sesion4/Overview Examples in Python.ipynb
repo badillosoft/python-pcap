{
 "cells": [
  {
   "cell_type": "markdown",
   "metadata": {},
   "source": [
    "# Descubriendo Python por Ejemplos\n",
    "\n",
    "Python es un lenguaje muy potente en la resolución y abstracción de problemas y mediante `pip` el cuál es un instalador de módulos y librerías compartidas en la comunidad, podemos usar miles de códigos y soluciones para poder resolver nuestros problemas. \n",
    "\n",
    "Vamos a comenzar por listar algunos problemas a los que nos enfrentamos en la programación del día a día.\n",
    "\n",
    "* Descargar el contenido de una URL\n",
    "* Consumir un Servicio Web\n",
    "* Extraer información de archivos de texto\n",
    "* Reconocer patrones en textos\n",
    "* Uso y comparación de fechas y horas\n",
    "* Manejo de archivos de excel\n",
    "* Manejo de tablas SQL, consultar e insertar\n",
    "* Cómputo de columnas en tablas\n",
    "* Generar reportes PDF y gráficas\n",
    "* Proveer un servicio web (APIs, archivos)\n",
    "* Crear procesos (trabajos o workers) \n",
    "* Ejecutar procesos en hilos\n",
    "* Procesar vectores y matrices de grandes volúmenes\n",
    "* Procesar imágenes, audio, video, etc.\n",
    "* Simular procesos (usuarios, eventos, situaciones)\n",
    "* Bases de datos No Relaciones (mongo y json)\n",
    "* Crear un servidor web\n",
    "* Módulo de operaciones\n",
    "\n",
    "En la siguiente lista se muestran algunas librerías útiles muy comunes en Python.\n",
    "\n",
    "* `requests`, `beatufil soup (bs4)`\n",
    "* `json`\n",
    "* `regular expression (re)`\n",
    "* `NLTK`\n",
    "* `datetime`, `date`, `time`\n",
    "* ISO, tuplas, diccionarios\n",
    "* `pandas (read_excel, to_csv, write_excel)`\n",
    "* `pandas (sql, to_sql)`\n",
    "* `pandas (DataFrames, query, map)`\n",
    "* `matplotlib`, `seaborn`, `pdflab`\n",
    "* `django`, `bottle`, `flask`\n",
    "* Funciones, `threading`\n",
    "* `numpy`\n",
    "* `pillow (PIL)`\n",
    "* `SymPy (simular eventos, usuarios, transacciones)`\n",
    "* `MongoClient`, `Mongoose`"
   ]
  },
  {
   "cell_type": "markdown",
   "metadata": {},
   "source": [
    "## 1. Descargar el contenido de una URL"
   ]
  },
  {
   "cell_type": "code",
   "execution_count": 4,
   "metadata": {},
   "outputs": [
    {
     "name": "stdout",
     "output_type": "stream",
     "text": [
      "\n",
      "<!DOCTYPE html>\n",
      "<html lang=\"en\">\n",
      "  <head>\n",
      "    <meta http-equiv=\"Content-Type\" content=\"text/html; charset=utf-8\" />\n",
      "    <meta name=\"viewport\" content=\"width=device-width, initial-scale=1, maximum-scale=1\" />\n",
      "    <title>SymPy</title>\n",
      "    <link href=\"//netdna.bootstrapcdn.com/font-awesome/3.2.1/css/font-awesome.css\" rel=\"stylesheet\" type=\"text/css\" />\n",
      "    <!-- <link rel=\"stylesheet\" href=\"/static/css/base.css\" type=\"text/css\" media=\"screen\" /> -->\n",
      "    <!-- <link rel=\"stylesheet\" id=\"current-theme\n"
     ]
    }
   ],
   "source": [
    "# Importación canónica\n",
    "import requests\n",
    "\n",
    "url = \"https://www.sympy.org/en/index.html\"\n",
    "\n",
    "# 1. Obtener la respuesta de una petición a la URL\n",
    "response = requests.get(url)\n",
    "\n",
    "# 2. Comprobar si la petición pudo realizarse (http status code 200)\n",
    "if response.status_code == 200:\n",
    "    # Imprimimos los primeros 500 caractéres del texto de respuesta\n",
    "    print(response.text[:500])"
   ]
  },
  {
   "cell_type": "markdown",
   "metadata": {},
   "source": [
    "### Descargar una imagen de una url"
   ]
  },
  {
   "cell_type": "code",
   "execution_count": 8,
   "metadata": {},
   "outputs": [],
   "source": [
    "import requests\n",
    "\n",
    "# 1. Obtenemos la respuesta de la peteción\n",
    "response = requests.get(\"https://www.sympy.org/static/images/logo.png\")\n",
    "\n",
    "# 2. Abrir un archivo para guardar el contenido de la respuesta\n",
    "# * abrir en modo escritura binaria `wb`\n",
    "f = open(\"sesion4/output/logo.png\", \"wb\")\n",
    "\n",
    "# 3. Grabamos en el archivo el contenido\n",
    "f.write(response.content)\n",
    "\n",
    "# 4. Cerrar el archivo\n",
    "f.close()"
   ]
  },
  {
   "cell_type": "markdown",
   "metadata": {},
   "source": [
    "### Extraer información de un contenido HTTP"
   ]
  },
  {
   "cell_type": "code",
   "execution_count": 11,
   "metadata": {},
   "outputs": [],
   "source": [
    "import requests\n",
    "# Importación por partes (importación parcial)\n",
    "from bs4 import BeautifulSoup\n",
    "\n",
    "url = \"https://www.sympy.org/en/index.html\"\n",
    "\n",
    "response = requests.get(url)\n",
    "\n",
    "html = response.text\n",
    "\n",
    "soup = BeautifulSoup(html, \"html.parser\")\n",
    "\n",
    "links = soup.find_all(\"a\")\n",
    "\n",
    "titles = soup.find_all(\"h1\")"
   ]
  },
  {
   "cell_type": "code",
   "execution_count": 12,
   "metadata": {},
   "outputs": [
    {
     "data": {
      "text/plain": [
       "<a href=\"index.html\"> <img alt=\"SymPy Logo\" src=\"/static/images/logo.png\"/> SymPy</a>"
      ]
     },
     "execution_count": 12,
     "metadata": {},
     "output_type": "execute_result"
    }
   ],
   "source": [
    "links[0]"
   ]
  },
  {
   "cell_type": "code",
   "execution_count": 14,
   "metadata": {},
   "outputs": [
    {
     "name": "stdout",
     "output_type": "stream",
     "text": [
      "index.html   SymPy\n",
      "index.html Main Page\n",
      "features.html Features\n",
      "download.html Download\n",
      "https://docs.sympy.org Documentation \n",
      "support.html Support\n",
      "development.html Development\n",
      "roadmap.html Roadmap\n",
      "donate.html Donate\n",
      "https://live.sympy.org/ Online Shell \n"
     ]
    }
   ],
   "source": [
    "# Recorremos los primeros 10 enlaces (etiquetas `<a>`)\n",
    "for link in links[:10]:\n",
    "    # Imprime el atributo <a href=\"...\"> y su texto contenido\n",
    "    print(link.get(\"href\"), link.text)"
   ]
  },
  {
   "cell_type": "markdown",
   "metadata": {},
   "source": [
    "## 2. Consumir un servicio web"
   ]
  },
  {
   "cell_type": "code",
   "execution_count": 19,
   "metadata": {},
   "outputs": [
    {
     "data": {
      "text/plain": [
       "{'results': [{'gender': 'male',\n",
       "   'name': {'title': 'Mr', 'first': 'Redwan', 'last': 'Smout'},\n",
       "   'location': {'street': {'number': 9329, 'name': 'Hazendammerweg'},\n",
       "    'city': 'Westendorp',\n",
       "    'state': 'Zeeland',\n",
       "    'country': 'Netherlands',\n",
       "    'postcode': 14717,\n",
       "    'coordinates': {'latitude': '38.2040', 'longitude': '-73.4773'},\n",
       "    'timezone': {'offset': '+9:30', 'description': 'Adelaide, Darwin'}},\n",
       "   'email': 'redwan.smout@example.com',\n",
       "   'login': {'uuid': 'baeeaed0-6f20-45f9-a472-c6b7ac88c23c',\n",
       "    'username': 'lazycat831',\n",
       "    'password': 'contortionist',\n",
       "    'salt': 'x9kdw0Jz',\n",
       "    'md5': '6e1ae5cb127bb0e804cf53694db09427',\n",
       "    'sha1': '2e652556e34558297abf1f41bea279650f085ef7',\n",
       "    'sha256': '196a51a19c6b6258f9d76af44495a20db60510151472c100f44b61694b33bd38'},\n",
       "   'dob': {'date': '1966-10-23T10:20:11.948Z', 'age': 54},\n",
       "   'registered': {'date': '2014-10-01T16:45:28.282Z', 'age': 6},\n",
       "   'phone': '(675)-571-2736',\n",
       "   'cell': '(662)-393-8906',\n",
       "   'id': {'name': 'BSN', 'value': '57639097'},\n",
       "   'picture': {'large': 'https://randomuser.me/api/portraits/men/48.jpg',\n",
       "    'medium': 'https://randomuser.me/api/portraits/med/men/48.jpg',\n",
       "    'thumbnail': 'https://randomuser.me/api/portraits/thumb/men/48.jpg'},\n",
       "   'nat': 'NL'},\n",
       "  {'gender': 'female',\n",
       "   'name': {'title': 'Ms', 'first': 'Tara', 'last': 'Wheeler'},\n",
       "   'location': {'street': {'number': 8138, 'name': 'Hamilton Ave'},\n",
       "    'city': 'Bunbury',\n",
       "    'state': 'New South Wales',\n",
       "    'country': 'Australia',\n",
       "    'postcode': 8944,\n",
       "    'coordinates': {'latitude': '-34.0970', 'longitude': '48.5532'},\n",
       "    'timezone': {'offset': '+5:00',\n",
       "     'description': 'Ekaterinburg, Islamabad, Karachi, Tashkent'}},\n",
       "   'email': 'tara.wheeler@example.com',\n",
       "   'login': {'uuid': 'a935f6cf-1a8c-4a5e-8fb0-eefcad5339f7',\n",
       "    'username': 'greenbear633',\n",
       "    'password': '1210',\n",
       "    'salt': '8EEKN18k',\n",
       "    'md5': '22814af0138fb0de86288c456a610e7a',\n",
       "    'sha1': '2ce270d66e49af412059bfbec6c0a92076de7c2c',\n",
       "    'sha256': '217d1ba150c840ae360733a470d5a3cf552416bd213e8c26ffe39703dc2e06b1'},\n",
       "   'dob': {'date': '1960-01-15T22:58:30.348Z', 'age': 60},\n",
       "   'registered': {'date': '2010-02-14T20:37:27.784Z', 'age': 10},\n",
       "   'phone': '01-9402-3420',\n",
       "   'cell': '0489-995-565',\n",
       "   'id': {'name': 'TFN', 'value': '063025517'},\n",
       "   'picture': {'large': 'https://randomuser.me/api/portraits/women/84.jpg',\n",
       "    'medium': 'https://randomuser.me/api/portraits/med/women/84.jpg',\n",
       "    'thumbnail': 'https://randomuser.me/api/portraits/thumb/women/84.jpg'},\n",
       "   'nat': 'AU'},\n",
       "  {'gender': 'female',\n",
       "   'name': {'title': 'Ms', 'first': 'Inaya', 'last': 'Legrand'},\n",
       "   'location': {'street': {'number': 9635, 'name': \"Rue de L'Abbé-Rousselot\"},\n",
       "    'city': 'Saint-Étienne',\n",
       "    'state': 'Cher',\n",
       "    'country': 'France',\n",
       "    'postcode': 28909,\n",
       "    'coordinates': {'latitude': '-1.1274', 'longitude': '34.1472'},\n",
       "    'timezone': {'offset': '+10:00',\n",
       "     'description': 'Eastern Australia, Guam, Vladivostok'}},\n",
       "   'email': 'inaya.legrand@example.com',\n",
       "   'login': {'uuid': 'adf20509-47d2-4f70-b464-0dfff89980a5',\n",
       "    'username': 'organicmouse432',\n",
       "    'password': 'reeves',\n",
       "    'salt': 'RjZvbib0',\n",
       "    'md5': '60af3a2f92f8cdbf1704fe98e5e0f230',\n",
       "    'sha1': '6beee4976ba1d0b2c7e13b24788b1c8d0c390e3d',\n",
       "    'sha256': 'cf65d1ba412d45635bd8ecdc1483321f1df7fc46165dcf5052945707ce8fe9d0'},\n",
       "   'dob': {'date': '1991-05-31T19:06:46.330Z', 'age': 29},\n",
       "   'registered': {'date': '2017-11-11T07:24:03.297Z', 'age': 3},\n",
       "   'phone': '04-33-76-88-34',\n",
       "   'cell': '06-41-29-32-19',\n",
       "   'id': {'name': 'INSEE', 'value': '2NNaN42350976 73'},\n",
       "   'picture': {'large': 'https://randomuser.me/api/portraits/women/78.jpg',\n",
       "    'medium': 'https://randomuser.me/api/portraits/med/women/78.jpg',\n",
       "    'thumbnail': 'https://randomuser.me/api/portraits/thumb/women/78.jpg'},\n",
       "   'nat': 'FR'},\n",
       "  {'gender': 'male',\n",
       "   'name': {'title': 'Mr', 'first': 'Gudo', 'last': 'Panis'},\n",
       "   'location': {'street': {'number': 1936, 'name': 'Jan Coolenhof'},\n",
       "    'city': 'Halderberge',\n",
       "    'state': 'Friesland',\n",
       "    'country': 'Netherlands',\n",
       "    'postcode': 32293,\n",
       "    'coordinates': {'latitude': '-72.2116', 'longitude': '-96.5830'},\n",
       "    'timezone': {'offset': '+2:00',\n",
       "     'description': 'Kaliningrad, South Africa'}},\n",
       "   'email': 'gudo.panis@example.com',\n",
       "   'login': {'uuid': '882ce7a7-8eff-49d2-bb2d-5020fb995ded',\n",
       "    'username': 'whiteleopard823',\n",
       "    'password': 'pajero',\n",
       "    'salt': '7BfKIwLf',\n",
       "    'md5': 'b06ff33a717c2089df9898019363aa3f',\n",
       "    'sha1': 'ddf9d77e89751407a328f6db0cad0ab275d43f12',\n",
       "    'sha256': 'd6647ce7473a15ae508548977fa70e2f7c69bedb138c36df790652d2c95da843'},\n",
       "   'dob': {'date': '1960-11-24T20:59:34.335Z', 'age': 60},\n",
       "   'registered': {'date': '2018-03-29T08:31:47.652Z', 'age': 2},\n",
       "   'phone': '(418)-596-3958',\n",
       "   'cell': '(153)-610-3167',\n",
       "   'id': {'name': 'BSN', 'value': '22560047'},\n",
       "   'picture': {'large': 'https://randomuser.me/api/portraits/men/68.jpg',\n",
       "    'medium': 'https://randomuser.me/api/portraits/med/men/68.jpg',\n",
       "    'thumbnail': 'https://randomuser.me/api/portraits/thumb/men/68.jpg'},\n",
       "   'nat': 'NL'},\n",
       "  {'gender': 'female',\n",
       "   'name': {'title': 'Mrs', 'first': 'Leah', 'last': 'Newman'},\n",
       "   'location': {'street': {'number': 5157, 'name': 'High Street'},\n",
       "    'city': 'Swords',\n",
       "    'state': 'Wexford',\n",
       "    'country': 'Ireland',\n",
       "    'postcode': 83138,\n",
       "    'coordinates': {'latitude': '50.9256', 'longitude': '-62.1294'},\n",
       "    'timezone': {'offset': '-8:00',\n",
       "     'description': 'Pacific Time (US & Canada)'}},\n",
       "   'email': 'leah.newman@example.com',\n",
       "   'login': {'uuid': '5bade567-23f4-432f-b458-0fbbc6c45883',\n",
       "    'username': 'goldencat904',\n",
       "    'password': 'osama',\n",
       "    'salt': 'Y0qmxSLS',\n",
       "    'md5': 'eb2e39947d101f3a58e93943a72ce148',\n",
       "    'sha1': '384f009107aad833ea4bacb6b3ef876677060ab6',\n",
       "    'sha256': 'd4a1d8caf8cf6fa784ef8c57eda7c6d3f8d60feb8ab9c125457a0621c9d736dc'},\n",
       "   'dob': {'date': '1954-07-19T11:08:15.540Z', 'age': 66},\n",
       "   'registered': {'date': '2004-01-09T14:57:59.358Z', 'age': 16},\n",
       "   'phone': '061-629-3366',\n",
       "   'cell': '081-886-9862',\n",
       "   'id': {'name': 'PPS', 'value': '2178877T'},\n",
       "   'picture': {'large': 'https://randomuser.me/api/portraits/women/52.jpg',\n",
       "    'medium': 'https://randomuser.me/api/portraits/med/women/52.jpg',\n",
       "    'thumbnail': 'https://randomuser.me/api/portraits/thumb/women/52.jpg'},\n",
       "   'nat': 'IE'}],\n",
       " 'info': {'seed': 'ba9231253b1afb4e',\n",
       "  'results': 5,\n",
       "  'page': 1,\n",
       "  'version': '1.3'}}"
      ]
     },
     "execution_count": 19,
     "metadata": {},
     "output_type": "execute_result"
    }
   ],
   "source": [
    "import requests\n",
    "import json\n",
    "\n",
    "url = \"https://randomuser.me/api/?results=5\"\n",
    "\n",
    "# 1. Obtener la respuesta de la petición al servicio web\n",
    "# requests.post(...)\n",
    "response = requests.get(url)\n",
    "\n",
    "# 2. Recuperar la información estructurada desde el formato JSON\n",
    "# a diccionarios y listas de Python\n",
    "data = json.loads(response.text)\n",
    "\n",
    "data"
   ]
  },
  {
   "cell_type": "code",
   "execution_count": 21,
   "metadata": {},
   "outputs": [
    {
     "data": {
      "text/plain": [
       "'Tara'"
      ]
     },
     "execution_count": 21,
     "metadata": {},
     "output_type": "execute_result"
    }
   ],
   "source": [
    "data[\"results\"][1][\"name\"][\"first\"]"
   ]
  },
  {
   "cell_type": "code",
   "execution_count": 22,
   "metadata": {},
   "outputs": [
    {
     "data": {
      "text/plain": [
       "'tara.wheeler@example.com'"
      ]
     },
     "execution_count": 22,
     "metadata": {},
     "output_type": "execute_result"
    }
   ],
   "source": [
    "data[\"results\"][1][\"email\"]"
   ]
  },
  {
   "cell_type": "code",
   "execution_count": 23,
   "metadata": {},
   "outputs": [
    {
     "data": {
      "text/plain": [
       "{'large': 'https://randomuser.me/api/portraits/women/84.jpg',\n",
       " 'medium': 'https://randomuser.me/api/portraits/med/women/84.jpg',\n",
       " 'thumbnail': 'https://randomuser.me/api/portraits/thumb/women/84.jpg'}"
      ]
     },
     "execution_count": 23,
     "metadata": {},
     "output_type": "execute_result"
    }
   ],
   "source": [
    "data[\"results\"][1][\"picture\"]"
   ]
  },
  {
   "cell_type": "code",
   "execution_count": 24,
   "metadata": {},
   "outputs": [],
   "source": [
    "import requests\n",
    "\n",
    "url = data[\"results\"][1][\"picture\"][\"large\"]\n",
    "\n",
    "response = requests.get(url)\n",
    "\n",
    "f = open(\"sesion4/output/tara.png\", \"wb\")\n",
    "\n",
    "f.write(response.content)\n",
    "\n",
    "f.close()"
   ]
  },
  {
   "cell_type": "markdown",
   "metadata": {},
   "source": [
    "**Ejercicio:** Consumir el API de randomuser.me para obtener 10 usuarios y almacenar las imágenes grandes de cada usuario usando el nombre del usuario y la extensión *.png* (Tara.png) para el usuario con nombre Tara."
   ]
  },
  {
   "cell_type": "markdown",
   "metadata": {},
   "source": [
    "## 3. Extraer información de archivos de texto"
   ]
  },
  {
   "cell_type": "code",
   "execution_count": 4,
   "metadata": {},
   "outputs": [
    {
     "data": {
      "text/plain": [
       "'Jan  9 11:03:59 localhost.localdomain  GPFS MONITOR[19385]: ys3565: state: active => unknown rdma: true => null verbs_ports: 1 => null\\nJan  9 11:03:59 localhost.localdomain  GPFS MONITOR[19385]: ys3565: gpfsmond run error: mmgetstate HEADER line not found\\nJan  9 11:05:59 localhost.localdomain  GPFS MONITOR[19385]: ys3835: state: active => unknown rdma: true => null verbs_ports: 1 => null\\nJan  9 11:05:59 localhost.localdomain  GPFS MONITOR[19385]: ys3835: glade_u: mounted, stale, remount disabled'"
      ]
     },
     "execution_count": 4,
     "metadata": {},
     "output_type": "execute_result"
    }
   ],
   "source": [
    "# 1. Abrir el archivo\n",
    "f = open(\"sesion4/input/sample-syslog.txt\")\n",
    "\n",
    "# 2. Leer el contenido del archivo\n",
    "content = f.read()\n",
    "\n",
    "# 3. Cerrar el archivo y liberar el cursos (desbloquear)\n",
    "f.close()\n",
    "\n",
    "# Monstrar los primeros 500 caracteres\n",
    "content[:500]"
   ]
  },
  {
   "cell_type": "code",
   "execution_count": 6,
   "metadata": {},
   "outputs": [
    {
     "data": {
      "text/plain": [
       "['Jan  9 11:03:59 localhost.localdomain  GPFS MONITOR[19385]: ys3565: state: active => unknown rdma: true => null verbs_ports: 1 => null',\n",
       " 'Jan  9 11:03:59 localhost.localdomain  GPFS MONITOR[19385]: ys3565: gpfsmond run error: mmgetstate HEADER line not found',\n",
       " 'Jan  9 11:05:59 localhost.localdomain  GPFS MONITOR[19385]: ys3835: state: active => unknown rdma: true => null verbs_ports: 1 => null',\n",
       " 'Jan  9 11:05:59 localhost.localdomain  GPFS MONITOR[19385]: ys3835: glade_u: mounted, stale, remount disabled',\n",
       " 'Jan  9 11:05:59 localhost.localdomain  GPFS MONITOR[19385]: ys3835: glade_p: mounted, stale, remount disabled']"
      ]
     },
     "execution_count": 6,
     "metadata": {},
     "output_type": "execute_result"
    }
   ],
   "source": [
    "# Cortamos el contenido (el texto/string) por el separador salto de línea\n",
    "lines = content.split(\"\\n\")\n",
    "\n",
    "# Mostrar las primeras 5 líneas (los primeros 5 elementos/textos de nuestra línea)\n",
    "lines[:5]"
   ]
  },
  {
   "cell_type": "markdown",
   "metadata": {},
   "source": [
    "## 4. Reconocer patrones en textos\n",
    "\n",
    "**Expresiones Regulares**\n",
    "\n",
    "**Nota:** Patrón de `Jan  9 11:03:59`\n",
    "\n",
    "Patrón: COMIENZA_TEXTO TRES_CARACTERES(Mayúsculas o minúsculas) ESPACIOS(Al menos uno) DIGITOS(1 o 2) ESPACIOS(Al menos uno) DIGITOS(1 o 2) MARCADOR(:) DIGITOS(1 o 2) MARCADOR(:) DIGITOS(1 o 2) "
   ]
  },
  {
   "cell_type": "code",
   "execution_count": 19,
   "metadata": {},
   "outputs": [
    {
     "name": "stdout",
     "output_type": "stream",
     "text": [
      "Jan  9 11:03:59\n",
      "········································\n",
      "mes: Jan\n",
      "día: 9\n",
      "hora: 11\n",
      "minuto: 03\n",
      "seugndo: 59\n",
      "Hora Hábil?  True\n",
      "Día Par?  False\n",
      "----------------------------------------\n",
      "Jan  9 11:03:59\n",
      "········································\n",
      "mes: Jan\n",
      "día: 9\n",
      "hora: 11\n",
      "minuto: 03\n",
      "seugndo: 59\n",
      "Hora Hábil?  True\n",
      "Día Par?  False\n",
      "----------------------------------------\n",
      "Jan  9 11:05:59\n",
      "········································\n",
      "mes: Jan\n",
      "día: 9\n",
      "hora: 11\n",
      "minuto: 05\n",
      "seugndo: 59\n",
      "Hora Hábil?  True\n",
      "Día Par?  False\n",
      "----------------------------------------\n",
      "Jan  9 11:05:59\n",
      "········································\n",
      "mes: Jan\n",
      "día: 9\n",
      "hora: 11\n",
      "minuto: 05\n",
      "seugndo: 59\n",
      "Hora Hábil?  True\n",
      "Día Par?  False\n",
      "----------------------------------------\n",
      "Jan  9 11:05:59\n",
      "········································\n",
      "mes: Jan\n",
      "día: 9\n",
      "hora: 11\n",
      "minuto: 05\n",
      "seugndo: 59\n",
      "Hora Hábil?  True\n",
      "Día Par?  False\n",
      "----------------------------------------\n"
     ]
    }
   ],
   "source": [
    "import re\n",
    "\n",
    "pattern = r\"^([A-Za-z]{3})\\s+(\\d{1,2})\\s+(\\d{1,2}):(\\d{1,2}):(\\d{1,2})\"\n",
    "\n",
    "for line in lines[:5]:\n",
    "    match = re.search(pattern, line)\n",
    "    \n",
    "    print(match.group(0))\n",
    "    print(\"·\" * 40)\n",
    "    print(\"mes:\", match.group(1))\n",
    "    print(\"día:\", match.group(2))\n",
    "    print(\"hora:\", match.group(3))\n",
    "    print(\"minuto:\", match.group(4))\n",
    "    print(\"seugndo:\", match.group(5))\n",
    "    dia = int(match.group(2))\n",
    "    h = int(match.group(3))\n",
    "    m = int(match.group(4))\n",
    "    s = int(match.group(5))\n",
    "    esHabil = h >= 8 and h <= 17\n",
    "    esDiaPar = dia % 2 == 0\n",
    "    print(\"Hora Hábil? \", esHabil)\n",
    "    print(\"Día Par? \", esDiaPar)\n",
    "    print(\"-\" * 40)"
   ]
  },
  {
   "cell_type": "markdown",
   "metadata": {},
   "source": [
    "## 5. Comparación entre fechas"
   ]
  },
  {
   "cell_type": "code",
   "execution_count": 24,
   "metadata": {},
   "outputs": [
    {
     "data": {
      "text/plain": [
       "'2020-12-05T10:50:41.791901'"
      ]
     },
     "execution_count": 24,
     "metadata": {},
     "output_type": "execute_result"
    }
   ],
   "source": [
    "from datetime import datetime\n",
    "\n",
    "# Recuperamos la fecha actual en texto con el formato ISO\n",
    "now = datetime.now().isoformat()\n",
    "\n",
    "now"
   ]
  },
  {
   "cell_type": "code",
   "execution_count": 30,
   "metadata": {},
   "outputs": [
    {
     "data": {
      "text/plain": [
       "'1988-08-21T14:00:00'"
      ]
     },
     "execution_count": 30,
     "metadata": {},
     "output_type": "execute_result"
    }
   ],
   "source": [
    "# \"1988-08-21T14:00:00\"\n",
    "birth = datetime(1988, 8, 21, 14, 0, 0).isoformat()\n",
    "\n",
    "birth"
   ]
  },
  {
   "cell_type": "code",
   "execution_count": 32,
   "metadata": {},
   "outputs": [],
   "source": [
    "import re\n",
    "\n",
    "pattern = \"^(\\d{4})-(\\d{2})-(\\d{2})T(\\d{2}):(\\d{2}):(\\d{2})\\.?(\\d{3,6})?\""
   ]
  },
  {
   "cell_type": "code",
   "execution_count": 33,
   "metadata": {},
   "outputs": [
    {
     "data": {
      "text/plain": [
       "<re.Match object; span=(0, 26), match='2020-12-05T10:50:41.791901'>"
      ]
     },
     "execution_count": 33,
     "metadata": {},
     "output_type": "execute_result"
    }
   ],
   "source": [
    "match_now = re.search(pattern, now)\n",
    "\n",
    "match_now"
   ]
  },
  {
   "cell_type": "code",
   "execution_count": 34,
   "metadata": {},
   "outputs": [
    {
     "data": {
      "text/plain": [
       "<re.Match object; span=(0, 26), match='2020-12-05T10:50:41.791901'>"
      ]
     },
     "execution_count": 34,
     "metadata": {},
     "output_type": "execute_result"
    }
   ],
   "source": [
    "match_birth = re.search(pattern, now)\n",
    "\n",
    "match_birth"
   ]
  },
  {
   "cell_type": "code",
   "execution_count": 35,
   "metadata": {},
   "outputs": [
    {
     "data": {
      "text/plain": [
       "(2020, 12, 5, 10, 50, 41)"
      ]
     },
     "execution_count": 35,
     "metadata": {},
     "output_type": "execute_result"
    }
   ],
   "source": [
    "year_now = int(match_now.group(1))\n",
    "month_now = int(match_now.group(2))\n",
    "day_now = int(match_now.group(3))\n",
    "hour_now = int(match_now.group(4))\n",
    "minute_now = int(match_now.group(5))\n",
    "second_now = int(match_now.group(6))\n",
    "\n",
    "(year_now, month_now, day_now, hour_now, minute_now, second_now)"
   ]
  },
  {
   "cell_type": "code",
   "execution_count": 45,
   "metadata": {},
   "outputs": [],
   "source": [
    "def extract_isodate(isodate):\n",
    "    match = re.search(\"(\\d{4})-(\\d{2})-(\\d{2})T(\\d{2}):(\\d{2}):(\\d{2})\", isodate)\n",
    "    year = match.group(1)\n",
    "    month = match.group(2)\n",
    "    day = match.group(3)\n",
    "    hour = match.group(4)\n",
    "    minute = match.group(5)\n",
    "    second = match.group(6)\n",
    "    return (int(year), int(month), int(day), int(hour), int(minute), int(second))\n",
    "    \n",
    "# Calcula el tiempo transcurrido en segundos de una fecha ISO a la fecha y hora actual\n",
    "def elapsed(now, isodate):\n",
    "    y2, m2, d2, hh2, mm2, ss2 = extract_isodate(now)\n",
    "    y1, m1, d1, hh1, mm1, ss1 = extract_isodate(isodate)\n",
    "    \n",
    "    date2 = datetime(y2, m2, d2, hh2, mm2, ss2)\n",
    "    date1 = datetime(y1, m1, d1, hh1, mm1, ss1)\n",
    "    \n",
    "    print(date1, date2)\n",
    "    \n",
    "    return abs(date2 - date1).seconds"
   ]
  },
  {
   "cell_type": "code",
   "execution_count": 43,
   "metadata": {},
   "outputs": [
    {
     "data": {
      "text/plain": [
       "'2020-12-05T10:50:41.791901'"
      ]
     },
     "execution_count": 43,
     "metadata": {},
     "output_type": "execute_result"
    }
   ],
   "source": [
    "now"
   ]
  },
  {
   "cell_type": "code",
   "execution_count": 44,
   "metadata": {},
   "outputs": [
    {
     "data": {
      "text/plain": [
       "'1988-08-21T14:00:00'"
      ]
     },
     "execution_count": 44,
     "metadata": {},
     "output_type": "execute_result"
    }
   ],
   "source": [
    "birth"
   ]
  },
  {
   "cell_type": "code",
   "execution_count": 46,
   "metadata": {},
   "outputs": [
    {
     "name": "stdout",
     "output_type": "stream",
     "text": [
      "1988-08-21 14:00:00 2020-12-05 10:50:41\n"
     ]
    },
    {
     "data": {
      "text/plain": [
       "75041"
      ]
     },
     "execution_count": 46,
     "metadata": {},
     "output_type": "execute_result"
    }
   ],
   "source": [
    "seconds = elapsed(now, birth)\n",
    "\n",
    "seconds"
   ]
  },
  {
   "cell_type": "code",
   "execution_count": 41,
   "metadata": {},
   "outputs": [
    {
     "data": {
      "text/plain": [
       "1250.6833333333334"
      ]
     },
     "execution_count": 41,
     "metadata": {},
     "output_type": "execute_result"
    }
   ],
   "source": [
    "seconds / 60"
   ]
  },
  {
   "cell_type": "code",
   "execution_count": 42,
   "metadata": {},
   "outputs": [
    {
     "data": {
      "text/plain": [
       "20.844722222222224"
      ]
     },
     "execution_count": 42,
     "metadata": {},
     "output_type": "execute_result"
    }
   ],
   "source": [
    "seconds / 60 / 60"
   ]
  },
  {
   "cell_type": "code",
   "execution_count": null,
   "metadata": {},
   "outputs": [],
   "source": [
    "###########"
   ]
  },
  {
   "cell_type": "markdown",
   "metadata": {},
   "source": [
    "Documentación de Pandas: https://pandas.pydata.org/docs/getting_started/intro_tutorials/01_table_oriented.html"
   ]
  },
  {
   "cell_type": "code",
   "execution_count": 49,
   "metadata": {},
   "outputs": [
    {
     "data": {
      "text/html": [
       "<div>\n",
       "<style scoped>\n",
       "    .dataframe tbody tr th:only-of-type {\n",
       "        vertical-align: middle;\n",
       "    }\n",
       "\n",
       "    .dataframe tbody tr th {\n",
       "        vertical-align: top;\n",
       "    }\n",
       "\n",
       "    .dataframe thead th {\n",
       "        text-align: right;\n",
       "    }\n",
       "</style>\n",
       "<table border=\"1\" class=\"dataframe\">\n",
       "  <thead>\n",
       "    <tr style=\"text-align: right;\">\n",
       "      <th></th>\n",
       "      <th>CLAVE_MUNICIPIO</th>\n",
       "      <th>MUNICIPIO</th>\n",
       "      <th>CLAVE_ENTIDAD</th>\n",
       "    </tr>\n",
       "  </thead>\n",
       "  <tbody>\n",
       "    <tr>\n",
       "      <th>0</th>\n",
       "      <td>1</td>\n",
       "      <td>AGUASCALIENTES</td>\n",
       "      <td>1</td>\n",
       "    </tr>\n",
       "    <tr>\n",
       "      <th>1</th>\n",
       "      <td>2</td>\n",
       "      <td>ASIENTOS</td>\n",
       "      <td>1</td>\n",
       "    </tr>\n",
       "    <tr>\n",
       "      <th>2</th>\n",
       "      <td>3</td>\n",
       "      <td>CALVILLO</td>\n",
       "      <td>1</td>\n",
       "    </tr>\n",
       "    <tr>\n",
       "      <th>3</th>\n",
       "      <td>4</td>\n",
       "      <td>COSÍO</td>\n",
       "      <td>1</td>\n",
       "    </tr>\n",
       "    <tr>\n",
       "      <th>4</th>\n",
       "      <td>5</td>\n",
       "      <td>JESÚS MARÍA</td>\n",
       "      <td>1</td>\n",
       "    </tr>\n",
       "  </tbody>\n",
       "</table>\n",
       "</div>"
      ],
      "text/plain": [
       "   CLAVE_MUNICIPIO       MUNICIPIO  CLAVE_ENTIDAD\n",
       "0                1  AGUASCALIENTES              1\n",
       "1                2        ASIENTOS              1\n",
       "2                3        CALVILLO              1\n",
       "3                4           COSÍO              1\n",
       "4                5     JESÚS MARÍA              1"
      ]
     },
     "execution_count": 49,
     "metadata": {},
     "output_type": "execute_result"
    }
   ],
   "source": [
    "# Importación por alias (seudónimo)\n",
    "import pandas as pd\n",
    "\n",
    "# 1. Leer el DataFrame (tabla)\n",
    "df_municipios = pd.read_excel(\"sesion4/input/covid/Catalogs.xlsx\", sheet_name=\"Catálogo MUNICIPIOS\")\n",
    "\n",
    "df_municipios.head()"
   ]
  },
  {
   "cell_type": "code",
   "execution_count": 50,
   "metadata": {},
   "outputs": [
    {
     "data": {
      "text/html": [
       "<div>\n",
       "<style scoped>\n",
       "    .dataframe tbody tr th:only-of-type {\n",
       "        vertical-align: middle;\n",
       "    }\n",
       "\n",
       "    .dataframe tbody tr th {\n",
       "        vertical-align: top;\n",
       "    }\n",
       "\n",
       "    .dataframe thead th {\n",
       "        text-align: right;\n",
       "    }\n",
       "</style>\n",
       "<table border=\"1\" class=\"dataframe\">\n",
       "  <thead>\n",
       "    <tr style=\"text-align: right;\">\n",
       "      <th></th>\n",
       "      <th>CLAVE_ENTIDAD</th>\n",
       "      <th>ENTIDAD_FEDERATIVA</th>\n",
       "      <th>ABREVIATURA</th>\n",
       "    </tr>\n",
       "  </thead>\n",
       "  <tbody>\n",
       "    <tr>\n",
       "      <th>0</th>\n",
       "      <td>1</td>\n",
       "      <td>AGUASCALIENTES</td>\n",
       "      <td>AS</td>\n",
       "    </tr>\n",
       "    <tr>\n",
       "      <th>1</th>\n",
       "      <td>2</td>\n",
       "      <td>BAJA CALIFORNIA</td>\n",
       "      <td>BC</td>\n",
       "    </tr>\n",
       "    <tr>\n",
       "      <th>2</th>\n",
       "      <td>3</td>\n",
       "      <td>BAJA CALIFORNIA SUR</td>\n",
       "      <td>BS</td>\n",
       "    </tr>\n",
       "    <tr>\n",
       "      <th>3</th>\n",
       "      <td>4</td>\n",
       "      <td>CAMPECHE</td>\n",
       "      <td>CC</td>\n",
       "    </tr>\n",
       "    <tr>\n",
       "      <th>4</th>\n",
       "      <td>5</td>\n",
       "      <td>COAHUILA DE ZARAGOZA</td>\n",
       "      <td>CL</td>\n",
       "    </tr>\n",
       "  </tbody>\n",
       "</table>\n",
       "</div>"
      ],
      "text/plain": [
       "   CLAVE_ENTIDAD    ENTIDAD_FEDERATIVA ABREVIATURA\n",
       "0              1        AGUASCALIENTES          AS\n",
       "1              2       BAJA CALIFORNIA          BC\n",
       "2              3   BAJA CALIFORNIA SUR          BS\n",
       "3              4              CAMPECHE          CC\n",
       "4              5  COAHUILA DE ZARAGOZA          CL"
      ]
     },
     "execution_count": 50,
     "metadata": {},
     "output_type": "execute_result"
    }
   ],
   "source": [
    "df_entidades = pd.read_excel(\"sesion4/input/covid/Catalogs.xlsx\", sheet_name=\"Catálogo de ENTIDADES\")\n",
    "\n",
    "df_entidades.head()"
   ]
  },
  {
   "cell_type": "code",
   "execution_count": 64,
   "metadata": {},
   "outputs": [
    {
     "name": "stdout",
     "output_type": "stream",
     "text": [
      "1 AGUASCALIENTES 12\n",
      "2 BAJA CALIFORNIA 6\n",
      "3 BAJA CALIFORNIA SUR 6\n",
      "4 CAMPECHE 12\n",
      "5 COAHUILA DE ZARAGOZA 39\n",
      "6 COLIMA 11\n",
      "7 CHIAPAS 124\n",
      "8 CHIHUAHUA 68\n",
      "9 CIUDAD DE MÉXICO 17\n",
      "10 DURANGO 40\n",
      "11 GUANAJUATO 47\n",
      "12 GUERRERO 82\n",
      "13 HIDALGO 85\n",
      "14 JALISCO 126\n",
      "15 MÉXICO 126\n",
      "16 MICHOACÁN DE OCAMPO 114\n",
      "17 MORELOS 36\n",
      "18 NAYARIT 21\n",
      "19 NUEVO LEÓN 52\n",
      "20 OAXACA 571\n",
      "21 PUEBLA 218\n",
      "22 QUERÉTARO 19\n",
      "23 QUINTANA ROO 12\n",
      "24 SAN LUIS POTOSÍ 59\n",
      "25 SINALOA 19\n",
      "26 SONORA 73\n",
      "27 TABASCO 18\n",
      "28 TAMAULIPAS 44\n",
      "29 TLAXCALA 61\n",
      "30 VERACRUZ DE IGNACIO DE LA LLAVE 213\n",
      "31 YUCATÁN 107\n",
      "32 ZACATECAS 59\n",
      "36 ESTADOS UNIDOS MEXICANOS 1\n",
      "97 NO APLICA 1\n",
      "98 SE IGNORA 1\n",
      "99 NO ESPECIFICADO 1\n"
     ]
    }
   ],
   "source": [
    "X = []\n",
    "Y = []\n",
    "\n",
    "for row in df_entidades.iterrows():\n",
    "    index, column = row\n",
    "\n",
    "    municipios = df_municipios.query(f\"CLAVE_ENTIDAD == {column['CLAVE_ENTIDAD']}\")\n",
    "\n",
    "    print(column[\"CLAVE_ENTIDAD\"], column[\"ENTIDAD_FEDERATIVA\"], len(municipios))\n",
    "\n",
    "    X.append(column[\"ENTIDAD_FEDERATIVA\"])\n",
    "    Y.append(len(municipios))"
   ]
  },
  {
   "cell_type": "code",
   "execution_count": 66,
   "metadata": {},
   "outputs": [
    {
     "data": {
      "text/plain": [
       "[('AGUASCALIENTES', 12),\n",
       " ('BAJA CALIFORNIA', 6),\n",
       " ('BAJA CALIFORNIA SUR', 6),\n",
       " ('CAMPECHE', 12),\n",
       " ('COAHUILA DE ZARAGOZA', 39),\n",
       " ('COLIMA', 11),\n",
       " ('CHIAPAS', 124),\n",
       " ('CHIHUAHUA', 68),\n",
       " ('CIUDAD DE MÉXICO', 17),\n",
       " ('DURANGO', 40),\n",
       " ('GUANAJUATO', 47),\n",
       " ('GUERRERO', 82),\n",
       " ('HIDALGO', 85),\n",
       " ('JALISCO', 126),\n",
       " ('MÉXICO', 126),\n",
       " ('MICHOACÁN DE OCAMPO', 114),\n",
       " ('MORELOS', 36),\n",
       " ('NAYARIT', 21),\n",
       " ('NUEVO LEÓN', 52),\n",
       " ('OAXACA', 571),\n",
       " ('PUEBLA', 218),\n",
       " ('QUERÉTARO', 19),\n",
       " ('QUINTANA ROO', 12),\n",
       " ('SAN LUIS POTOSÍ', 59),\n",
       " ('SINALOA', 19),\n",
       " ('SONORA', 73),\n",
       " ('TABASCO', 18),\n",
       " ('TAMAULIPAS', 44),\n",
       " ('TLAXCALA', 61),\n",
       " ('VERACRUZ DE IGNACIO DE LA LLAVE', 213),\n",
       " ('YUCATÁN', 107),\n",
       " ('ZACATECAS', 59),\n",
       " ('ESTADOS UNIDOS MEXICANOS', 1),\n",
       " ('NO APLICA', 1),\n",
       " ('SE IGNORA', 1),\n",
       " ('NO ESPECIFICADO', 1)]"
      ]
     },
     "execution_count": 66,
     "metadata": {},
     "output_type": "execute_result"
    }
   ],
   "source": [
    "list(zip(X, Y))"
   ]
  },
  {
   "cell_type": "code",
   "execution_count": 68,
   "metadata": {},
   "outputs": [
    {
     "name": "stdout",
     "output_type": "stream",
     "text": [
      "Requirement already satisfied: matplotlib in /Users/dragon/anaconda3/lib/python3.7/site-packages (3.1.1)\n",
      "Requirement already satisfied: python-dateutil>=2.1 in /Users/dragon/anaconda3/lib/python3.7/site-packages (from matplotlib) (2.8.0)\n",
      "Requirement already satisfied: cycler>=0.10 in /Users/dragon/anaconda3/lib/python3.7/site-packages (from matplotlib) (0.10.0)\n",
      "Requirement already satisfied: pyparsing!=2.0.4,!=2.1.2,!=2.1.6,>=2.0.1 in /Users/dragon/anaconda3/lib/python3.7/site-packages (from matplotlib) (2.3.1)\n",
      "Requirement already satisfied: kiwisolver>=1.0.1 in /Users/dragon/anaconda3/lib/python3.7/site-packages (from matplotlib) (1.0.1)\n",
      "Requirement already satisfied: numpy>=1.11 in /Users/dragon/anaconda3/lib/python3.7/site-packages (from matplotlib) (1.16.2)\n",
      "Requirement already satisfied: six>=1.5 in /Users/dragon/anaconda3/lib/python3.7/site-packages (from python-dateutil>=2.1->matplotlib) (1.12.0)\n",
      "Requirement already satisfied: setuptools in /Users/dragon/anaconda3/lib/python3.7/site-packages (from kiwisolver>=1.0.1->matplotlib) (40.8.0)\n"
     ]
    }
   ],
   "source": [
    "! pip install matplotlib"
   ]
  },
  {
   "cell_type": "code",
   "execution_count": 74,
   "metadata": {},
   "outputs": [
    {
     "data": {
      "image/png": "[encoded data removed]",
      "text/plain": [
       "<Figure size 432x288 with 1 Axes>"
      ]
     },
     "metadata": {
      "needs_background": "light"
     },
     "output_type": "display_data"
    }
   ],
   "source": [
    "import matplotlib.pyplot as plt\n",
    "\n",
    "plt.bar(X[:5], Y[:5])\n",
    "\n",
    "plt.xticks(rotation=60)\n",
    "\n",
    "plt.show()"
   ]
  },
  {
   "cell_type": "code",
   "execution_count": 75,
   "metadata": {},
   "outputs": [
    {
     "data": {
      "image/png": "[encoded data removed]",
      "text/plain": [
       "<Figure size 432x288 with 1 Axes>"
      ]
     },
     "metadata": {
      "needs_background": "light"
     },
     "output_type": "display_data"
    }
   ],
   "source": [
    "plt.bar(X[5:10], Y[5:10])\n",
    "\n",
    "plt.xticks(rotation=60)\n",
    "\n",
    "plt.show()"
   ]
  },
  {
   "cell_type": "code",
   "execution_count": 76,
   "metadata": {},
   "outputs": [
    {
     "data": {
      "image/png": "[encoded data removed]",
      "text/plain": [
       "<Figure size 432x288 with 1 Axes>"
      ]
     },
     "metadata": {
      "needs_background": "light"
     },
     "output_type": "display_data"
    }
   ],
   "source": [
    "plt.bar(X[10:15], Y[10:15])\n",
    "\n",
    "plt.xticks(rotation=60)\n",
    "\n",
    "plt.show()"
   ]
  },
  {
   "cell_type": "code",
   "execution_count": 77,
   "metadata": {},
   "outputs": [
    {
     "data": {
      "image/png": "[encoded data removed]",
      "text/plain": [
       "<Figure size 432x288 with 1 Axes>"
      ]
     },
     "metadata": {
      "needs_background": "light"
     },
     "output_type": "display_data"
    }
   ],
   "source": [
    "plt.bar(X[15:], Y[15:])\n",
    "\n",
    "plt.xticks(rotation=60)\n",
    "\n",
    "plt.show()"
   ]
  },
  {
   "cell_type": "code",
   "execution_count": 78,
   "metadata": {},
   "outputs": [
    {
     "data": {
      "text/plain": [
       "[('AGUASCALIENTES', 12),\n",
       " ('BAJA CALIFORNIA', 6),\n",
       " ('BAJA CALIFORNIA SUR', 6),\n",
       " ('CAMPECHE', 12),\n",
       " ('COAHUILA DE ZARAGOZA', 39)]"
      ]
     },
     "execution_count": 78,
     "metadata": {},
     "output_type": "execute_result"
    }
   ],
   "source": [
    "entidades = list(zip(X, Y))\n",
    "\n",
    "entidades[:5]"
   ]
  },
  {
   "cell_type": "code",
   "execution_count": 81,
   "metadata": {},
   "outputs": [],
   "source": [
    "entidades.sort(key=lambda t: t[1], reverse=True)"
   ]
  },
  {
   "cell_type": "code",
   "execution_count": 82,
   "metadata": {},
   "outputs": [
    {
     "data": {
      "text/plain": [
       "[('OAXACA', 571),\n",
       " ('PUEBLA', 218),\n",
       " ('VERACRUZ DE IGNACIO DE LA LLAVE', 213),\n",
       " ('JALISCO', 126),\n",
       " ('MÉXICO', 126)]"
      ]
     },
     "execution_count": 82,
     "metadata": {},
     "output_type": "execute_result"
    }
   ],
   "source": [
    "entidades[:5]"
   ]
  },
  {
   "cell_type": "code",
   "execution_count": 84,
   "metadata": {},
   "outputs": [
    {
     "data": {
      "text/plain": [
       "([<matplotlib.patches.Wedge at 0x7fb90d2eba20>,\n",
       "  <matplotlib.patches.Wedge at 0x7fb90d2ebef0>,\n",
       "  <matplotlib.patches.Wedge at 0x7fb90d2f93c8>,\n",
       "  <matplotlib.patches.Wedge at 0x7fb90d2f9860>,\n",
       "  <matplotlib.patches.Wedge at 0x7fb90d2f9cf8>],\n",
       " [Text(0.15381814804747457, 1.0891923509331332, 'OAXACA'),\n",
       "  Text(-1.0614410637608378, -0.2886916489305872, 'PUEBLA'),\n",
       "  Text(-0.2459244426818991, -1.0721572498899579, 'VERACRUZ DE IGNACIO DE LA LLAVE'),\n",
       "  Text(0.642544065975577, -0.8928253598994451, 'JALISCO'),\n",
       "  Text(1.0456500024538433, -0.34149095503142896, 'MÉXICO')])"
      ]
     },
     "execution_count": 84,
     "metadata": {},
     "output_type": "execute_result"
    },
    {
     "data": {
      "image/png": "[encoded data removed]",
      "text/plain": [
       "<Figure size 432x288 with 1 Axes>"
      ]
     },
     "metadata": {},
     "output_type": "display_data"
    }
   ],
   "source": [
    "X, Y = zip(*entidades)\n",
    "\n",
    "plt.pie(Y[:5], labels=X[:5])"
   ]
  },
  {
   "cell_type": "code",
   "execution_count": null,
   "metadata": {},
   "outputs": [],
   "source": []
  },
  {
   "cell_type": "code",
   "execution_count": 87,
   "metadata": {},
   "outputs": [
    {
     "name": "stdout",
     "output_type": "stream",
     "text": [
      "Ejecutando lote 0Ejecutando lote 1\n",
      "\n",
      "Descargando la url 6...Descargando la url 1...\n",
      "\n",
      "Ejecutando lote 2\n",
      "Descargando la url 11...\n",
      "Descargando la url 7...Descargando la url 2...\n",
      "\n",
      "Descargando la url 12...\n",
      "Descargando la url 8...Descargando la url 3...\n",
      "\n",
      "Descargando la url 13...\n",
      "Descargando la url 4...Descargando la url 9...\n",
      "\n",
      "Descargando la url 14...\n",
      "Descargando la url 5...Descargando la url 10...\n",
      "\n",
      "Descargando la url 15...\n"
     ]
    }
   ],
   "source": [
    "import time\n",
    "import threading\n",
    "\n",
    "batches = [\n",
    "    [1, 2, 3, 4, 5],\n",
    "    [6, 7, 8, 9, 10],\n",
    "    [11, 12, 13, 14, 15],\n",
    "]\n",
    "\n",
    "def worker(i):\n",
    "    # TODO: Todo lo que queramos ejecutar en el hilo\n",
    "    # Podemos planificar toda la tarea\n",
    "    print(f\"Ejecutando lote {i}\")\n",
    "    batch = batches[i]\n",
    "    for url in batch:\n",
    "        print(f\"Descargando la url {url}...\")\n",
    "        time.sleep(1)\n",
    "     \n",
    "threads = []\n",
    "\n",
    "for index in range(len(batches)):\n",
    "    t = threading.Thread(target=worker, args=(index, ))\n",
    "    t.start()\n",
    "    threads.append(t)\n",
    "    \n",
    "for t in threads:\n",
    "    t.join()"
   ]
  },
  {
   "cell_type": "code",
   "execution_count": 88,
   "metadata": {},
   "outputs": [
    {
     "name": "stdout",
     "output_type": "stream",
     "text": [
      "Ejecutando lote 0\n",
      "Descargando la url 1...\n",
      "Descargando la url 2...\n",
      "Descargando la url 3...\n",
      "Descargando la url 4...\n",
      "Descargando la url 5...\n"
     ]
    }
   ],
   "source": [
    "worker(0)"
   ]
  },
  {
   "cell_type": "code",
   "execution_count": 89,
   "metadata": {},
   "outputs": [
    {
     "name": "stdout",
     "output_type": "stream",
     "text": [
      "Ejecutando lote 0\n",
      "Descargando la url 1...\n",
      "Descargando la url 2...\n",
      "Descargando la url 3...\n",
      "Descargando la url 4...\n",
      "Descargando la url 5...\n",
      "Ejecutando lote 1\n",
      "Descargando la url 6...\n",
      "Descargando la url 7...\n",
      "Descargando la url 8...\n",
      "Descargando la url 9...\n",
      "Descargando la url 10...\n",
      "Ejecutando lote 2\n",
      "Descargando la url 11...\n",
      "Descargando la url 12...\n",
      "Descargando la url 13...\n",
      "Descargando la url 14...\n",
      "Descargando la url 15...\n"
     ]
    }
   ],
   "source": [
    "for index in range(len(batches)):\n",
    "    worker(index)"
   ]
  },
  {
   "cell_type": "code",
   "execution_count": null,
   "metadata": {},
   "outputs": [],
   "source": []
  },
  {
   "cell_type": "code",
   "execution_count": 94,
   "metadata": {},
   "outputs": [
    {
     "name": "stdout",
     "output_type": "stream",
     "text": [
      " * Serving Flask app \"__main__\" (lazy loading)\n",
      " * Environment: production\n",
      "   WARNING: Do not use the development server in a production environment.\n",
      "   Use a production WSGI server instead.\n",
      " * Debug mode: off\n"
     ]
    },
    {
     "name": "stderr",
     "output_type": "stream",
     "text": [
      " * Running on http://127.0.0.1:5000/ (Press CTRL+C to quit)\n",
      "127.0.0.1 - - [05/Dec/2020 12:05:26] \"GET / HTTP/1.1\" 200 -\n",
      "127.0.0.1 - - [05/Dec/2020 12:05:27] \"GET /favicon.ico HTTP/1.1\" 404 -\n",
      "127.0.0.1 - - [05/Dec/2020 12:05:33] \"GET /state HTTP/1.1\" 200 -\n"
     ]
    }
   ],
   "source": [
    "from flask import Flask\n",
    "import json\n",
    "\n",
    "# 1. Definir la aplicación del servidor\n",
    "app = Flask(__name__)\n",
    "\n",
    "state = {\n",
    "    \"a\": 123,\n",
    "    \"b\": True\n",
    "}\n",
    "\n",
    "# 2. Marcar rutas\n",
    "@app.route(\"/\")\n",
    "def home():\n",
    "    return \"hola\"\n",
    "\n",
    "# 2. Marcar la ruta http://localhost:port/state\n",
    "@app.route(\"/state\")\n",
    "def route_state():\n",
    "    return json.dumps(state)\n",
    "\n",
    "# 3. Iniciar el servidor\n",
    "app.run(port=5000)"
   ]
  },
  {
   "cell_type": "code",
   "execution_count": null,
   "metadata": {},
   "outputs": [],
   "source": []
  },
  {
   "cell_type": "code",
   "execution_count": 96,
   "metadata": {},
   "outputs": [
    {
     "name": "stdout",
     "output_type": "stream",
     "text": [
      "Collecting simpy\n",
      "  Downloading https://files.pythonhosted.org/packages/20/f9/874b0bab83406827db93292a5bbe5acb5c18e3cea665b2f6e053292cb687/simpy-4.0.1-py2.py3-none-any.whl\n",
      "Installing collected packages: simpy\n",
      "Successfully installed simpy-4.0.1\n"
     ]
    }
   ],
   "source": [
    "!pip install simpy"
   ]
  },
  {
   "cell_type": "code",
   "execution_count": 112,
   "metadata": {},
   "outputs": [
    {
     "name": "stdout",
     "output_type": "stream",
     "text": [
      "Usuario elige producto: 0 0\n",
      "Usuario no compra: 54 0\n",
      "Usuario elige producto: 55 0\n",
      "Usuario no compra: 104 0\n",
      "Usuario elige producto: 105 0\n",
      "Usuario no compra: 130 0\n",
      "Usuario elige producto: 131 0\n",
      "Usuario no compra: 173 0\n",
      "Usuario elige producto: 174 0\n",
      "Usuario no compra: 228 0\n",
      "Usuario elige producto: 229 0\n",
      "Usuario no compra: 282 0\n",
      "Usuario elige producto: 283 0\n",
      "Usuario no compra: 311 0\n",
      "Usuario elige producto: 312 0\n",
      "Usuario no compra: 365 0\n",
      "Usuario elige producto: 366 0\n",
      "Usuario no compra: 402 0\n",
      "Usuario elige producto: 403 0\n",
      "Usuario no compra: 431 0\n",
      "Usuario elige producto: 432 0\n",
      "Usuario compra: 452 0\n",
      "Usuario elige producto: 457 1\n",
      "Usuario no compra: 489 1\n",
      "Usuario elige producto: 490 1\n",
      "Usuario no compra: 510 1\n",
      "Usuario elige producto: 511 1\n",
      "Usuario no compra: 561 1\n",
      "Usuario elige producto: 562 1\n",
      "Usuario no compra: 585 1\n",
      "Usuario elige producto: 586 1\n",
      "Usuario no compra: 629 1\n",
      "Usuario elige producto: 630 1\n",
      "Usuario no compra: 657 1\n",
      "Usuario elige producto: 658 1\n",
      "Usuario no compra: 681 1\n",
      "Usuario elige producto: 682 1\n",
      "Usuario compra: 710 1\n",
      "Usuario elige producto: 715 2\n",
      "Usuario no compra: 742 2\n",
      "Usuario elige producto: 743 2\n",
      "Usuario compra: 796 2\n",
      "Usuario elige producto: 801 3\n",
      "Usuario no compra: 850 3\n",
      "Usuario elige producto: 851 3\n",
      "Usuario no compra: 872 3\n",
      "Usuario elige producto: 873 3\n",
      "Usuario no compra: 904 3\n",
      "Usuario elige producto: 905 3\n",
      "Usuario compra: 925 3\n",
      "Usuario elige producto: 930 4\n",
      "Usuario no compra: 982 4\n",
      "Usuario elige producto: 983 4\n"
     ]
    }
   ],
   "source": [
    "import simpy\n",
    "import random\n",
    "\n",
    "env = simpy.Environment()\n",
    "\n",
    "compras = 0\n",
    "factor_compra = 0.2\n",
    "X = []\n",
    "Y = []\n",
    "\n",
    "# Simular cuántas compras hace un usuario en un lapso de tiempo\n",
    "def compras_por_usuario(env):\n",
    "    global compras\n",
    "    while True:\n",
    "        print(\"Usuario elige producto:\", env.now, compras)\n",
    "        X.append(env.now)\n",
    "        Y.append(compras)\n",
    "        # El usuario decide en 20 unidades hacer una compra\n",
    "        yield env.timeout(random.randint(20, 60))\n",
    "        if random.random() < factor_compra:\n",
    "            print(\"Usuario compra:\", env.now, compras)\n",
    "            # El usuario concreta la compra en 5 unidades\n",
    "            yield env.timeout(5)\n",
    "            compras += 1\n",
    "        else:\n",
    "            print(\"Usuario no compra:\", env.now, compras)\n",
    "            # El usuario no concreta compra y continuamos\n",
    "            yield env.timeout(1)\n",
    "        \n",
    "    \n",
    "# Procesamos la simulación de compras\n",
    "env.process(compras_por_usuario(env))\n",
    "\n",
    "# Ejecutamos en 100 unidades de tiempo\n",
    "env.run(until=1000)"
   ]
  },
  {
   "cell_type": "code",
   "execution_count": 113,
   "metadata": {},
   "outputs": [
    {
     "data": {
      "image/png": "[encoded data removed]",
      "text/plain": [
       "<Figure size 432x288 with 1 Axes>"
      ]
     },
     "metadata": {
      "needs_background": "light"
     },
     "output_type": "display_data"
    }
   ],
   "source": [
    "import matplotlib.pyplot as plt\n",
    "\n",
    "plt.plot(X, Y)\n",
    "\n",
    "plt.show()"
   ]
  },
  {
   "cell_type": "code",
   "execution_count": null,
   "metadata": {},
   "outputs": [],
   "source": []
  },
  {
   "cell_type": "code",
   "execution_count": null,
   "metadata": {},
   "outputs": [],
   "source": [
    "# Simular la compra de productos en una tienda\n",
    "\n",
    "# Stock - Es el almacén de productos en existencia\n",
    "# Product - Es el producto que se desea comprar\n",
    "# Custumer - Es el cliente que compra un producto\n",
    "\n",
    "# E1 - Checar las existencias de un producto en inventario\n",
    "# E2 - Sacar N productos del almacén (venta a cliente)\n",
    "# E3 - Ingresar M productos al almacén (adquisición por proveedor)\n",
    "# E4 - Guardar el balance de dineros de entrada y salida\n",
    "\n",
    "## RECESO MÁXIMO A LAS 12"
   ]
  },
  {
   "cell_type": "code",
   "execution_count": null,
   "metadata": {},
   "outputs": [],
   "source": []
  },
  {
   "cell_type": "code",
   "execution_count": null,
   "metadata": {},
   "outputs": [],
   "source": []
  },
  {
   "cell_type": "code",
   "execution_count": null,
   "metadata": {},
   "outputs": [],
   "source": []
  },
  {
   "cell_type": "code",
   "execution_count": null,
   "metadata": {},
   "outputs": [],
   "source": []
  }
 ],
 "metadata": {
  "kernelspec": {
   "display_name": "Python 3",
   "language": "python",
   "name": "python3"
  },
  "language_info": {
   "codemirror_mode": {
    "name": "ipython",
    "version": 3
   },
   "file_extension": ".py",
   "mimetype": "text/x-python",
   "name": "python",
   "nbconvert_exporter": "python",
   "pygments_lexer": "ipython3",
   "version": "3.7.3"
  }
 },
 "nbformat": 4,
 "nbformat_minor": 2
}
