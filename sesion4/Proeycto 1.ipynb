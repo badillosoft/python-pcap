{
 "cells": [
  {
   "cell_type": "markdown",
   "metadata": {},
   "source": [
    "# Proyecto 1 - Tienda de Productos Artesanales\n",
    "\n",
    "Nos gustaría tener un sistema capaz de definir y retener productos en un almacén y concretar ventas.\n",
    "\n",
    "Para esto necesitamos de varias operaciones involucradas:\n",
    "\n",
    "* Retener la información de los productos que se venden\n",
    "* Realizar operaciones de inventario en un almacén\n",
    "* Realizar operaciones de compra\n",
    "* Realizar operaciones de reabastistecimiento del almacén\n",
    "\n",
    "El sistema debería brindarnos un Servicio web para poder realizar las operaciones, una simulador para simular operaciones y pruebas unitarias para ver que se comporte de forma correcta."
   ]
  },
  {
   "cell_type": "code",
   "execution_count": 1,
   "metadata": {},
   "outputs": [
    {
     "data": {
      "text/plain": [
       "[{'id': 123, 'name': 'Maceta', 'price': 15.6},\n",
       " {'id': 123, 'name': 'Maceta', 'price': 15.6},\n",
       " {'id': 123, 'name': 'Maceta', 'price': 15.6},\n",
       " {'id': 123, 'name': 'Maceta', 'price': 15.6},\n",
       " {'id': 123, 'name': 'Maceta', 'price': 15.6}]"
      ]
     },
     "execution_count": 1,
     "metadata": {},
     "output_type": "execute_result"
    }
   ],
   "source": [
    "import tiendicraft as craft\n",
    "\n",
    "stock = craft.stock_load(\"stock.csv\")\n",
    "\n",
    "stock[:5]"
   ]
  },
  {
   "cell_type": "code",
   "execution_count": 2,
   "metadata": {},
   "outputs": [
    {
     "data": {
      "text/plain": [
       "True"
      ]
     },
     "execution_count": 2,
     "metadata": {},
     "output_type": "execute_result"
    }
   ],
   "source": [
    "craft.stock_has_product_by_id(stock, 123)"
   ]
  },
  {
   "cell_type": "code",
   "execution_count": 3,
   "metadata": {},
   "outputs": [
    {
     "data": {
      "text/plain": [
       "6"
      ]
     },
     "execution_count": 3,
     "metadata": {},
     "output_type": "execute_result"
    }
   ],
   "source": [
    "craft.stock_count_product_by_id(stock, 123)"
   ]
  },
  {
   "cell_type": "code",
   "execution_count": 7,
   "metadata": {},
   "outputs": [
    {
     "data": {
      "text/plain": [
       "2"
      ]
     },
     "execution_count": 7,
     "metadata": {},
     "output_type": "execute_result"
    }
   ],
   "source": [
    "new_stock = craft.stock_remove_product_by_id(stock, 123, 4)\n",
    "\n",
    "craft.stock_count_product_by_id(new_stock, 123)"
   ]
  },
  {
   "cell_type": "code",
   "execution_count": null,
   "metadata": {},
   "outputs": [
    {
     "name": "stdout",
     "output_type": "stream",
     "text": [
      " * Serving Flask app \"__main__\" (lazy loading)\n",
      " * Environment: production\n",
      "   WARNING: Do not use the development server in a production environment.\n",
      "   Use a production WSGI server instead.\n",
      " * Debug mode: off\n"
     ]
    },
    {
     "name": "stderr",
     "output_type": "stream",
     "text": [
      " * Running on http://127.0.0.1:5000/ (Press CTRL+C to quit)\n",
      "127.0.0.1 - - [05/Dec/2020 13:05:20] \"GET /stock/product/count/124 HTTP/1.1\" 200 -\n"
     ]
    },
    {
     "name": "stdout",
     "output_type": "stream",
     "text": [
      "product_id 124 6\n"
     ]
    },
    {
     "name": "stderr",
     "output_type": "stream",
     "text": [
      "127.0.0.1 - - [05/Dec/2020 13:05:23] \"GET /stock/product/count/123 HTTP/1.1\" 200 -\n"
     ]
    },
    {
     "name": "stdout",
     "output_type": "stream",
     "text": [
      "product_id 123 6\n"
     ]
    },
    {
     "name": "stderr",
     "output_type": "stream",
     "text": [
      "127.0.0.1 - - [05/Dec/2020 13:05:26] \"GET /stock/product/count/126 HTTP/1.1\" 200 -\n"
     ]
    },
    {
     "name": "stdout",
     "output_type": "stream",
     "text": [
      "product_id 126 6\n"
     ]
    },
    {
     "name": "stderr",
     "output_type": "stream",
     "text": [
      "127.0.0.1 - - [05/Dec/2020 13:05:28] \"GET /stock/product/count/125 HTTP/1.1\" 200 -\n"
     ]
    },
    {
     "name": "stdout",
     "output_type": "stream",
     "text": [
      "product_id 125 6\n"
     ]
    }
   ],
   "source": [
    "import tiendicraft as craft\n",
    "\n",
    "from flask import Flask\n",
    "import json\n",
    "\n",
    "stock = craft.stock_load(\"stock.csv\")\n",
    "\n",
    "#print(stock)\n",
    "\n",
    "app = Flask(__name__)\n",
    "\n",
    "@app.route(\"/\")\n",
    "def home():\n",
    "    return json.dumps(stock)\n",
    "\n",
    "@app.route(\"/stock/product/count/<product_id>\")\n",
    "def stock_product_count(product_id):\n",
    "    print(\"product_id\", product_id, craft.stock_count_product_by_id(stock, 123))\n",
    "    return f\"{craft.stock_count_product_by_id(stock, int(product_id))}\"\n",
    "\n",
    "app.run(port=5000)"
   ]
  },
  {
   "cell_type": "code",
   "execution_count": null,
   "metadata": {},
   "outputs": [],
   "source": [
    "## Diseñar un simulador de compras e adquisiciones sobre el stock"
   ]
  },
  {
   "cell_type": "code",
   "execution_count": null,
   "metadata": {},
   "outputs": [],
   "source": [
    "import simpy\n",
    "\n",
    "stock = craft.stock_load(\"stock.csv\")\n",
    "\n",
    "evt = simpy.Environment()\n",
    "\n",
    "def compras_en_stock():\n",
    "    # TODO: Planificar una compra aleatoria (tiempos y factores aleatorios)\n",
    "    # seleccionar un producto (aleatorio)\n",
    "    # seleccionar la cantidad de productos productos a comprar (aleatoria)\n",
    "    # stock_remove\n",
    "    \n",
    "def adquisiciones_en_stock():\n",
    "    # TODO: Planificar una adquisicion aleatoria (tiempos y factores aleatorios)\n",
    "    # seleccionar un producto (aleatorio)\n",
    "    # seleccionar la cantidad de productos productos a ingresar (aleatoria)\n",
    "    # stock_add\n",
    "    \n",
    "# Medir según los factores de compra y adquisición, cuándo el stock está\n",
    "# próximo a agotarse en el tiempo"
   ]
  }
 ],
 "metadata": {
  "kernelspec": {
   "display_name": "Python 3",
   "language": "python",
   "name": "python3"
  },
  "language_info": {
   "codemirror_mode": {
    "name": "ipython",
    "version": 3
   },
   "file_extension": ".py",
   "mimetype": "text/x-python",
   "name": "python",
   "nbconvert_exporter": "python",
   "pygments_lexer": "ipython3",
   "version": "3.7.3"
  }
 },
 "nbformat": 4,
 "nbformat_minor": 2
}
