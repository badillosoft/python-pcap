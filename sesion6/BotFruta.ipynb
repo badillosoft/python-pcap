{
 "cells": [
  {
   "cell_type": "code",
   "execution_count": 42,
   "metadata": {},
   "outputs": [],
   "source": [
    "# Creamos la clase BotFruta\n",
    "class BotFruta:\n",
    "    # Agregamos la propiedad palabras, la lista de palabras\n",
    "    palabras = []\n",
    "    \n",
    "    # Este es el constructor o método de contrucción que recibe el nombre del archivo\n",
    "    def __init__(self, filename):\n",
    "        # Abrimos el archivo en modo lectura open(filename, \"r\")\n",
    "        f = open(filename)\n",
    "        \n",
    "        # Leemos el archivo como un string (con todo su contenido)\n",
    "        content = f.read()\n",
    "        \n",
    "        # Cerramos el archivo\n",
    "        f.close()\n",
    "        \n",
    "        # Recorremos cada línea del contenido separado por salto de línea\n",
    "        for line in content.split(\"\\n\"):\n",
    "            # Obtenemos la lista de palabras, separadas por espacio de cada línea\n",
    "            words = line.split(\" \")\n",
    "            # Extendemos la lista de palabras (de la clase) con la lista de palabras (de la línea)\n",
    "            self.palabras.extend(words)\n",
    "            \n",
    "            # O podemos recorrer cada palabra de la lista de palabras\n",
    "            # : for word in words:\n",
    "                # Y agregar cada palabra\n",
    "                # : self.palabra.append(word)\n",
    "            \n",
    "        print(self.palabras)\n",
    "        \n",
    "    # Este método permite recibir parámetros etiquetados (kwargs)\n",
    "    def contarFrutas(self, **kwargs):\n",
    "        # Preguntamos si el método contiene el parámetro-etiqueta (frutas=...)\n",
    "        if \"frutas\" in kwargs:\n",
    "            # Recuperamos el valor del parámetro (frutas=[...])\n",
    "            frutas = kwargs[\"frutas\"] # <- lista\n",
    "            \n",
    "            # Cremos un diccionario vacío para guardar el conteo de cada fruta\n",
    "            contador = {}\n",
    "            \n",
    "            # Recorremos cada fruta a contar\n",
    "            for fruta in frutas:\n",
    "                # Contamos cuántas veces aparece la fruta en las palabras de la clase\n",
    "                count = self.palabras.count(fruta)\n",
    "                # Asignamos la clave fruta con el valor del conteo\n",
    "                contador[fruta] = count\n",
    "                    \n",
    "            # Devolvemos el contador de frutas (diccionario)\n",
    "            return contador\n",
    "        \n",
    "    # Este método permite recibir parámetros etiquetados (kwargs)\n",
    "    def mostrarConteoFrutas(self, **kwargs):\n",
    "        # Preguntamos si el método contiene el parámetro-etiqueta (frutas=...)\n",
    "        if \"frutas\" in kwargs:\n",
    "            # Recuperamos el valor del parámetro (frutas={...})\n",
    "            frutas = kwargs[\"frutas\"] # <- diccionario\n",
    "            \n",
    "            #df = pd.Dataframe(frutas.items(), columns=[\"fruta\", \"cantidad\"])\n",
    "            #print(df)\n",
    "            \n",
    "            # Creamos un acumulador de texto para formatear la tabla (estilo markdown)\n",
    "            text = \"fruta | cantidad\\n--- | ---\\n\"\n",
    "            \n",
    "            # Recorremos la lista de tuplas (key, value) obtenidas del diccionario\n",
    "            # Ej. {'fresa': 1, 'pera': 2}.items() -> [('fresa', 1), ('pera', 2)]\n",
    "            # for key, value in [('fresa', 1), ('pera', 2)]:\n",
    "            for key, value in frutas.items():\n",
    "                # Acumulamos el texto formateado \"fresa | 1\\n\" o \"pera | 2\\n\"\n",
    "                text += \"{} | {}\\n\".format(key, value)\n",
    "            \n",
    "            # Regresamos el texto acumulado (tabla)\n",
    "            return text"
   ]
  },
  {
   "cell_type": "code",
   "execution_count": 43,
   "metadata": {},
   "outputs": [
    {
     "name": "stdout",
     "output_type": "stream",
     "text": [
      "['el', 'mango', 'y', 'la', 'fresa', 'fresa', 'no', 'son', 'más', 'ricas', 'que', 'la', 'guayaba', 'y', 'la', 'pera', 'fresa']\n"
     ]
    }
   ],
   "source": [
    "bot = BotFruta(\"frutas.txt\")"
   ]
  },
  {
   "cell_type": "code",
   "execution_count": 44,
   "metadata": {},
   "outputs": [
    {
     "data": {
      "text/plain": [
       "{'fresa': 3, 'pera': 1, 'melon': 0}"
      ]
     },
     "execution_count": 44,
     "metadata": {},
     "output_type": "execute_result"
    }
   ],
   "source": [
    "bot.contarFrutas(frutas=[\"fresa\", \"pera\", \"melon\"])"
   ]
  },
  {
   "cell_type": "code",
   "execution_count": 45,
   "metadata": {},
   "outputs": [
    {
     "data": {
      "text/plain": [
       "'fruta | cantidad\\n--- | ---\\nfresa | 1\\npera | 1\\nmelon | 0\\n'"
      ]
     },
     "execution_count": 45,
     "metadata": {},
     "output_type": "execute_result"
    }
   ],
   "source": [
    "bot.mostrarConteoFrutas(frutas={'fresa': 1, 'pera': 1, 'melon': 0})"
   ]
  },
  {
   "cell_type": "code",
   "execution_count": 46,
   "metadata": {},
   "outputs": [],
   "source": [
    "contador = bot.contarFrutas(frutas=[\"fresa\", \"pera\", \"melon\"])\n",
    "tabla = bot.mostrarConteoFrutas(frutas=contador)\n",
    "\n",
    "f = open(\"tabla.md\", \"w\")\n",
    "\n",
    "f.write(tabla)\n",
    "\n",
    "f.close()"
   ]
  },
  {
   "cell_type": "code",
   "execution_count": 56,
   "metadata": {},
   "outputs": [
    {
     "data": {
      "text/html": [
       "<div>\n",
       "<style scoped>\n",
       "    .dataframe tbody tr th:only-of-type {\n",
       "        vertical-align: middle;\n",
       "    }\n",
       "\n",
       "    .dataframe tbody tr th {\n",
       "        vertical-align: top;\n",
       "    }\n",
       "\n",
       "    .dataframe thead th {\n",
       "        text-align: right;\n",
       "    }\n",
       "</style>\n",
       "<table border=\"1\" class=\"dataframe\">\n",
       "  <thead>\n",
       "    <tr style=\"text-align: right;\">\n",
       "      <th></th>\n",
       "      <th>0</th>\n",
       "    </tr>\n",
       "  </thead>\n",
       "  <tbody>\n",
       "    <tr>\n",
       "      <th>fresa</th>\n",
       "      <td>1</td>\n",
       "    </tr>\n",
       "    <tr>\n",
       "      <th>pera</th>\n",
       "      <td>1</td>\n",
       "    </tr>\n",
       "    <tr>\n",
       "      <th>melon</th>\n",
       "      <td>0</td>\n",
       "    </tr>\n",
       "  </tbody>\n",
       "</table>\n",
       "</div>"
      ],
      "text/plain": [
       "       0\n",
       "fresa  1\n",
       "pera   1\n",
       "melon  0"
      ]
     },
     "execution_count": 56,
     "metadata": {},
     "output_type": "execute_result"
    }
   ],
   "source": [
    "import pandas as pd\n",
    "\n",
    "df = pd.DataFrame({'fresa': [1], 'pera': [1], 'melon': [0]}).T\n",
    "\n",
    "df"
   ]
  },
  {
   "cell_type": "code",
   "execution_count": 59,
   "metadata": {},
   "outputs": [
    {
     "data": {
      "text/html": [
       "<div>\n",
       "<style scoped>\n",
       "    .dataframe tbody tr th:only-of-type {\n",
       "        vertical-align: middle;\n",
       "    }\n",
       "\n",
       "    .dataframe tbody tr th {\n",
       "        vertical-align: top;\n",
       "    }\n",
       "\n",
       "    .dataframe thead th {\n",
       "        text-align: right;\n",
       "    }\n",
       "</style>\n",
       "<table border=\"1\" class=\"dataframe\">\n",
       "  <thead>\n",
       "    <tr style=\"text-align: right;\">\n",
       "      <th></th>\n",
       "      <th>fruta</th>\n",
       "      <th>conteo</th>\n",
       "    </tr>\n",
       "  </thead>\n",
       "  <tbody>\n",
       "    <tr>\n",
       "      <th>0</th>\n",
       "      <td>fresa</td>\n",
       "      <td>3</td>\n",
       "    </tr>\n",
       "    <tr>\n",
       "      <th>1</th>\n",
       "      <td>pera</td>\n",
       "      <td>1</td>\n",
       "    </tr>\n",
       "    <tr>\n",
       "      <th>2</th>\n",
       "      <td>melon</td>\n",
       "      <td>0</td>\n",
       "    </tr>\n",
       "  </tbody>\n",
       "</table>\n",
       "</div>"
      ],
      "text/plain": [
       "   fruta  conteo\n",
       "0  fresa       3\n",
       "1   pera       1\n",
       "2  melon       0"
      ]
     },
     "execution_count": 59,
     "metadata": {},
     "output_type": "execute_result"
    }
   ],
   "source": [
    "df = pd.DataFrame(contador.items(), columns=[\"fruta\", \"conteo\"])\n",
    "\n",
    "df"
   ]
  },
  {
   "cell_type": "code",
   "execution_count": null,
   "metadata": {},
   "outputs": [],
   "source": []
  }
 ],
 "metadata": {
  "kernelspec": {
   "display_name": "Python 3",
   "language": "python",
   "name": "python3"
  },
  "language_info": {
   "codemirror_mode": {
    "name": "ipython",
    "version": 3
   },
   "file_extension": ".py",
   "mimetype": "text/x-python",
   "name": "python",
   "nbconvert_exporter": "python",
   "pygments_lexer": "ipython3",
   "version": "3.7.3"
  }
 },
 "nbformat": 4,
 "nbformat_minor": 2
}
