{
 "cells": [
  {
   "cell_type": "markdown",
   "metadata": {},
   "source": [
    "# Funciones\n",
    "\n",
    "Una función es una declaración de instrucciones, es decir, un bloque de código que será ejecutado cuándo sea llamada la función. Entonces, podemos definir un bloque de instrucciones que queramos que se ejecuten cuándo lo deseemos. Las funciones reciben parámetros de entrada, llamados argumentos de la función, y son variables que están disponibles para el bloque, indicando una entrada variable de datos. También en cualquier momento la función puede retornar un único valor de resultado, indicando la salida de su procesamiento. Por lo tanto, las funciones se consideran como cajas operacionales de múltiples entradas y una simple salida, cómo si se tratara de una máquina."
   ]
  },
  {
   "cell_type": "markdown",
   "metadata": {},
   "source": [
    "Imaginemos que deseamos una máquina que tome datos entrada y produzca una salida, según su programación. Por ejemplo, si deseamos una máquina que determine si un número es primo."
   ]
  },
  {
   "cell_type": "code",
   "execution_count": 1,
   "metadata": {},
   "outputs": [],
   "source": [
    "# 1. Definir la función: esPrimo(n) -> Bool\n",
    "\n",
    "# define la función esPrimo que recibe de parámetros las variables (n), entonces:\n",
    "def esPrimo(n):\n",
    "    for i in range(2, n):\n",
    "        if n % i == 0:\n",
    "            return False\n",
    "    return True"
   ]
  },
  {
   "cell_type": "code",
   "execution_count": 2,
   "metadata": {},
   "outputs": [
    {
     "data": {
      "text/plain": [
       "function"
      ]
     },
     "execution_count": 2,
     "metadata": {},
     "output_type": "execute_result"
    }
   ],
   "source": [
    "type(esPrimo)"
   ]
  },
  {
   "cell_type": "code",
   "execution_count": 3,
   "metadata": {},
   "outputs": [
    {
     "data": {
      "text/plain": [
       "True"
      ]
     },
     "execution_count": 3,
     "metadata": {},
     "output_type": "execute_result"
    }
   ],
   "source": [
    "# 2. Llamar a la función: Bool <- esPrimo(7)\n",
    "\n",
    "# Alamacena el resultado de llamar a la función esPrimo con los argumentos (7), significa que 7 tomará el lugar de n en la ejecución\n",
    "resultado = esPrimo(7)\n",
    "\n",
    "resultado"
   ]
  },
  {
   "cell_type": "code",
   "execution_count": 4,
   "metadata": {},
   "outputs": [
    {
     "data": {
      "text/plain": [
       "False"
      ]
     },
     "execution_count": 4,
     "metadata": {},
     "output_type": "execute_result"
    }
   ],
   "source": [
    "esPrimo(100)"
   ]
  },
  {
   "cell_type": "code",
   "execution_count": 5,
   "metadata": {},
   "outputs": [
    {
     "data": {
      "text/plain": [
       "True"
      ]
     },
     "execution_count": 5,
     "metadata": {},
     "output_type": "execute_result"
    }
   ],
   "source": [
    "esPrimo(101)"
   ]
  },
  {
   "cell_type": "code",
   "execution_count": 6,
   "metadata": {},
   "outputs": [
    {
     "name": "stdout",
     "output_type": "stream",
     "text": [
      "2 es primo? True\n",
      "3 es primo? True\n",
      "4 es primo? False\n",
      "5 es primo? True\n",
      "6 es primo? False\n",
      "7 es primo? True\n",
      "8 es primo? False\n",
      "9 es primo? False\n",
      "10 es primo? False\n",
      "11 es primo? True\n",
      "12 es primo? False\n",
      "13 es primo? True\n",
      "14 es primo? False\n",
      "15 es primo? False\n",
      "16 es primo? False\n",
      "17 es primo? True\n",
      "18 es primo? False\n",
      "19 es primo? True\n",
      "20 es primo? False\n"
     ]
    }
   ],
   "source": [
    "for i in range(2, 21):\n",
    "    print(f\"{i} es primo? {esPrimo(i)}\")"
   ]
  },
  {
   "cell_type": "markdown",
   "metadata": {},
   "source": [
    "### 1. Funciones útiles\n",
    "\n",
    "* suma\n",
    "* esPar\n",
    "* cuadrado\n",
    "* solve2"
   ]
  },
  {
   "cell_type": "code",
   "execution_count": 7,
   "metadata": {},
   "outputs": [
    {
     "data": {
      "text/plain": [
       "151"
      ]
     },
     "execution_count": 7,
     "metadata": {},
     "output_type": "execute_result"
    }
   ],
   "source": [
    "def suma(a, b):\n",
    "    return a + b\n",
    "\n",
    "suma(58, 93)"
   ]
  },
  {
   "cell_type": "code",
   "execution_count": 8,
   "metadata": {},
   "outputs": [
    {
     "data": {
      "text/plain": [
       "True"
      ]
     },
     "execution_count": 8,
     "metadata": {},
     "output_type": "execute_result"
    }
   ],
   "source": [
    "def esPar(n):\n",
    "    return n % 2 == 0\n",
    "\n",
    "esPar(1598)"
   ]
  },
  {
   "cell_type": "code",
   "execution_count": 9,
   "metadata": {},
   "outputs": [
    {
     "data": {
      "text/plain": [
       "1024"
      ]
     },
     "execution_count": 9,
     "metadata": {},
     "output_type": "execute_result"
    }
   ],
   "source": [
    "def cuadrado(x):\n",
    "    return x ** 2\n",
    "\n",
    "cuadrado(32)"
   ]
  },
  {
   "cell_type": "code",
   "execution_count": 10,
   "metadata": {},
   "outputs": [
    {
     "data": {
      "text/plain": [
       "(0.5615528128088303, -3.5615528128088303)"
      ]
     },
     "execution_count": 10,
     "metadata": {},
     "output_type": "execute_result"
    }
   ],
   "source": [
    "# ax^2 + bx + c = 0\n",
    "def solve2(a, b, c):\n",
    "    d = (b ** 2 - 4 * a * c) ** 0.5\n",
    "    return ((-b + d) / (2 * a), (-b - d) / (2 * a))\n",
    "\n",
    "# 2x^2 + 6x - 4\n",
    "\n",
    "solve2(2, 6, -4)"
   ]
  },
  {
   "cell_type": "code",
   "execution_count": 11,
   "metadata": {},
   "outputs": [
    {
     "data": {
      "text/plain": [
       "0.0"
      ]
     },
     "execution_count": 11,
     "metadata": {},
     "output_type": "execute_result"
    }
   ],
   "source": [
    "2 * 0.5615528128088303 ** 2 + 6 * 0.5615528128088303 - 4"
   ]
  },
  {
   "cell_type": "code",
   "execution_count": 14,
   "metadata": {},
   "outputs": [
    {
     "data": {
      "text/plain": [
       "0.0"
      ]
     },
     "execution_count": 14,
     "metadata": {},
     "output_type": "execute_result"
    }
   ],
   "source": [
    "2 * (-3.5615528128088303) ** 2 + 6 * (-3.5615528128088303) - 4"
   ]
  },
  {
   "cell_type": "code",
   "execution_count": null,
   "metadata": {},
   "outputs": [],
   "source": [
    "# cuidado: -a ** 2 != (-a) ** 2"
   ]
  },
  {
   "cell_type": "markdown",
   "metadata": {},
   "source": [
    "### 2. Funciones más avanzadas\n",
    "\n",
    "* sumaLista\n",
    "* estadisticosLista\n",
    "* solveMatriz"
   ]
  },
  {
   "cell_type": "code",
   "execution_count": 19,
   "metadata": {},
   "outputs": [
    {
     "data": {
      "text/plain": [
       "2137"
      ]
     },
     "execution_count": 19,
     "metadata": {},
     "output_type": "execute_result"
    }
   ],
   "source": [
    "# Define la función sumaLista que recibe `lista` que se supone que es una lista de python\n",
    "def sumaLista(lista):\n",
    "    # Creamos una variable para ir acumulando la suma de los elementos que vamos recorriendo\n",
    "    s = 0\n",
    "    # Recorremos cada elemento `x` en la `lista`\n",
    "    for x in lista:\n",
    "        # La nueva suma `s` es acumular el nuevo elemento `x` a lo que ya se tenía\n",
    "        s += x # s = s + x\n",
    "    # Terminando de recorrer todos los elementos `x`, devolvemos la suma `s` acumulada\n",
    "    return s\n",
    "\n",
    "sumaLista([1, 5, 8, 23, 100, 2000])"
   ]
  },
  {
   "cell_type": "code",
   "execution_count": 20,
   "metadata": {},
   "outputs": [
    {
     "data": {
      "text/plain": [
       "{'total': 9,\n",
       " 'suma': 40,\n",
       " 'promedio': 4.444444444444445,\n",
       " 'suma_cuadrados': 16.22222222222222,\n",
       " 'varianza': 2.0277777777777777,\n",
       " 'desviacion': 1.4240006242195884}"
      ]
     },
     "execution_count": 20,
     "metadata": {},
     "output_type": "execute_result"
    }
   ],
   "source": [
    "def estadisticosLista(lista):\n",
    "    s = sum(lista)\n",
    "    n = len(lista)\n",
    "    p = s / n\n",
    "    s2 = sum([(x - p) ** 2 for x in lista])\n",
    "    v = s2 / (n - 1)\n",
    "    d = v ** 0.5\n",
    "    \n",
    "    return {\n",
    "        \"total\": n,\n",
    "        \"suma\": s,\n",
    "        \"promedio\": p,\n",
    "        \"suma_cuadrados\": s2,\n",
    "        \"varianza\": v,\n",
    "        \"desviacion\": d\n",
    "    }\n",
    "\n",
    "estadisticosLista([4, 5, 6, 6, 6, 4, 3, 2, 4])"
   ]
  },
  {
   "cell_type": "markdown",
   "metadata": {},
   "source": []
  }
 ],
 "metadata": {
  "kernelspec": {
   "display_name": "Python 3",
   "language": "python",
   "name": "python3"
  },
  "language_info": {
   "codemirror_mode": {
    "name": "ipython",
    "version": 3
   },
   "file_extension": ".py",
   "mimetype": "text/x-python",
   "name": "python",
   "nbconvert_exporter": "python",
   "pygments_lexer": "ipython3",
   "version": "3.9.0"
  }
 },
 "nbformat": 4,
 "nbformat_minor": 4
}
