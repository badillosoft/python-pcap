{
 "cells": [
  {
   "cell_type": "markdown",
   "metadata": {},
   "source": [
    "# Módulos\n",
    "\n",
    "Los módulos son archivos de python usados para declarar funciones y clases principalmente. Podamos importar un módulo dentro de otro programa de python a tráves de su nombre, si ambos se ubican en la misma carpeta.\n",
    "\n",
    "Existen 3 formas principales de importar módulos dentro de un programa.\n",
    "\n",
    "1. **Importación canónica**: Importa un módulo como una variable con acceso a sus declaraciones mediante el periodo punto `.`\n",
    "2. **Importación parcial**: Importa sólo las declaraciones especificadas desde un módulo y se reconocen sus nombres como variables dentro del programa\n",
    "3. **Importación periódica y de alias**: Importa un módulo o submódulo con un alias (sobrenombre) como referencia."
   ]
  },
  {
   "cell_type": "code",
   "execution_count": 1,
   "metadata": {},
   "outputs": [
    {
     "data": {
      "text/plain": [
       "(-1, 9)"
      ]
     },
     "execution_count": 1,
     "metadata": {},
     "output_type": "execute_result"
    }
   ],
   "source": [
    "# Importación Canónica\n",
    "\n",
    "# Importamos el módulo biva.py como la variable biva\n",
    "# a través de `biva` podremos acceder a las declaraciones\n",
    "import biva\n",
    "\n",
    "biva.min_max([1, 2, 9, -1])"
   ]
  },
  {
   "cell_type": "code",
   "execution_count": 2,
   "metadata": {},
   "outputs": [
    {
     "data": {
      "text/plain": [
       "(2.0, 1.0)"
      ]
     },
     "execution_count": 2,
     "metadata": {},
     "output_type": "execute_result"
    }
   ],
   "source": [
    "# Imporación parcial\n",
    "\n",
    "# Importamos sólo la función solveMatriz declarada dentro del módulo biva\n",
    "from biva import solveMatriz\n",
    "\n",
    "A = [ [2, 5], [3, -2] ]\n",
    "b = [9, 4]\n",
    "\n",
    "# 2x + 5y = 9\n",
    "# 3x - 2y = 4\n",
    "\n",
    "solveMatriz(A, b)"
   ]
  },
  {
   "cell_type": "code",
   "execution_count": 3,
   "metadata": {},
   "outputs": [
    {
     "data": {
      "text/plain": [
       "(1, 9)"
      ]
     },
     "execution_count": 3,
     "metadata": {},
     "output_type": "execute_result"
    }
   ],
   "source": [
    "# Imporación con alias\n",
    "\n",
    "# Importa el módulo biva, pero reconocelo como `va`\n",
    "import biva as va\n",
    "\n",
    "va.min_max([3, 4, 2, 5, 1, 9, 6])"
   ]
  },
  {
   "cell_type": "code",
   "execution_count": 3,
   "metadata": {},
   "outputs": [
    {
     "name": "stdout",
     "output_type": "stream",
     "text": [
      "Collecting pillow\n",
      "  Downloading Pillow-8.0.1-cp39-cp39-win_amd64.whl (2.1 MB)\n",
      "Installing collected packages: pillow\n",
      "Successfully installed pillow-8.0.1\n"
     ]
    }
   ],
   "source": [
    "! pip install pillow"
   ]
  },
  {
   "cell_type": "code",
   "execution_count": 4,
   "metadata": {},
   "outputs": [
    {
     "data": {
      "text/plain": [
       "True"
      ]
     },
     "execution_count": 4,
     "metadata": {},
     "output_type": "execute_result"
    }
   ],
   "source": [
    "from biva import downloadImage\n",
    "\n",
    "url = \"https://upload.wikimedia.org/wikipedia/commons/thumb/c/c3/Python-logo-notext.svg/1200px-Python-logo-notext.svg.png\"\n",
    "filename = \"logo.png\"\n",
    "\n",
    "downloadImage(url, filename)"
   ]
  },
  {
   "cell_type": "markdown",
   "metadata": {},
   "source": [
    "## Submódulos y carpetas\n",
    "\n",
    "Cuándo queremos usar una carpeta como agrupadora de módulos, debemos crear dentro de la carpeta un archivo llamado `__init__.py`. Este archivo no tiene nada especial y podría estar vacío, todos los archivos `.py` restantes sobre la carpeta se considerarán submódulos y serán accedidos por el periodo `.`."
   ]
  },
  {
   "cell_type": "code",
   "execution_count": 5,
   "metadata": {},
   "outputs": [
    {
     "data": {
      "text/plain": [
       "<module 'house' from 'E:\\\\santuario\\\\cursos\\\\python-certification\\\\sesión 3\\\\house\\\\__init__.py'>"
      ]
     },
     "execution_count": 5,
     "metadata": {},
     "output_type": "execute_result"
    }
   ],
   "source": [
    "import house\n",
    "\n",
    "house"
   ]
  },
  {
   "cell_type": "code",
   "execution_count": 6,
   "metadata": {},
   "outputs": [
    {
     "ename": "AttributeError",
     "evalue": "module 'house' has no attribute 'core'",
     "output_type": "error",
     "traceback": [
      "\u001b[1;31m---------------------------------------------------------------\u001b[0m",
      "\u001b[1;31mAttributeError\u001b[0m                Traceback (most recent call last)",
      "\u001b[1;32m<ipython-input-6-9d5cd8645e64>\u001b[0m in \u001b[0;36m<module>\u001b[1;34m\u001b[0m\n\u001b[1;32m----> 1\u001b[1;33m \u001b[0mhouse\u001b[0m\u001b[1;33m.\u001b[0m\u001b[0mcore\u001b[0m\u001b[1;33m.\u001b[0m\u001b[0mcore_version\u001b[0m\u001b[1;33m(\u001b[0m\u001b[1;33m)\u001b[0m\u001b[1;33m\u001b[0m\u001b[1;33m\u001b[0m\u001b[0m\n\u001b[0m",
      "\u001b[1;31mAttributeError\u001b[0m: module 'house' has no attribute 'core'"
     ]
    }
   ],
   "source": [
    "house.core.core_version()"
   ]
  },
  {
   "cell_type": "code",
   "execution_count": 7,
   "metadata": {},
   "outputs": [
    {
     "data": {
      "text/plain": [
       "'house.core v1.0'"
      ]
     },
     "execution_count": 7,
     "metadata": {},
     "output_type": "execute_result"
    }
   ],
   "source": [
    "# Cuándo importamos un submódulo, generalmente usamos la tercer forma que es la importación por alias\n",
    "import house.core as core\n",
    "\n",
    "core.core_version()"
   ]
  },
  {
   "cell_type": "code",
   "execution_count": 8,
   "metadata": {},
   "outputs": [
    {
     "data": {
      "text/plain": [
       "'house.statistics.vector v1.0'"
      ]
     },
     "execution_count": 8,
     "metadata": {},
     "output_type": "execute_result"
    }
   ],
   "source": [
    "import house.statistics.vector as vector\n",
    "\n",
    "vector.vector_version()"
   ]
  },
  {
   "cell_type": "code",
   "execution_count": 9,
   "metadata": {},
   "outputs": [
    {
     "data": {
      "text/plain": [
       "'house.core v1.0'"
      ]
     },
     "execution_count": 9,
     "metadata": {},
     "output_type": "execute_result"
    }
   ],
   "source": [
    "from house.core import core_version\n",
    "\n",
    "core_version()"
   ]
  },
  {
   "cell_type": "code",
   "execution_count": 10,
   "metadata": {},
   "outputs": [
    {
     "data": {
      "text/plain": [
       "'house.statistics.vector v1.0'"
      ]
     },
     "execution_count": 10,
     "metadata": {},
     "output_type": "execute_result"
    }
   ],
   "source": [
    "from house.statistics.vector import vector_version\n",
    "\n",
    "vector_version()"
   ]
  },
  {
   "cell_type": "code",
   "execution_count": null,
   "metadata": {},
   "outputs": [],
   "source": [
    "# break, nos vemos 11:15 ~ 11:20"
   ]
  }
 ],
 "metadata": {
  "kernelspec": {
   "display_name": "Python 3",
   "language": "python",
   "name": "python3"
  },
  "language_info": {
   "codemirror_mode": {
    "name": "ipython",
    "version": 3
   },
   "file_extension": ".py",
   "mimetype": "text/x-python",
   "name": "python",
   "nbconvert_exporter": "python",
   "pygments_lexer": "ipython3",
   "version": "3.7.3"
  }
 },
 "nbformat": 4,
 "nbformat_minor": 4
}
