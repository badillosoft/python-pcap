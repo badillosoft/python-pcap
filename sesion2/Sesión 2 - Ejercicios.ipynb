{
 "cells": [
  {
   "cell_type": "markdown",
   "metadata": {},
   "source": [
    "# Ejercicios Sesión 2 - Manejo de colecciones"
   ]
  },
  {
   "cell_type": "code",
   "execution_count": 1,
   "metadata": {},
   "outputs": [],
   "source": [
    "alumnos = [\"Ramón\", \"Nancy\", \"Estefanía\", \"Samanta\", \"Rogelio\", \"Roberto\"]"
   ]
  },
  {
   "cell_type": "code",
   "execution_count": 3,
   "metadata": {},
   "outputs": [
    {
     "data": {
      "text/plain": [
       "'Nancy'"
      ]
     },
     "execution_count": 3,
     "metadata": {},
     "output_type": "execute_result"
    }
   ],
   "source": [
    "from random import choice\n",
    "\n",
    "choice(alumnos)"
   ]
  },
  {
   "cell_type": "markdown",
   "metadata": {},
   "source": [
    "## Ejercicio 1 - Leer un archivo con número y almacenar los números de una lista\n",
    "\n",
    "Existe un archivo llamado `numeros.txt` que contiene como primer línea el total de números a leer (`n`) y en las siguientes `n` líneas cada uno de los números.\n",
    "\n",
    "1. Abrir el archivo y leer la primer línea (`n`)\n",
    "2. Leer cada una de las siguientes `n` líneas, recuperar el número y añadirlo a una lista."
   ]
  },
  {
   "cell_type": "code",
   "execution_count": null,
   "metadata": {},
   "outputs": [],
   "source": [
    "f = open ('numeros.txt')\n",
    "\n",
    "lista = [] \n",
    "\n",
    "n = int(f.readline())\n",
    "\n",
    "for i in range(n):\n",
    "  x = int(f.readline())\n",
    "  #print (x)\n",
    "  #print (type(x))\n",
    "  lista.append(x)\n",
    "\n",
    "print (lista)"
   ]
  },
  {
   "cell_type": "markdown",
   "metadata": {},
   "source": [
    "## Ejercicio 2 - Leer un archivo con coordenadas y almacenar cada coordena como una 2-tupla en una lista\n",
    "\n",
    "Existe un archivo llamado `puntos.txt` que contiene como primer línea el total de puntos a leer (`n`) y en las siguientes `n` líneas cada una de las coordenas separadas por espacio.\n",
    "\n",
    "1. Abrir el archivo y leer la primer línea (`n`)\n",
    "2. Leer cada una de las siguientes `n` líneas\n",
    "3. Recuperar la coordenada separada por espacio.\n",
    "4. Recuperar el valor `x` como entero y el valor `y` como entero de la lista separada por espacio\n",
    "5. Añadir a la lista la 2-tupla `(x, y)`"
   ]
  },
  {
   "cell_type": "code",
   "execution_count": null,
   "metadata": {},
   "outputs": [],
   "source": [
    "f = open ('puntos.txt')\n",
    "\n",
    "n = int(f.readline())\n",
    "\n",
    "puntos = []\n",
    "\n",
    "for i in range(n):\n",
    "  punto = f.readline().split(' ') # ['1','1']\n",
    "  x = int(punto[0])\n",
    "  y = int(punto[1])\n",
    "  puntos.append( (x,y) )\n",
    "\n",
    "print (puntos)"
   ]
  }
 ],
 "metadata": {
  "kernelspec": {
   "display_name": "Python 3",
   "language": "python",
   "name": "python3"
  },
  "language_info": {
   "codemirror_mode": {
    "name": "ipython",
    "version": 3
   },
   "file_extension": ".py",
   "mimetype": "text/x-python",
   "name": "python",
   "nbconvert_exporter": "python",
   "pygments_lexer": "ipython3",
   "version": "3.9.0"
  }
 },
 "nbformat": 4,
 "nbformat_minor": 4
}
