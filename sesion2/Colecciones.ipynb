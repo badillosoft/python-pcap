{
 "cells": [
  {
   "cell_type": "markdown",
   "metadata": {},
   "source": [
    "# Colecciones"
   ]
  },
  {
   "cell_type": "markdown",
   "metadata": {},
   "source": [
    "## Listas\n",
    "\n",
    "Las listas son colecciones de datos que nos permitirá retener valores en un único elemento. Las listas poseen métodos para poder añadir, quitar, insertar o eliminar elementos. Una de las características más importante de las listas es su capacidad de extraer valores y sublistas a través de índices."
   ]
  },
  {
   "cell_type": "code",
   "execution_count": 1,
   "metadata": {},
   "outputs": [
    {
     "data": {
      "text/plain": [
       "[]"
      ]
     },
     "execution_count": 1,
     "metadata": {},
     "output_type": "execute_result"
    }
   ],
   "source": [
    "a = []\n",
    "\n",
    "a"
   ]
  },
  {
   "cell_type": "code",
   "execution_count": 2,
   "metadata": {},
   "outputs": [
    {
     "data": {
      "text/plain": [
       "[1, 2, 3, 4]"
      ]
     },
     "execution_count": 2,
     "metadata": {},
     "output_type": "execute_result"
    }
   ],
   "source": [
    "a.append(1)\n",
    "a.append(2)\n",
    "a.append(3)\n",
    "a.append(4)\n",
    "\n",
    "a"
   ]
  },
  {
   "cell_type": "code",
   "execution_count": 3,
   "metadata": {},
   "outputs": [
    {
     "data": {
      "text/plain": [
       "1"
      ]
     },
     "execution_count": 3,
     "metadata": {},
     "output_type": "execute_result"
    }
   ],
   "source": [
    "a[0] # 1"
   ]
  },
  {
   "cell_type": "code",
   "execution_count": 4,
   "metadata": {},
   "outputs": [
    {
     "data": {
      "text/plain": [
       "3"
      ]
     },
     "execution_count": 4,
     "metadata": {},
     "output_type": "execute_result"
    }
   ],
   "source": [
    "a[2] # 3"
   ]
  },
  {
   "cell_type": "code",
   "execution_count": 5,
   "metadata": {},
   "outputs": [
    {
     "data": {
      "text/plain": [
       "4"
      ]
     },
     "execution_count": 5,
     "metadata": {},
     "output_type": "execute_result"
    }
   ],
   "source": [
    "a.pop() # 4"
   ]
  },
  {
   "cell_type": "code",
   "execution_count": 6,
   "metadata": {},
   "outputs": [
    {
     "data": {
      "text/plain": [
       "[1, 2, 3]"
      ]
     },
     "execution_count": 6,
     "metadata": {},
     "output_type": "execute_result"
    }
   ],
   "source": [
    "a"
   ]
  },
  {
   "cell_type": "code",
   "execution_count": 7,
   "metadata": {},
   "outputs": [
    {
     "data": {
      "text/plain": [
       "3"
      ]
     },
     "execution_count": 7,
     "metadata": {},
     "output_type": "execute_result"
    }
   ],
   "source": [
    "a.pop() # 3"
   ]
  },
  {
   "cell_type": "code",
   "execution_count": 8,
   "metadata": {},
   "outputs": [
    {
     "data": {
      "text/plain": [
       "[1, 2]"
      ]
     },
     "execution_count": 8,
     "metadata": {},
     "output_type": "execute_result"
    }
   ],
   "source": [
    "a"
   ]
  },
  {
   "cell_type": "code",
   "execution_count": 9,
   "metadata": {},
   "outputs": [
    {
     "data": {
      "text/plain": [
       "['manzana', 'pera', 'mango', 'papaya', 'melón']"
      ]
     },
     "execution_count": 9,
     "metadata": {},
     "output_type": "execute_result"
    }
   ],
   "source": [
    "frutas = [\"manzana\", \"pera\", \"mango\", \"papaya\", \"melón\"]\n",
    "\n",
    "frutas"
   ]
  },
  {
   "cell_type": "code",
   "execution_count": 10,
   "metadata": {},
   "outputs": [
    {
     "data": {
      "text/plain": [
       "'melón'"
      ]
     },
     "execution_count": 10,
     "metadata": {},
     "output_type": "execute_result"
    }
   ],
   "source": [
    "last_fruta = frutas.pop()\n",
    "\n",
    "last_fruta"
   ]
  },
  {
   "cell_type": "code",
   "execution_count": 11,
   "metadata": {},
   "outputs": [
    {
     "data": {
      "text/plain": [
       "['manzana', 'pera', 'mango', 'papaya']"
      ]
     },
     "execution_count": 11,
     "metadata": {},
     "output_type": "execute_result"
    }
   ],
   "source": [
    "frutas"
   ]
  },
  {
   "cell_type": "code",
   "execution_count": 12,
   "metadata": {},
   "outputs": [
    {
     "data": {
      "text/plain": [
       "'mango'"
      ]
     },
     "execution_count": 12,
     "metadata": {},
     "output_type": "execute_result"
    }
   ],
   "source": [
    "mango = frutas.pop(2)\n",
    "\n",
    "mango"
   ]
  },
  {
   "cell_type": "code",
   "execution_count": 13,
   "metadata": {},
   "outputs": [
    {
     "data": {
      "text/plain": [
       "['manzana', 'pera', 'papaya']"
      ]
     },
     "execution_count": 13,
     "metadata": {},
     "output_type": "execute_result"
    }
   ],
   "source": [
    "frutas"
   ]
  },
  {
   "cell_type": "code",
   "execution_count": 15,
   "metadata": {},
   "outputs": [
    {
     "data": {
      "text/plain": [
       "['manzana', 'pera', 'güayaba', 'papaya']"
      ]
     },
     "execution_count": 15,
     "metadata": {},
     "output_type": "execute_result"
    }
   ],
   "source": [
    "frutas.insert(2, \"güayaba\")\n",
    "\n",
    "frutas"
   ]
  },
  {
   "cell_type": "code",
   "execution_count": 16,
   "metadata": {},
   "outputs": [
    {
     "data": {
      "text/plain": [
       "['manzana', 'pera', 'pera', 'güayaba', 'papaya']"
      ]
     },
     "execution_count": 16,
     "metadata": {},
     "output_type": "execute_result"
    }
   ],
   "source": [
    "frutas.insert(1, \"pera\")\n",
    "\n",
    "frutas"
   ]
  },
  {
   "cell_type": "code",
   "execution_count": 17,
   "metadata": {},
   "outputs": [
    {
     "data": {
      "text/plain": [
       "['manzana', 'pera', 'güayaba', 'papaya']"
      ]
     },
     "execution_count": 17,
     "metadata": {},
     "output_type": "execute_result"
    }
   ],
   "source": [
    "frutas.remove(\"pera\") # quita primer coincidencia\n",
    "\n",
    "frutas"
   ]
  },
  {
   "cell_type": "code",
   "execution_count": 18,
   "metadata": {},
   "outputs": [
    {
     "data": {
      "text/plain": [
       "['manzana', 'pera', 'güayaba', 'pera', 'papaya']"
      ]
     },
     "execution_count": 18,
     "metadata": {},
     "output_type": "execute_result"
    }
   ],
   "source": [
    "frutas.insert(3, \"pera\")\n",
    "\n",
    "frutas"
   ]
  },
  {
   "cell_type": "code",
   "execution_count": 19,
   "metadata": {},
   "outputs": [
    {
     "data": {
      "text/plain": [
       "['manzana', 'güayaba', 'pera', 'papaya']"
      ]
     },
     "execution_count": 19,
     "metadata": {},
     "output_type": "execute_result"
    }
   ],
   "source": [
    "frutas.remove(\"pera\") # quita primer coincidencia\n",
    "\n",
    "frutas"
   ]
  },
  {
   "cell_type": "code",
   "execution_count": 20,
   "metadata": {},
   "outputs": [
    {
     "ename": "ValueError",
     "evalue": "list.remove(x): x not in list",
     "output_type": "error",
     "traceback": [
      "\u001b[1;31m---------------------------------------------------------------\u001b[0m",
      "\u001b[1;31mValueError\u001b[0m                    Traceback (most recent call last)",
      "\u001b[1;32m<ipython-input-20-777121e77f01>\u001b[0m in \u001b[0;36m<module>\u001b[1;34m\u001b[0m\n\u001b[1;32m----> 1\u001b[1;33m \u001b[0mfrutas\u001b[0m\u001b[1;33m.\u001b[0m\u001b[0mremove\u001b[0m\u001b[1;33m(\u001b[0m\u001b[1;34m\"melón\"\u001b[0m\u001b[1;33m)\u001b[0m\u001b[1;33m\u001b[0m\u001b[1;33m\u001b[0m\u001b[0m\n\u001b[0m",
      "\u001b[1;31mValueError\u001b[0m: list.remove(x): x not in list"
     ]
    }
   ],
   "source": [
    "frutas.remove(\"melón\")"
   ]
  },
  {
   "cell_type": "code",
   "execution_count": 24,
   "metadata": {},
   "outputs": [
    {
     "name": "stdout",
     "output_type": "stream",
     "text": [
      "['manzana', 'pera']\n"
     ]
    }
   ],
   "source": [
    "if \"papaya\" in frutas:\n",
    "    frutas.remove(\"papaya\")\n",
    "    print(frutas)"
   ]
  },
  {
   "cell_type": "code",
   "execution_count": 25,
   "metadata": {},
   "outputs": [],
   "source": [
    "if frutas.count(\"güayaba\") > 0:\n",
    "    frutas.remove(\"güayaba\")\n",
    "    print(frutas)"
   ]
  },
  {
   "cell_type": "code",
   "execution_count": 28,
   "metadata": {},
   "outputs": [
    {
     "data": {
      "text/plain": [
       "[2, 2, 4, 6, 5, 7, 4, 6, 9, 5]"
      ]
     },
     "execution_count": 28,
     "metadata": {},
     "output_type": "execute_result"
    }
   ],
   "source": [
    "import random\n",
    "\n",
    "nums = []\n",
    "\n",
    "for i in range(10):\n",
    "    n = random.randint(1, 10)\n",
    "    nums.append(n)\n",
    "    \n",
    "nums"
   ]
  },
  {
   "cell_type": "code",
   "execution_count": 29,
   "metadata": {},
   "outputs": [
    {
     "data": {
      "text/plain": [
       "[2, 2, 6, 5, 7, 4, 6, 9, 5]"
      ]
     },
     "execution_count": 29,
     "metadata": {},
     "output_type": "execute_result"
    }
   ],
   "source": [
    "while nums.count(4) > 1:\n",
    "    nums.remove(4)\n",
    "    \n",
    "nums"
   ]
  },
  {
   "cell_type": "code",
   "execution_count": 30,
   "metadata": {},
   "outputs": [
    {
     "data": {
      "text/plain": [
       "[1, 2, 3, 6, 9]"
      ]
     },
     "execution_count": 30,
     "metadata": {},
     "output_type": "execute_result"
    }
   ],
   "source": [
    "a = [1, 2, 3, 5, 7, 9]\n",
    "\n",
    "# append - añade un elemento al final de la lista\n",
    "a.append(10) # [1, 2, 3, 5, 7, 9, 10]\n",
    "\n",
    "# pop - quita un elemento del final de la lista\n",
    "a.pop() # [1, 2, 3, 5, 7, 9]\n",
    "\n",
    "# pop - quita un elemento en el índice marcado * error si el índice no existe\n",
    "a.pop(3) # [1, 2, 3, 7, 9]\n",
    "\n",
    "# insert - inserta un elemento en el índice marcado * error si el índice es mayor al números de elementos o menor a cero\n",
    "a.insert(3, 6) # [1, 2, 3, 6, 7, 9]\n",
    "\n",
    "# remove - quita el primer elemento encontrado * error si no existe dentro de la lista\n",
    "a.remove(7) # [1, 2, 3, 6, 9]\n",
    "\n",
    "a"
   ]
  },
  {
   "cell_type": "markdown",
   "metadata": {},
   "source": [
    "### Ejercicio - Generar una lista con los primeros 20 números de la secuencia de fibonacci\n",
    "\n",
    "Los primeros dos números de fibonacci son 1 y 1, y el siguiente se calcula como la suma de los dos anteriores."
   ]
  },
  {
   "cell_type": "code",
   "execution_count": 31,
   "metadata": {},
   "outputs": [
    {
     "name": "stdout",
     "output_type": "stream",
     "text": [
      "[1, 1, 2, 3, 5, 8, 13, 21, 34, 55, 89, 144, 233, 377, 610, 987, 1597, 2584, 4181, 6765]\n"
     ]
    }
   ],
   "source": [
    "fibi = [1,1]\n",
    "\n",
    "while len(fibi) < 20:\n",
    "  n = len (fibi)\n",
    "  s = fibi[n-1] + fibi [n-2]\n",
    "  fibi.append (s)\n",
    "\n",
    "print (fibi)"
   ]
  },
  {
   "cell_type": "markdown",
   "metadata": {},
   "source": [
    "## Índices y Sublistas\n",
    "\n",
    "Los índices son las posiciones dentro de una secuencia (una lista o tupla), los cuáles comienzan marcar las posiciones desde `0` y podemos incluso maneajar índices negativos."
   ]
  },
  {
   "cell_type": "code",
   "execution_count": 32,
   "metadata": {},
   "outputs": [
    {
     "name": "stdout",
     "output_type": "stream",
     "text": [
      "[1, 1, 2, 3, 5, 8, 13, 21, 34, 55, 89, 144, 233, 377, 610, 987, 1597, 2584, 4181, 6765]\n"
     ]
    }
   ],
   "source": [
    "fibi = [1,1]\n",
    "\n",
    "while len(fibi) < 20:\n",
    "  s = fibi[-1] + fibi[-2]\n",
    "  fibi.append (s)\n",
    "\n",
    "print (fibi)"
   ]
  },
  {
   "cell_type": "code",
   "execution_count": 35,
   "metadata": {},
   "outputs": [
    {
     "data": {
      "text/plain": [
       "range(1, 10)"
      ]
     },
     "execution_count": 35,
     "metadata": {},
     "output_type": "execute_result"
    }
   ],
   "source": [
    "a = range(1, 10) # [1, 2, 3, 4, 5, 6, 7, 8, 9]\n",
    "\n",
    "a"
   ]
  },
  {
   "cell_type": "code",
   "execution_count": 39,
   "metadata": {},
   "outputs": [
    {
     "data": {
      "text/plain": [
       "1"
      ]
     },
     "execution_count": 39,
     "metadata": {},
     "output_type": "execute_result"
    }
   ],
   "source": [
    "a[0] # 1"
   ]
  },
  {
   "cell_type": "code",
   "execution_count": 38,
   "metadata": {},
   "outputs": [
    {
     "data": {
      "text/plain": [
       "7"
      ]
     },
     "execution_count": 38,
     "metadata": {},
     "output_type": "execute_result"
    }
   ],
   "source": [
    "a[6] # 7"
   ]
  },
  {
   "cell_type": "code",
   "execution_count": 40,
   "metadata": {},
   "outputs": [
    {
     "data": {
      "text/plain": [
       "9"
      ]
     },
     "execution_count": 40,
     "metadata": {},
     "output_type": "execute_result"
    }
   ],
   "source": [
    "a[-1] # 9"
   ]
  },
  {
   "cell_type": "code",
   "execution_count": 41,
   "metadata": {},
   "outputs": [
    {
     "data": {
      "text/plain": [
       "8"
      ]
     },
     "execution_count": 41,
     "metadata": {},
     "output_type": "execute_result"
    }
   ],
   "source": [
    "a[-2] # 8"
   ]
  },
  {
   "cell_type": "code",
   "execution_count": 42,
   "metadata": {},
   "outputs": [
    {
     "data": {
      "text/plain": [
       "7"
      ]
     },
     "execution_count": 42,
     "metadata": {},
     "output_type": "execute_result"
    }
   ],
   "source": [
    "a[-3] # 7"
   ]
  },
  {
   "cell_type": "code",
   "execution_count": 43,
   "metadata": {},
   "outputs": [
    {
     "data": {
      "text/plain": [
       "1"
      ]
     },
     "execution_count": 43,
     "metadata": {},
     "output_type": "execute_result"
    }
   ],
   "source": [
    "a[-9] # 1"
   ]
  },
  {
   "cell_type": "code",
   "execution_count": 44,
   "metadata": {},
   "outputs": [
    {
     "ename": "IndexError",
     "evalue": "range object index out of range",
     "output_type": "error",
     "traceback": [
      "\u001b[1;31m---------------------------------------------------------------\u001b[0m",
      "\u001b[1;31mIndexError\u001b[0m                    Traceback (most recent call last)",
      "\u001b[1;32m<ipython-input-44-b1ddb357c14a>\u001b[0m in \u001b[0;36m<module>\u001b[1;34m\u001b[0m\n\u001b[1;32m----> 1\u001b[1;33m \u001b[0ma\u001b[0m\u001b[1;33m[\u001b[0m\u001b[1;33m-\u001b[0m\u001b[1;36m10\u001b[0m\u001b[1;33m]\u001b[0m\u001b[1;33m\u001b[0m\u001b[1;33m\u001b[0m\u001b[0m\n\u001b[0m",
      "\u001b[1;31mIndexError\u001b[0m: range object index out of range"
     ]
    }
   ],
   "source": [
    "a[-10] # error"
   ]
  },
  {
   "cell_type": "code",
   "execution_count": 47,
   "metadata": {},
   "outputs": [
    {
     "data": {
      "text/plain": [
       "range(5, 7)"
      ]
     },
     "execution_count": 47,
     "metadata": {},
     "output_type": "execute_result"
    }
   ],
   "source": [
    "# El último valor no es devuelto en índices\n",
    "a[4:6] # [5, 7]"
   ]
  },
  {
   "cell_type": "code",
   "execution_count": 51,
   "metadata": {},
   "outputs": [
    {
     "data": {
      "text/plain": [
       "['alberto', 'bety', 'carlos', 'diana', 'eduardo', 'faby', 'gus', 'hugo', 'isa']"
      ]
     },
     "execution_count": 51,
     "metadata": {},
     "output_type": "execute_result"
    }
   ],
   "source": [
    "a = [\"alberto\", \"bety\", \"carlos\", \"diana\", \"eduardo\", \"faby\", \"gus\", \"hugo\", \"isa\"]\n",
    "\n",
    "a"
   ]
  },
  {
   "cell_type": "code",
   "execution_count": 52,
   "metadata": {},
   "outputs": [
    {
     "data": {
      "text/plain": [
       "'carlos'"
      ]
     },
     "execution_count": 52,
     "metadata": {},
     "output_type": "execute_result"
    }
   ],
   "source": [
    "a[2] # carlos"
   ]
  },
  {
   "cell_type": "code",
   "execution_count": 53,
   "metadata": {},
   "outputs": [
    {
     "data": {
      "text/plain": [
       "['carlos', 'diana', 'eduardo']"
      ]
     },
     "execution_count": 53,
     "metadata": {},
     "output_type": "execute_result"
    }
   ],
   "source": [
    "a[2:5] # 2, 3, 4 [\"carlos\", \"diana\", \"eduardo\"]"
   ]
  },
  {
   "cell_type": "code",
   "execution_count": 54,
   "metadata": {},
   "outputs": [
    {
     "data": {
      "text/plain": [
       "['diana', 'eduardo', 'faby', 'gus']"
      ]
     },
     "execution_count": 54,
     "metadata": {},
     "output_type": "execute_result"
    }
   ],
   "source": [
    "a[3:7] # 3, 4, 5, 6 [\"diana\", \"eduardo\", \"faby\", \"gus\"]"
   ]
  },
  {
   "cell_type": "code",
   "execution_count": 55,
   "metadata": {},
   "outputs": [
    {
     "data": {
      "text/plain": [
       "['diana', 'eduardo', 'faby', 'gus', 'hugo', 'isa']"
      ]
     },
     "execution_count": 55,
     "metadata": {},
     "output_type": "execute_result"
    }
   ],
   "source": [
    "a[3:] # ['diana', 'eduardo', 'faby', 'gus', 'hugo', 'isa']"
   ]
  },
  {
   "cell_type": "code",
   "execution_count": 56,
   "metadata": {},
   "outputs": [
    {
     "data": {
      "text/plain": [
       "['alberto', 'bety', 'carlos', 'diana', 'eduardo']"
      ]
     },
     "execution_count": 56,
     "metadata": {},
     "output_type": "execute_result"
    }
   ],
   "source": [
    "a[:5] # ['alberto', 'bety', 'carlos', 'diana', 'eduardo']"
   ]
  },
  {
   "cell_type": "markdown",
   "metadata": {},
   "source": [
    "## Ejercicio - Partición de listas\n",
    "\n",
    "Partir una lista de N elementos en sublistas de 3 elementos, partiendo del elemento inicial y hasta el último."
   ]
  },
  {
   "cell_type": "code",
   "execution_count": 58,
   "metadata": {},
   "outputs": [
    {
     "data": {
      "text/plain": [
       "[0.6097159820376516,\n",
       " 0.6141304733873578,\n",
       " 0.28029978405255485,\n",
       " 0.40232742123546095,\n",
       " 0.8968812374226506,\n",
       " 0.3631281228451958,\n",
       " 0.13245154581209495,\n",
       " 0.7661729899458928,\n",
       " 0.6430217512021982,\n",
       " 0.38899755971489225,\n",
       " 0.4563111266023785,\n",
       " 0.49742691197468114,\n",
       " 0.7919896577899962,\n",
       " 0.07397495805968701,\n",
       " 0.7601849816733824,\n",
       " 0.6500345210631555,\n",
       " 0.5210400191455647,\n",
       " 0.6278419534765117,\n",
       " 0.0162361686488649,\n",
       " 0.9438789957918131]"
      ]
     },
     "execution_count": 58,
     "metadata": {},
     "output_type": "execute_result"
    }
   ],
   "source": [
    "import random\n",
    "\n",
    "x = []\n",
    "\n",
    "for i in range(20):\n",
    "    x.append(random.random())\n",
    "    \n",
    "x"
   ]
  },
  {
   "cell_type": "code",
   "execution_count": 59,
   "metadata": {},
   "outputs": [
    {
     "data": {
      "text/plain": [
       "20"
      ]
     },
     "execution_count": 59,
     "metadata": {},
     "output_type": "execute_result"
    }
   ],
   "source": [
    "n = len(x)\n",
    "\n",
    "n"
   ]
  },
  {
   "cell_type": "code",
   "execution_count": 64,
   "metadata": {},
   "outputs": [
    {
     "data": {
      "text/plain": [
       "7"
      ]
     },
     "execution_count": 64,
     "metadata": {},
     "output_type": "execute_result"
    }
   ],
   "source": [
    "from math import ceil, floor\n",
    "\n",
    "ceil(n / 3) # 20 / 3 = 6.66666... ceil - redondeo hacia arriba (7), floor - redondeo hacia abajo (6)"
   ]
  },
  {
   "cell_type": "code",
   "execution_count": 65,
   "metadata": {},
   "outputs": [
    {
     "data": {
      "text/plain": [
       "6"
      ]
     },
     "execution_count": 65,
     "metadata": {},
     "output_type": "execute_result"
    }
   ],
   "source": [
    "floor(20 / 3)"
   ]
  },
  {
   "cell_type": "code",
   "execution_count": 70,
   "metadata": {},
   "outputs": [
    {
     "name": "stdout",
     "output_type": "stream",
     "text": [
      "0\n",
      "3\n",
      "6\n",
      "9\n",
      "12\n",
      "15\n"
     ]
    }
   ],
   "source": [
    "# 0, 3, 6, 9, ..., 18\n",
    "\n",
    "# floor(n / 3) nos indica cuántas sublistas completas de 3 caben en nuestra lista (respuesta hay 6 ternas completas)\n",
    "# 3 * floor(n / 3) = 3 * 6 = 18, es decir, pordemo avanzar de 3 en 3 hasta el índice 18 sin tocarlo, es decir, 0, 3, 6, 9, 12, 15\n",
    "\n",
    "for i in range(0, 3 * floor(n / 3), 3): # range(a, b, s) a, a + s, a + 2s, a + 3s, ..., b - 1, range(0, 18, 3) = 0, 3, 6, 9, 12, 15\n",
    "    print(i)"
   ]
  },
  {
   "cell_type": "code",
   "execution_count": 71,
   "metadata": {},
   "outputs": [
    {
     "name": "stdout",
     "output_type": "stream",
     "text": [
      "0.6097159820376516 0.6141304733873578 0.28029978405255485\n",
      "0.40232742123546095 0.8968812374226506 0.3631281228451958\n",
      "0.13245154581209495 0.7661729899458928 0.6430217512021982\n",
      "0.38899755971489225 0.4563111266023785 0.49742691197468114\n",
      "0.7919896577899962 0.07397495805968701 0.7601849816733824\n",
      "0.6500345210631555 0.5210400191455647 0.6278419534765117\n"
     ]
    }
   ],
   "source": [
    "# 0, 3, 6, 9, ...\n",
    "\n",
    "for i in range(0, 3 * floor(n / 3), 3):\n",
    "    print(x[i], x[i + 1], x[i + 2])"
   ]
  },
  {
   "cell_type": "markdown",
   "metadata": {},
   "source": [
    "### Ejemplo - Codificación de colores en imágenes\n",
    "\n",
    "Generalmente las imágenes son guardadas en archivos codificados dónde cada 3 valores representan un pixel RGB, esto quiere decir que el archivo en realidad es una lista de números, dónde cada 3 números hay color codificado. Vamos a recuperar de una lista de valores entre 0 y 255, los colores RGB que representa cada pixel. El valor 0 se refiere a una ausencia de color y 255 el color más intenso, entonces, si recuperamos (0, 255, 0) significaría ausencia de rojo (Red) y verde (Green) y el color azul (Blue) más intenso."
   ]
  },
  {
   "cell_type": "markdown",
   "metadata": {},
   "source": [
    "Vamos a generar una imagen de 8x8 pixeles, entonces tendríamos un total de 8x8x3 valores o 192 valores en una lista, cuyo rango es de 0 a 255. Entonces hacemo lo siguiente."
   ]
  },
  {
   "cell_type": "code",
   "execution_count": 75,
   "metadata": {},
   "outputs": [
    {
     "data": {
      "text/plain": [
       "[72, 227, 224, 174, 25, 182, 131, 220, 33]"
      ]
     },
     "execution_count": 75,
     "metadata": {},
     "output_type": "execute_result"
    }
   ],
   "source": [
    "import random\n",
    "\n",
    "values = []\n",
    "\n",
    "for i in range(8*8*3):\n",
    "    x = random.randint(0, 256) # un valor aleatorio entre 0 y 255\n",
    "    values.append(x)\n",
    "    \n",
    "values[:9]"
   ]
  },
  {
   "cell_type": "markdown",
   "metadata": {},
   "source": [
    "Podemos observar que los primeros 3 valores son 72, 227 y 244, los cuáles son el RGB de un pixel en la imagen de 8x8, es decir, el primer pixel."
   ]
  },
  {
   "cell_type": "code",
   "execution_count": 79,
   "metadata": {},
   "outputs": [
    {
     "name": "stdout",
     "output_type": "stream",
     "text": [
      "0 [72, 227, 224]\n",
      "3 [174, 25, 182]\n",
      "6 [131, 220, 33]\n",
      "9 [243, 248, 92]\n",
      "12 [209, 80, 126]\n",
      "15 [67, 212, 156]\n",
      "18 [110, 231, 208]\n",
      "21 [203, 236, 179]\n",
      "24 [218, 208, 212]\n",
      "27 [172, 252, 85]\n",
      "30 [220, 138, 182]\n",
      "33 [14, 93, 215]\n",
      "36 [125, 181, 15]\n",
      "39 [231, 117, 11]\n",
      "42 [84, 87, 127]\n",
      "45 [147, 4, 166]\n",
      "48 [99, 236, 134]\n",
      "51 [14, 186, 128]\n",
      "54 [238, 211, 75]\n",
      "57 [31, 31, 171]\n",
      "60 [209, 16, 102]\n",
      "63 [44, 58, 119]\n",
      "66 [205, 108, 226]\n",
      "69 [65, 254, 241]\n",
      "72 [227, 249, 30]\n",
      "75 [165, 256, 96]\n",
      "78 [189, 60, 146]\n",
      "81 [55, 204, 160]\n",
      "84 [144, 210, 143]\n",
      "87 [49, 212, 29]\n",
      "90 [0, 128, 22]\n",
      "93 [240, 168, 91]\n",
      "96 [74, 74, 199]\n",
      "99 [95, 82, 7]\n",
      "102 [109, 5, 141]\n",
      "105 [16, 31, 10]\n",
      "108 [228, 154, 54]\n",
      "111 [240, 74, 218]\n",
      "114 [224, 201, 214]\n",
      "117 [33, 83, 210]\n",
      "120 [182, 75, 74]\n",
      "123 [215, 131, 71]\n",
      "126 [2, 64, 87]\n",
      "129 [166, 111, 94]\n",
      "132 [231, 137, 97]\n",
      "135 [178, 15, 146]\n",
      "138 [244, 249, 27]\n",
      "141 [166, 183, 204]\n",
      "144 [215, 154, 204]\n",
      "147 [186, 151, 151]\n",
      "150 [29, 242, 203]\n",
      "153 [214, 40, 0]\n",
      "156 [148, 189, 225]\n",
      "159 [230, 57, 73]\n",
      "162 [173, 140, 174]\n",
      "165 [180, 39, 108]\n",
      "168 [25, 239, 12]\n",
      "171 [26, 59, 83]\n",
      "174 [111, 183, 148]\n",
      "177 [48, 25, 175]\n",
      "180 [154, 120, 255]\n",
      "183 [127, 115, 118]\n",
      "186 [25, 72, 211]\n",
      "189 [117, 231, 48]\n"
     ]
    }
   ],
   "source": [
    "for i in range(0, 3 * floor(len(values) / 3), 3):\n",
    "    print(i, values[i:i+3]) # recuperamos la sublista desde la posición `i` (el índice de la terna o pixel) hasta el siguiente índice (3 más)"
   ]
  },
  {
   "cell_type": "markdown",
   "metadata": {},
   "source": [
    "## Tuplas\n",
    "\n",
    "Las tuplas son paquetes de valores similares a las listas pero de tamaño fijo, y no podemos reemplazar sus valores. Las tuplas están diseñadas para manejar varios valores de múltiples tipos de manera ordenada a través de un mismo elemento, el sentido es por lo tanto, empaquetar valores para transportarlos y manipularlos fácilmente."
   ]
  },
  {
   "cell_type": "code",
   "execution_count": 80,
   "metadata": {},
   "outputs": [
    {
     "data": {
      "text/plain": [
       "(1, True, 'pedro')"
      ]
     },
     "execution_count": 80,
     "metadata": {},
     "output_type": "execute_result"
    }
   ],
   "source": [
    "t = (1, True, \"pedro\")\n",
    "\n",
    "t"
   ]
  },
  {
   "cell_type": "code",
   "execution_count": 81,
   "metadata": {},
   "outputs": [
    {
     "data": {
      "text/plain": [
       "1"
      ]
     },
     "execution_count": 81,
     "metadata": {},
     "output_type": "execute_result"
    }
   ],
   "source": [
    "t[0]"
   ]
  },
  {
   "cell_type": "code",
   "execution_count": 82,
   "metadata": {},
   "outputs": [
    {
     "data": {
      "text/plain": [
       "True"
      ]
     },
     "execution_count": 82,
     "metadata": {},
     "output_type": "execute_result"
    }
   ],
   "source": [
    "t[1]"
   ]
  },
  {
   "cell_type": "code",
   "execution_count": 83,
   "metadata": {},
   "outputs": [
    {
     "data": {
      "text/plain": [
       "'pedro'"
      ]
     },
     "execution_count": 83,
     "metadata": {},
     "output_type": "execute_result"
    }
   ],
   "source": [
    "t[2]"
   ]
  },
  {
   "cell_type": "code",
   "execution_count": 84,
   "metadata": {},
   "outputs": [
    {
     "ename": "TypeError",
     "evalue": "'tuple' object does not support item assignment",
     "output_type": "error",
     "traceback": [
      "\u001b[1;31m---------------------------------------------------------------\u001b[0m",
      "\u001b[1;31mTypeError\u001b[0m                     Traceback (most recent call last)",
      "\u001b[1;32m<ipython-input-84-f95f071b5dcd>\u001b[0m in \u001b[0;36m<module>\u001b[1;34m\u001b[0m\n\u001b[1;32m----> 1\u001b[1;33m \u001b[0mt\u001b[0m\u001b[1;33m[\u001b[0m\u001b[1;36m0\u001b[0m\u001b[1;33m]\u001b[0m \u001b[1;33m=\u001b[0m \u001b[1;36m2\u001b[0m \u001b[1;31m# error\u001b[0m\u001b[1;33m\u001b[0m\u001b[1;33m\u001b[0m\u001b[0m\n\u001b[0m",
      "\u001b[1;31mTypeError\u001b[0m: 'tuple' object does not support item assignment"
     ]
    }
   ],
   "source": [
    "t[0] = 2 # error"
   ]
  },
  {
   "cell_type": "markdown",
   "metadata": {},
   "source": [
    "Las tuplas pueden ser desacopladas (desmpaquetadas) en el número de variables igual número de elementos en la tupla (dimensión)."
   ]
  },
  {
   "cell_type": "code",
   "execution_count": 85,
   "metadata": {},
   "outputs": [],
   "source": [
    "a, b, c = t # a, b, c = (1, True, \"pedro\"), a = 1, b = True, c = \"pedro\""
   ]
  },
  {
   "cell_type": "code",
   "execution_count": 86,
   "metadata": {},
   "outputs": [
    {
     "data": {
      "text/plain": [
       "1"
      ]
     },
     "execution_count": 86,
     "metadata": {},
     "output_type": "execute_result"
    }
   ],
   "source": [
    "a"
   ]
  },
  {
   "cell_type": "code",
   "execution_count": 87,
   "metadata": {},
   "outputs": [
    {
     "data": {
      "text/plain": [
       "True"
      ]
     },
     "execution_count": 87,
     "metadata": {},
     "output_type": "execute_result"
    }
   ],
   "source": [
    "b"
   ]
  },
  {
   "cell_type": "code",
   "execution_count": 88,
   "metadata": {},
   "outputs": [
    {
     "data": {
      "text/plain": [
       "'pedro'"
      ]
     },
     "execution_count": 88,
     "metadata": {},
     "output_type": "execute_result"
    }
   ],
   "source": [
    "c"
   ]
  },
  {
   "cell_type": "code",
   "execution_count": 89,
   "metadata": {},
   "outputs": [
    {
     "name": "stdout",
     "output_type": "stream",
     "text": [
      "1 100\n"
     ]
    }
   ],
   "source": [
    "a, b = (1, 100)\n",
    "\n",
    "print(a, b)"
   ]
  },
  {
   "cell_type": "markdown",
   "metadata": {},
   "source": [
    "Una tupla con `n` valores se considera una n-tupla, es decir, una tupla de 2 valores acoplados se considera una 2-tupla"
   ]
  },
  {
   "cell_type": "code",
   "execution_count": 90,
   "metadata": {},
   "outputs": [
    {
     "data": {
      "text/plain": [
       "(1, 5)"
      ]
     },
     "execution_count": 90,
     "metadata": {},
     "output_type": "execute_result"
    }
   ],
   "source": [
    "p = (1, 5)\n",
    "\n",
    "p"
   ]
  },
  {
   "cell_type": "code",
   "execution_count": 91,
   "metadata": {},
   "outputs": [
    {
     "data": {
      "text/plain": [
       "'x: 1, y: 5'"
      ]
     },
     "execution_count": 91,
     "metadata": {},
     "output_type": "execute_result"
    }
   ],
   "source": [
    "x, y = p\n",
    "\n",
    "f\"x: {x}, y: {y}\""
   ]
  },
  {
   "cell_type": "markdown",
   "metadata": {},
   "source": [
    "La combinación de tuplas y listas nos permite crear listas complejas las cuáles pueden retener varios valores (una tupla por cada elemento) y manipular los elementos de forma compleja. Por ejemplo, si quisieramos retener los valores de un polígono, podríamos guardar en una lista la coordena de cada punto, como una 2-tupla (x, y)."
   ]
  },
  {
   "cell_type": "code",
   "execution_count": 93,
   "metadata": {},
   "outputs": [
    {
     "data": {
      "text/plain": [
       "[(0, 0), (1, 0), (1, 1), (0, 1)]"
      ]
     },
     "execution_count": 93,
     "metadata": {},
     "output_type": "execute_result"
    }
   ],
   "source": [
    "poligono = [\n",
    "    (0, 0),\n",
    "    (1, 0),\n",
    "    (1, 1),\n",
    "    (0, 1)\n",
    "]\n",
    "\n",
    "poligono"
   ]
  },
  {
   "cell_type": "markdown",
   "metadata": {},
   "source": [
    "De esta manera almacenamos en la lista cada elemento acoplado. para acceder a los elementos podemos hacerlo por índice o iterandólos."
   ]
  },
  {
   "cell_type": "code",
   "execution_count": 94,
   "metadata": {},
   "outputs": [
    {
     "data": {
      "text/plain": [
       "(1, 0)"
      ]
     },
     "execution_count": 94,
     "metadata": {},
     "output_type": "execute_result"
    }
   ],
   "source": [
    "poligono[1] # (1, 0)"
   ]
  },
  {
   "cell_type": "code",
   "execution_count": 95,
   "metadata": {},
   "outputs": [
    {
     "name": "stdout",
     "output_type": "stream",
     "text": [
      "1 0\n"
     ]
    }
   ],
   "source": [
    "x1, y1 = poligono[1]\n",
    "\n",
    "print(x1, y1)"
   ]
  },
  {
   "cell_type": "code",
   "execution_count": 96,
   "metadata": {},
   "outputs": [
    {
     "name": "stdout",
     "output_type": "stream",
     "text": [
      "(0, 0)\n",
      "(1, 0)\n",
      "(1, 1)\n",
      "(0, 1)\n"
     ]
    }
   ],
   "source": [
    "for p in poligono:\n",
    "    print(p)"
   ]
  },
  {
   "cell_type": "code",
   "execution_count": 99,
   "metadata": {},
   "outputs": [
    {
     "name": "stdout",
     "output_type": "stream",
     "text": [
      "0, 0\n",
      "1, 0\n",
      "1, 1\n",
      "0, 1\n"
     ]
    }
   ],
   "source": [
    "for p in poligono:\n",
    "    x, y = p # desacoplamos la 2-tupla en 2 variables\n",
    "    print(f\"{x}, {y}\")"
   ]
  },
  {
   "cell_type": "markdown",
   "metadata": {},
   "source": [
    "Al recorrer una lista de tuplas, podemos desacoplar los elementos directamente ahorrando una línea de código."
   ]
  },
  {
   "cell_type": "code",
   "execution_count": 98,
   "metadata": {},
   "outputs": [
    {
     "name": "stdout",
     "output_type": "stream",
     "text": [
      "0, 0\n",
      "1, 0\n",
      "1, 1\n",
      "0, 1\n"
     ]
    }
   ],
   "source": [
    "for x, y in poligono: # desacopla cada 2-tupla en x, y al recorrer cada 2-tupla del polígono\n",
    "    print(f\"{x}, {y}\")"
   ]
  },
  {
   "cell_type": "markdown",
   "metadata": {},
   "source": [
    "### Ejemplo: Calcular el centro geométrico de un polígono\n",
    "\n",
    "Un polígono es una lista de coordenadas (vértices) y el centro geométrico es el punto promedio de las x's y las y's respectivamente."
   ]
  },
  {
   "cell_type": "code",
   "execution_count": 100,
   "metadata": {},
   "outputs": [
    {
     "data": {
      "text/plain": [
       "'xp: 0.5, yp: 0.5'"
      ]
     },
     "execution_count": 100,
     "metadata": {},
     "output_type": "execute_result"
    }
   ],
   "source": [
    "poligono = [\n",
    "    (0, 0),\n",
    "    (1, 0),\n",
    "    (1, 1),\n",
    "    (0, 1)\n",
    "]\n",
    "\n",
    "xs = 0\n",
    "ys = 0\n",
    "\n",
    "for x, y in poligono:\n",
    "    xs += x\n",
    "    ys += y\n",
    "    \n",
    "xp = xs / len(poligono)\n",
    "yp = ys / len(poligono)\n",
    "\n",
    "f\"xp: {xp}, yp: {yp}\""
   ]
  },
  {
   "cell_type": "markdown",
   "metadata": {},
   "source": [
    "Podemos a partir de dos listas de la misma longitud, crear una lista acoplada (o una lista de tuplas) usando la función zip."
   ]
  },
  {
   "cell_type": "code",
   "execution_count": 102,
   "metadata": {},
   "outputs": [
    {
     "data": {
      "text/plain": [
       "[(1, 3), (2, 6), (3, 4), (4, 7), (5, 8), (6, 2)]"
      ]
     },
     "execution_count": 102,
     "metadata": {},
     "output_type": "execute_result"
    }
   ],
   "source": [
    "X = [1, 2, 3, 4, 5, 6]\n",
    "Y = [3, 6, 4, 7, 8, 2]\n",
    "\n",
    "# Con esta operación acoplamos columnas (series)\n",
    "p = list( zip(X, Y) ) # acoplamos X y Y, para tener una lista [(x, y)]\n",
    "\n",
    "p"
   ]
  },
  {
   "cell_type": "markdown",
   "metadata": {},
   "source": [
    "También podemos desacoplar una lista acoplada (lista de tuplas) en n-listas, según las n-tuplas. Usandp zip* creamos la operación inversa al acoplamiento."
   ]
  },
  {
   "cell_type": "code",
   "execution_count": 103,
   "metadata": {},
   "outputs": [
    {
     "data": {
      "text/plain": [
       "[('pedro', 'hombre'), ('ana', 'mujer'), ('luis', 'hombre'), ('bety', 'mujer')]"
      ]
     },
     "execution_count": 103,
     "metadata": {},
     "output_type": "execute_result"
    }
   ],
   "source": [
    "data = [\n",
    "    (\"pedro\", \"hombre\"), # 2-tupla\n",
    "    (\"ana\", \"mujer\"),\n",
    "    (\"luis\", \"hombre\"),\n",
    "    (\"bety\", \"mujer\"),\n",
    "]\n",
    "\n",
    "data"
   ]
  },
  {
   "cell_type": "code",
   "execution_count": 108,
   "metadata": {},
   "outputs": [
    {
     "name": "stdout",
     "output_type": "stream",
     "text": [
      "['pedro', 'ana', 'luis', 'bety']\n",
      "['hombre', 'mujer', 'hombre', 'mujer']\n"
     ]
    }
   ],
   "source": [
    "# Con esta operación desacoplamos columnas\n",
    "nombres, generos = zip(*data) # 2-tuplas (2-columnas, 2-series)\n",
    "\n",
    "# Si queremos recuperar los ejes como listas entonces los debemos convertir\n",
    "#nombres, generos = list(map(list, zip(*data))) # 2-listas (2-columnas, 2-series)\n",
    "\n",
    "print(nombres)\n",
    "print(generos)"
   ]
  },
  {
   "cell_type": "markdown",
   "metadata": {},
   "source": [
    "### Ejemplo - Generar los valores de la serie del coseno"
   ]
  },
  {
   "cell_type": "code",
   "execution_count": 105,
   "metadata": {},
   "outputs": [
    {
     "name": "stdout",
     "output_type": "stream",
     "text": [
      "[-3.141592653589793, -1.5707963267948966, 0, 1.5707963267948966, 3.141592653589793]\n",
      "[-1.0, 6.123233995736766e-17, 1.0, 6.123233995736766e-17, -1.0]\n"
     ]
    }
   ],
   "source": [
    "from math import cos, pi\n",
    "\n",
    "X = [-pi, -pi/2, 0, pi/2, pi]\n",
    "\n",
    "# Esta sintáxis es para una lista generada a partir de una iteración\n",
    "# [valor for valor in secuencia]\n",
    "# genera una lista con el `valor` para cada `valor` en la secuencia\n",
    "Y = [cos(x) for x in X] # genera una lista con el valor `cos(x)` para cada `x` en la lista de X\n",
    "\n",
    "print(X)\n",
    "print(Y)"
   ]
  },
  {
   "cell_type": "code",
   "execution_count": 107,
   "metadata": {},
   "outputs": [
    {
     "data": {
      "text/plain": [
       "[(-3.141592653589793, -1.0),\n",
       " (-1.5707963267948966, 6.123233995736766e-17),\n",
       " (0, 1.0),\n",
       " (1.5707963267948966, 6.123233995736766e-17),\n",
       " (3.141592653589793, -1.0)]"
      ]
     },
     "execution_count": 107,
     "metadata": {},
     "output_type": "execute_result"
    }
   ],
   "source": [
    "P = list(zip(X, Y))\n",
    "\n",
    "P"
   ]
  },
  {
   "cell_type": "markdown",
   "metadata": {},
   "source": [
    "Generalmente el acoplado de listas zip, se utiliza para recorrer varias series al mismo tiempo."
   ]
  },
  {
   "cell_type": "code",
   "execution_count": 109,
   "metadata": {},
   "outputs": [
    {
     "name": "stdout",
     "output_type": "stream",
     "text": [
      "1, 3, 3\n",
      "4, 6, 24\n",
      "5, 5, 25\n",
      "6, 8, 48\n",
      "9, 10, 90\n"
     ]
    }
   ],
   "source": [
    "X = [1, 4, 5, 6, 9]\n",
    "Y = [3, 6, 5, 8, 10]\n",
    "\n",
    "for x, y in zip(X, Y):\n",
    "    print(f\"{x}, {y}, {x * y}\")"
   ]
  },
  {
   "cell_type": "code",
   "execution_count": 110,
   "metadata": {},
   "outputs": [
    {
     "name": "stdout",
     "output_type": "stream",
     "text": [
      "1, 3, 3\n",
      "4, 6, 24\n",
      "5, 5, 25\n",
      "6, 8, 48\n",
      "9, 10, 90\n"
     ]
    }
   ],
   "source": [
    "for i in range(len(X)):\n",
    "    x = X[i]\n",
    "    y = Y[i]\n",
    "    print(f\"{x}, {y}, {x * y}\")"
   ]
  },
  {
   "cell_type": "code",
   "execution_count": 111,
   "metadata": {},
   "outputs": [
    {
     "name": "stdout",
     "output_type": "stream",
     "text": [
      "0: 1\n",
      "1: 4\n",
      "2: 5\n",
      "3: 6\n",
      "4: 9\n"
     ]
    }
   ],
   "source": [
    "for i, x in enumerate(X):\n",
    "    print(f\"{i}: {x}\")"
   ]
  },
  {
   "cell_type": "markdown",
   "metadata": {},
   "source": [
    "## Diccionarios\n",
    "\n",
    "Los diccionarios son valores acoplados igual que las tuplas, pero en dónde el índice (la clave) es definida por el usuario, una tupla acopla n-valores secuencialmente, por ejemplo, `(\"pedro\", \"homre\")`, dónde en índice `0` se almacena `\"pedro\"` y en el índe `1` se almacena `\"hombre\"`. Sin embargo, una forma más natural de acoplar datos es colocarlos en un diccionario, cuyas claves conozcamos perfectamente y no tengamos problemas al recuperar o cambiar la información asociada a la clave."
   ]
  },
  {
   "cell_type": "code",
   "execution_count": 112,
   "metadata": {},
   "outputs": [
    {
     "data": {
      "text/plain": [
       "{'nombre': 'pedro', 'genero': 'hombre'}"
      ]
     },
     "execution_count": 112,
     "metadata": {},
     "output_type": "execute_result"
    }
   ],
   "source": [
    "# usando tuplas acoplamos la información de una persona como: persona = (\"pedro\", \"hombre\")\n",
    "# recuperar un valor requiere conocer su índice, lo cuál puede no ser natural (¿Por qué índice 1 es hombre?)\n",
    "\n",
    "# usando diccionarios acoplamos la información de una persona, a través de claves\n",
    "persona = { \"nombre\": \"pedro\", \"genero\": \"hombre\" }\n",
    "# recuperar un valor requiere conocer su clave, esto lo vuelve más natural (hombre está almacenado en la clave genero)\n",
    "\n",
    "persona"
   ]
  },
  {
   "cell_type": "code",
   "execution_count": 116,
   "metadata": {},
   "outputs": [
    {
     "data": {
      "text/plain": [
       "{'nombre': 'ana', 'edad': 21, 'genero': 'mujer', 'casado': True, 'hijos': 4}"
      ]
     },
     "execution_count": 116,
     "metadata": {},
     "output_type": "execute_result"
    }
   ],
   "source": [
    "persona = {\n",
    "    \"nombre\": \"ana\",\n",
    "    \"edad\": 21,\n",
    "    \"genero\": \"mujer\",\n",
    "    \"casado\": True,\n",
    "    \"hijos\": 4\n",
    "}\n",
    "\n",
    "persona"
   ]
  },
  {
   "cell_type": "code",
   "execution_count": 114,
   "metadata": {},
   "outputs": [
    {
     "data": {
      "text/plain": [
       "'ana'"
      ]
     },
     "execution_count": 114,
     "metadata": {},
     "output_type": "execute_result"
    }
   ],
   "source": [
    "persona[\"nombre\"] # ana"
   ]
  },
  {
   "cell_type": "code",
   "execution_count": 117,
   "metadata": {},
   "outputs": [
    {
     "data": {
      "text/plain": [
       "True"
      ]
     },
     "execution_count": 117,
     "metadata": {},
     "output_type": "execute_result"
    }
   ],
   "source": [
    "persona[\"casado\"] # True"
   ]
  },
  {
   "cell_type": "markdown",
   "metadata": {},
   "source": [
    "Si las claves no están dentro del diccionario, debemo preguntar antes de operarlas."
   ]
  },
  {
   "cell_type": "code",
   "execution_count": 118,
   "metadata": {},
   "outputs": [
    {
     "ename": "KeyError",
     "evalue": "'nacimiento'",
     "output_type": "error",
     "traceback": [
      "\u001b[1;31m---------------------------------------------------------------\u001b[0m",
      "\u001b[1;31mKeyError\u001b[0m                      Traceback (most recent call last)",
      "\u001b[1;32m<ipython-input-118-e6ead4cd3279>\u001b[0m in \u001b[0;36m<module>\u001b[1;34m\u001b[0m\n\u001b[1;32m----> 1\u001b[1;33m \u001b[0mpersona\u001b[0m\u001b[1;33m[\u001b[0m\u001b[1;34m\"nacimiento\"\u001b[0m\u001b[1;33m]\u001b[0m \u001b[1;31m# error\u001b[0m\u001b[1;33m\u001b[0m\u001b[1;33m\u001b[0m\u001b[0m\n\u001b[0m",
      "\u001b[1;31mKeyError\u001b[0m: 'nacimiento'"
     ]
    }
   ],
   "source": [
    "persona[\"nacimiento\"] # error"
   ]
  },
  {
   "cell_type": "code",
   "execution_count": 119,
   "metadata": {},
   "outputs": [
    {
     "name": "stdout",
     "output_type": "stream",
     "text": [
      "La clave 'nacimiento' no está en el diccionario\n"
     ]
    }
   ],
   "source": [
    "if \"nacimiento\" in persona:\n",
    "    print(persona[\"nacimiento\"])\n",
    "else:\n",
    "    print(\"La clave 'nacimiento' no está en el diccionario\")"
   ]
  },
  {
   "cell_type": "code",
   "execution_count": 120,
   "metadata": {},
   "outputs": [
    {
     "name": "stdout",
     "output_type": "stream",
     "text": [
      "1999/04/17\n"
     ]
    }
   ],
   "source": [
    "persona[\"nacimiento\"] = \"1999/04/17\"\n",
    "\n",
    "if \"nacimiento\" in persona:\n",
    "    print(persona[\"nacimiento\"])\n",
    "else:\n",
    "    print(\"La clave 'nacimiento' no está en el diccionario\")"
   ]
  },
  {
   "cell_type": "markdown",
   "metadata": {},
   "source": [
    "También mediante la clave podemos modificar el valor asociado a esa clave."
   ]
  },
  {
   "cell_type": "code",
   "execution_count": 121,
   "metadata": {},
   "outputs": [
    {
     "data": {
      "text/plain": [
       "{'nombre': 'ana',\n",
       " 'edad': 20,\n",
       " 'genero': 'mujer',\n",
       " 'casado': True,\n",
       " 'hijos': 4,\n",
       " 'nacimiento': '1999/04/17'}"
      ]
     },
     "execution_count": 121,
     "metadata": {},
     "output_type": "execute_result"
    }
   ],
   "source": [
    "persona[\"edad\"] = 20\n",
    "\n",
    "persona"
   ]
  },
  {
   "cell_type": "markdown",
   "metadata": {},
   "source": [
    "Una aplicación muy común en los diccionarios es usarlos mediante listas de diccionarios, al igual que las listas de tuplas, tener listas de diccionarios nos van permitir iterar información compleja."
   ]
  },
  {
   "cell_type": "code",
   "execution_count": 122,
   "metadata": {},
   "outputs": [
    {
     "data": {
      "text/plain": [
       "[{'nombre': 'pedro', 'genero': 'hombre'},\n",
       " {'nombre': 'ana', 'genero': 'mujer'},\n",
       " {'nombre': 'juan', 'genero': 'hombre'},\n",
       " {'nombre': 'tito', 'genero': 'hombre'},\n",
       " {'nombre': 'monica', 'genero': 'mujer'}]"
      ]
     },
     "execution_count": 122,
     "metadata": {},
     "output_type": "execute_result"
    }
   ],
   "source": [
    "personas = [\n",
    "    {\n",
    "        \"nombre\": \"pedro\",\n",
    "        \"genero\": \"hombre\"\n",
    "    },\n",
    "    {\n",
    "        \"nombre\": \"ana\",\n",
    "        \"genero\": \"mujer\"\n",
    "    },\n",
    "    {\n",
    "        \"nombre\": \"juan\",\n",
    "        \"genero\": \"hombre\"\n",
    "    },\n",
    "    {\n",
    "        \"nombre\": \"tito\",\n",
    "        \"genero\": \"hombre\"\n",
    "    },\n",
    "    {\n",
    "        \"nombre\": \"monica\",\n",
    "        \"genero\": \"mujer\"\n",
    "    },\n",
    "]\n",
    "\n",
    "personas"
   ]
  },
  {
   "cell_type": "code",
   "execution_count": 123,
   "metadata": {},
   "outputs": [
    {
     "name": "stdout",
     "output_type": "stream",
     "text": [
      "pedro\n",
      "ana\n",
      "juan\n",
      "tito\n",
      "monica\n"
     ]
    }
   ],
   "source": [
    "for persona in personas:\n",
    "    print(persona[\"nombre\"])"
   ]
  },
  {
   "cell_type": "markdown",
   "metadata": {},
   "source": [
    "Cuándo trabajamos con listas, podemos generar otras listar a partir de la lista original, utilizando las listas generadas `[value for value in sequence]`."
   ]
  },
  {
   "cell_type": "code",
   "execution_count": 125,
   "metadata": {},
   "outputs": [
    {
     "data": {
      "text/plain": [
       "['pedro', 'ana', 'juan', 'tito', 'monica']"
      ]
     },
     "execution_count": 125,
     "metadata": {},
     "output_type": "execute_result"
    }
   ],
   "source": [
    "nombres = [persona[\"nombre\"] for persona in personas] # genera una lista con persona[\"nombre\"] para cada persona en la lista de personas\n",
    "\n",
    "nombres"
   ]
  },
  {
   "cell_type": "code",
   "execution_count": 127,
   "metadata": {},
   "outputs": [
    {
     "data": {
      "text/plain": [
       "['hombre', 'mujer', 'hombre', 'hombre', 'mujer']"
      ]
     },
     "execution_count": 127,
     "metadata": {},
     "output_type": "execute_result"
    }
   ],
   "source": [
    "generos = [persona[\"genero\"] for persona in personas]\n",
    "\n",
    "generos"
   ]
  },
  {
   "cell_type": "code",
   "execution_count": 128,
   "metadata": {},
   "outputs": [
    {
     "name": "stdout",
     "output_type": "stream",
     "text": [
      "pedro es hombre\n",
      "ana es mujer\n",
      "juan es hombre\n",
      "tito es hombre\n",
      "monica es mujer\n"
     ]
    }
   ],
   "source": [
    "for nombre, genero in zip(nombres, generos):\n",
    "    print(f\"{nombre} es {genero}\")"
   ]
  },
  {
   "cell_type": "code",
   "execution_count": 129,
   "metadata": {},
   "outputs": [
    {
     "name": "stdout",
     "output_type": "stream",
     "text": [
      "pedro es hombre\n",
      "ana es mujer\n",
      "juan es hombre\n",
      "tito es hombre\n",
      "monica es mujer\n"
     ]
    }
   ],
   "source": [
    "for persona in personas:\n",
    "    nombre = persona[\"nombre\"]\n",
    "    genero = persona[\"genero\"]\n",
    "    print(f\"{nombre} es {genero}\")"
   ]
  },
  {
   "cell_type": "code",
   "execution_count": 131,
   "metadata": {},
   "outputs": [
    {
     "data": {
      "text/plain": [
       "[{'nombre': 'pedro', 'genero': 'hombre'},\n",
       " {'nombre': 'ana', 'genero': 'mujer'},\n",
       " {'nombre': 'juan', 'genero': 'hombre'},\n",
       " {'nombre': 'tito', 'genero': 'hombre'},\n",
       " {'nombre': 'monica', 'genero': 'mujer'}]"
      ]
     },
     "execution_count": 131,
     "metadata": {},
     "output_type": "execute_result"
    }
   ],
   "source": [
    "personas"
   ]
  },
  {
   "cell_type": "code",
   "execution_count": 132,
   "metadata": {},
   "outputs": [
    {
     "name": "stdout",
     "output_type": "stream",
     "text": [
      "pedro (hombre)\n",
      "ana (mujer)\n",
      "juan (hombre)\n",
      "tito (hombre)\n",
      "monica (mujer)\n"
     ]
    }
   ],
   "source": [
    "for nombre, genero in zip([p[\"nombre\"] for p in personas], [p[\"genero\"] for p in personas]):\n",
    "    print(f\"{nombre} ({genero})\")"
   ]
  },
  {
   "cell_type": "code",
   "execution_count": null,
   "metadata": {},
   "outputs": [],
   "source": []
  }
 ],
 "metadata": {
  "kernelspec": {
   "display_name": "Python 3",
   "language": "python",
   "name": "python3"
  },
  "language_info": {
   "codemirror_mode": {
    "name": "ipython",
    "version": 3
   },
   "file_extension": ".py",
   "mimetype": "text/x-python",
   "name": "python",
   "nbconvert_exporter": "python",
   "pygments_lexer": "ipython3",
   "version": "3.9.0"
  }
 },
 "nbformat": 4,
 "nbformat_minor": 4
}
